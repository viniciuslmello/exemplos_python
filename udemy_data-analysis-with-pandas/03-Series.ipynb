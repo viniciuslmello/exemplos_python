{
 "cells": [
  {
   "cell_type": "code",
   "execution_count": 1,
   "id": "05683f35",
   "metadata": {},
   "outputs": [],
   "source": [
    "import pandas as pd"
   ]
  },
  {
   "cell_type": "code",
   "execution_count": 2,
   "id": "d230eeed",
   "metadata": {},
   "outputs": [],
   "source": [
    "%config Completer.use_jedi = False"
   ]
  },
  {
   "cell_type": "markdown",
   "id": "96959558",
   "metadata": {},
   "source": [
    "### Create a Series Object from a Python List"
   ]
  },
  {
   "cell_type": "code",
   "execution_count": 3,
   "id": "e3946fe1",
   "metadata": {},
   "outputs": [
    {
     "data": {
      "text/plain": [
       "0     Chocolate\n",
       "1       Vanilla\n",
       "2    Strawberry\n",
       "3    Rum Raisin\n",
       "dtype: object"
      ]
     },
     "execution_count": 3,
     "metadata": {},
     "output_type": "execute_result"
    }
   ],
   "source": [
    "ice_cream = [\"Chocolate\",\"Vanilla\",\"Strawberry\",\"Rum Raisin\"]\n",
    "\n",
    "pd.Series(ice_cream)"
   ]
  },
  {
   "cell_type": "code",
   "execution_count": 4,
   "id": "49aadddf",
   "metadata": {},
   "outputs": [
    {
     "data": {
      "text/plain": [
       "0     4\n",
       "1     8\n",
       "2    15\n",
       "3    16\n",
       "4    23\n",
       "5    42\n",
       "dtype: int64"
      ]
     },
     "execution_count": 4,
     "metadata": {},
     "output_type": "execute_result"
    }
   ],
   "source": [
    "lottery = [4, 8, 15, 16, 23, 42]\n",
    "\n",
    "pd.Series(lottery)"
   ]
  },
  {
   "cell_type": "code",
   "execution_count": 5,
   "id": "17daa681",
   "metadata": {
    "scrolled": true
   },
   "outputs": [
    {
     "data": {
      "text/plain": [
       "0     True\n",
       "1    False\n",
       "2    False\n",
       "3    False\n",
       "4     True\n",
       "dtype: bool"
      ]
     },
     "execution_count": 5,
     "metadata": {},
     "output_type": "execute_result"
    }
   ],
   "source": [
    "registrations = [True, False, False, False, True]\n",
    "\n",
    "pd.Series(registrations)"
   ]
  },
  {
   "cell_type": "markdown",
   "id": "6c088548",
   "metadata": {},
   "source": [
    "### Create a Series Object from a Python Dictionary"
   ]
  },
  {
   "cell_type": "code",
   "execution_count": 7,
   "id": "e63900dc",
   "metadata": {},
   "outputs": [
    {
     "data": {
      "text/plain": [
       "Salmon    Orange\n",
       "Tuna         Red\n",
       "Eel        Brown\n",
       "dtype: object"
      ]
     },
     "execution_count": 7,
     "metadata": {},
     "output_type": "execute_result"
    }
   ],
   "source": [
    "sushi = {\n",
    "    \"Salmon\" : \"Orange\",\n",
    "    \"Tuna\" : \"Red\",\n",
    "    \"Eel\" : \"Brown\"\n",
    "}\n",
    "\n",
    "pd.Series(sushi)"
   ]
  },
  {
   "cell_type": "markdown",
   "id": "e56bebac",
   "metadata": {},
   "source": [
    "### Exercise"
   ]
  },
  {
   "cell_type": "code",
   "execution_count": 8,
   "id": "c3493565",
   "metadata": {},
   "outputs": [],
   "source": [
    "countries_list = [\"United States\", \"France\", \"Germany\", \"Italy\"]\n",
    "countries = pd.Series(countries_list)\n",
    "\n",
    "colors_list = [\"red\", \"green\", \"blue\"]\n",
    "colors = pd.Series(colors_list)\n",
    "\n",
    "recipe = {\n",
    "    \"Flour\" : True,\n",
    "    \"Sugar\" : True,\n",
    "    \"Salt\" : False\n",
    "}\n",
    "\n",
    "series_dict = pd.Series(recipe)"
   ]
  },
  {
   "cell_type": "code",
   "execution_count": 9,
   "id": "af97ea63",
   "metadata": {},
   "outputs": [],
   "source": [
    "# Resposta do exercício\n",
    "# Import the pandas library and assign it its \"pd\" alias\n",
    "import pandas as pd\n",
    " \n",
    "# Create a list with 4 countries - United States, France, Germany, Italy\n",
    "# Create a new Series by passing in the list of countries\n",
    "# Assign the Series to a \"countries\" variable\n",
    "countries = pd.Series([\"United States\", \"France\", \"Germany\", \"Italy\"])\n",
    " \n",
    "# Create a list with 3 colors - red, green, blue\n",
    "# Create a new Series by passing in the list of colors\n",
    "# Assign the Series to a \"colors\" variable\n",
    "colors = pd.Series([\"red\", \"green\", \"blue\"])\n",
    " \n",
    "# Given the \"recipe\" dictionary below,\n",
    "# create a new Series by passing in the dictionary as the data source\n",
    "# Assign the resulting Series to a \"series_dict\" variable\n",
    "recipe = {\n",
    "  \"Flour\": True,\n",
    "  \"Sugar\": True,\n",
    "  \"Salt\": False\n",
    "}\n",
    "series_dict = pd.Series(recipe)"
   ]
  },
  {
   "cell_type": "markdown",
   "id": "32b4cfd9",
   "metadata": {},
   "source": [
    "### Intro to Methods"
   ]
  },
  {
   "cell_type": "code",
   "execution_count": 10,
   "id": "23c9044d",
   "metadata": {
    "scrolled": true
   },
   "outputs": [
    {
     "data": {
      "text/plain": [
       "0    2.99\n",
       "1    4.45\n",
       "2    1.36\n",
       "dtype: float64"
      ]
     },
     "execution_count": 10,
     "metadata": {},
     "output_type": "execute_result"
    }
   ],
   "source": [
    "prices = pd.Series([2.99, 4.45, 1.36])\n",
    "prices"
   ]
  },
  {
   "cell_type": "code",
   "execution_count": 11,
   "id": "e490864f",
   "metadata": {},
   "outputs": [
    {
     "data": {
      "text/plain": [
       "8.8"
      ]
     },
     "execution_count": 11,
     "metadata": {},
     "output_type": "execute_result"
    }
   ],
   "source": [
    "prices.sum()"
   ]
  },
  {
   "cell_type": "code",
   "execution_count": 12,
   "id": "ef75f3ef",
   "metadata": {},
   "outputs": [
    {
     "data": {
      "text/plain": [
       "18.095480000000006"
      ]
     },
     "execution_count": 12,
     "metadata": {},
     "output_type": "execute_result"
    }
   ],
   "source": [
    "prices.product()"
   ]
  },
  {
   "cell_type": "code",
   "execution_count": 13,
   "id": "46c63769",
   "metadata": {},
   "outputs": [
    {
     "data": {
      "text/plain": [
       "2.9333333333333336"
      ]
     },
     "execution_count": 13,
     "metadata": {},
     "output_type": "execute_result"
    }
   ],
   "source": [
    "prices.mean()"
   ]
  },
  {
   "cell_type": "markdown",
   "id": "404b1bdc",
   "metadata": {},
   "source": [
    "### Intro to Attributes"
   ]
  },
  {
   "cell_type": "code",
   "execution_count": 14,
   "id": "147a5027",
   "metadata": {},
   "outputs": [
    {
     "data": {
      "text/plain": [
       "0        Smart\n",
       "1     Handsome\n",
       "2     Charming\n",
       "3    Brilliant\n",
       "4       Humble\n",
       "dtype: object"
      ]
     },
     "execution_count": 14,
     "metadata": {},
     "output_type": "execute_result"
    }
   ],
   "source": [
    "adjectives = pd.Series([\"Smart\",\"Handsome\",\"Charming\",\"Brilliant\",\"Humble\"])\n",
    "adjectives"
   ]
  },
  {
   "cell_type": "code",
   "execution_count": 15,
   "id": "1799666f",
   "metadata": {},
   "outputs": [
    {
     "data": {
      "text/plain": [
       "5"
      ]
     },
     "execution_count": 15,
     "metadata": {},
     "output_type": "execute_result"
    }
   ],
   "source": [
    "adjectives.size"
   ]
  },
  {
   "cell_type": "code",
   "execution_count": 16,
   "id": "3afe4b81",
   "metadata": {},
   "outputs": [
    {
     "data": {
      "text/plain": [
       "True"
      ]
     },
     "execution_count": 16,
     "metadata": {},
     "output_type": "execute_result"
    }
   ],
   "source": [
    "adjectives.is_unique"
   ]
  },
  {
   "cell_type": "code",
   "execution_count": 17,
   "id": "550c11cf",
   "metadata": {},
   "outputs": [
    {
     "data": {
      "text/plain": [
       "False"
      ]
     },
     "execution_count": 17,
     "metadata": {},
     "output_type": "execute_result"
    }
   ],
   "source": [
    "adjectives = pd.Series([\"Smart\",\"Handsome\",\"Charming\",\"Brilliant\",\"Humble\",\"Smart\"])\n",
    "adjectives.is_unique"
   ]
  },
  {
   "cell_type": "code",
   "execution_count": 18,
   "id": "3db321bc",
   "metadata": {},
   "outputs": [
    {
     "data": {
      "text/plain": [
       "pandas.core.series.Series"
      ]
     },
     "execution_count": 18,
     "metadata": {},
     "output_type": "execute_result"
    }
   ],
   "source": [
    "type(adjectives)"
   ]
  },
  {
   "cell_type": "code",
   "execution_count": 19,
   "id": "3afac166",
   "metadata": {},
   "outputs": [
    {
     "data": {
      "text/plain": [
       "array(['Smart', 'Handsome', 'Charming', 'Brilliant', 'Humble', 'Smart'],\n",
       "      dtype=object)"
      ]
     },
     "execution_count": 19,
     "metadata": {},
     "output_type": "execute_result"
    }
   ],
   "source": [
    "adjectives.values"
   ]
  },
  {
   "cell_type": "code",
   "execution_count": 20,
   "id": "f0c9f404",
   "metadata": {},
   "outputs": [
    {
     "data": {
      "text/plain": [
       "numpy.ndarray"
      ]
     },
     "execution_count": 20,
     "metadata": {},
     "output_type": "execute_result"
    }
   ],
   "source": [
    "type(adjectives.values)"
   ]
  },
  {
   "cell_type": "code",
   "execution_count": 21,
   "id": "afb3778c",
   "metadata": {},
   "outputs": [
    {
     "data": {
      "text/plain": [
       "RangeIndex(start=0, stop=6, step=1)"
      ]
     },
     "execution_count": 21,
     "metadata": {},
     "output_type": "execute_result"
    }
   ],
   "source": [
    "adjectives.index"
   ]
  },
  {
   "cell_type": "code",
   "execution_count": 22,
   "id": "4c7bfebc",
   "metadata": {},
   "outputs": [
    {
     "data": {
      "text/plain": [
       "pandas.core.indexes.range.RangeIndex"
      ]
     },
     "execution_count": 22,
     "metadata": {},
     "output_type": "execute_result"
    }
   ],
   "source": [
    "type(adjectives.index)"
   ]
  },
  {
   "cell_type": "code",
   "execution_count": 23,
   "id": "96286a1f",
   "metadata": {},
   "outputs": [
    {
     "data": {
      "text/plain": [
       "dtype('O')"
      ]
     },
     "execution_count": 23,
     "metadata": {},
     "output_type": "execute_result"
    }
   ],
   "source": [
    "adjectives.dtype"
   ]
  },
  {
   "cell_type": "markdown",
   "id": "c120bbf3",
   "metadata": {},
   "source": [
    "### Exercise: Attributes and Methods on a Series"
   ]
  },
  {
   "cell_type": "code",
   "execution_count": 24,
   "id": "860a5791",
   "metadata": {},
   "outputs": [],
   "source": [
    "import pandas as pd\n",
    "\n",
    "# The Series below stores the number of home runs\n",
    "# that a baseball player hit per game\n",
    "home_runs = pd.Series([3, 4, 8, 2])"
   ]
  },
  {
   "cell_type": "code",
   "execution_count": 25,
   "id": "c69f6b20",
   "metadata": {},
   "outputs": [],
   "source": [
    "# Find the total number of home runs (i.e. the sum) and assign it\n",
    "# to the total_home_runs variable below\n",
    "total_home_runs = home_runs.sum()"
   ]
  },
  {
   "cell_type": "code",
   "execution_count": 26,
   "id": "4aa559aa",
   "metadata": {},
   "outputs": [],
   "source": [
    "# Find the average number of home runs and assign it\n",
    "# to the average_home_runs variable below\n",
    "average_home_runs = home_runs.mean()"
   ]
  },
  {
   "cell_type": "markdown",
   "id": "70065f29",
   "metadata": {},
   "source": [
    "### Parameters and Arguments"
   ]
  },
  {
   "cell_type": "code",
   "execution_count": 27,
   "id": "d90bd6a1",
   "metadata": {},
   "outputs": [
    {
     "data": {
      "text/plain": [
       "Monday           Apple\n",
       "Tuesday         Orange\n",
       "Wednesday         Plum\n",
       "Thursday         Grape\n",
       "Friday       Blueberry\n",
       "dtype: object"
      ]
     },
     "execution_count": 27,
     "metadata": {},
     "output_type": "execute_result"
    }
   ],
   "source": [
    "# Parameter - the name we give to an expected input\n",
    "# Argument - the value we provide to a parameter\n",
    "\n",
    "fruits = [\"Apple\", \"Orange\", \"Plum\", \"Grape\", \"Blueberry\"]\n",
    "weekdays = [\"Monday\", \"Tuesday\", \"Wednesday\", \"Thursday\", \"Friday\"]\n",
    "\n",
    "pd.Series(fruits, weekdays)"
   ]
  },
  {
   "cell_type": "code",
   "execution_count": 28,
   "id": "94e98f60",
   "metadata": {},
   "outputs": [
    {
     "data": {
      "text/plain": [
       "Apple           Monday\n",
       "Orange         Tuesday\n",
       "Plum         Wednesday\n",
       "Grape         Thursday\n",
       "Blueberry       Friday\n",
       "dtype: object"
      ]
     },
     "execution_count": 28,
     "metadata": {},
     "output_type": "execute_result"
    }
   ],
   "source": [
    "pd.Series(weekdays, fruits)"
   ]
  },
  {
   "cell_type": "code",
   "execution_count": 29,
   "id": "244db3c7",
   "metadata": {},
   "outputs": [
    {
     "data": {
      "text/plain": [
       "Apple           Monday\n",
       "Orange         Tuesday\n",
       "Plum         Wednesday\n",
       "Grape         Thursday\n",
       "Blueberry       Friday\n",
       "dtype: object"
      ]
     },
     "execution_count": 29,
     "metadata": {},
     "output_type": "execute_result"
    }
   ],
   "source": [
    "pd.Series(index = fruits, data = weekdays )"
   ]
  },
  {
   "cell_type": "code",
   "execution_count": 30,
   "id": "255438e1",
   "metadata": {},
   "outputs": [
    {
     "data": {
      "text/plain": [
       "Apple           Monday\n",
       "Orange         Tuesday\n",
       "Plum         Wednesday\n",
       "Grape         Thursday\n",
       "Blueberry       Friday\n",
       "dtype: object"
      ]
     },
     "execution_count": 30,
     "metadata": {},
     "output_type": "execute_result"
    }
   ],
   "source": [
    "pd.Series(data = weekdays, index = fruits )"
   ]
  },
  {
   "cell_type": "code",
   "execution_count": 31,
   "id": "78dad6b8",
   "metadata": {},
   "outputs": [
    {
     "data": {
      "text/plain": [
       "Monday            Apple\n",
       "Tuesday          Orange\n",
       "Wednesday          Plum\n",
       "Thursday          Grape\n",
       "Friday        Blueberry\n",
       "Monday       Watermelon\n",
       "dtype: object"
      ]
     },
     "execution_count": 31,
     "metadata": {},
     "output_type": "execute_result"
    }
   ],
   "source": [
    "# É possível ter duplicatas no index da Series. Isso difere entre o objeto Series do Panda e o Dictionary do Python \n",
    "# não pode ter duplicatas\n",
    "fruits = [\"Apple\", \"Orange\", \"Plum\", \"Grape\", \"Blueberry\", \"Watermelon\"]\n",
    "weekdays = [\"Monday\", \"Tuesday\", \"Wednesday\", \"Thursday\", \"Friday\", \"Monday\"]\n",
    "\n",
    "pd.Series(fruits, weekdays)"
   ]
  },
  {
   "cell_type": "markdown",
   "id": "cc15a38c",
   "metadata": {},
   "source": [
    "### Exercises:Parameters and Arguments"
   ]
  },
  {
   "cell_type": "code",
   "execution_count": 32,
   "id": "3c568f2a",
   "metadata": {},
   "outputs": [],
   "source": [
    "# If you see a test failure when checking your solution,\n",
    "# note that [left] refers to YOUR code while [right]\n",
    "# refers to the correct code that the computer is comparing\n",
    "# to your work\n",
    "\n",
    "# The code below defines a list of delicious foods\n",
    "# and some dipping sauces to dip them in\n",
    "import pandas as pd\n",
    "\n",
    "foods = [\"French Fries\", \"Chicken Nuggets\", \"Celery\", \"Carrots\"]\n",
    "dipping_sauces = [\"BBQ\", \"Honey Mustard\", \"Ranch\", \"Sriracha\"]\n",
    "\n",
    "# Create a Series and assign it to the s1 variable below. \n",
    "# Assign the foods list as the data source\n",
    "# and the dipping_sauces list as the Series index \n",
    "# For this solution, use positional arguments (i.e. feed in the arguments sequentially)\n",
    "s1 = pd.Series(foods, dipping_sauces)\n",
    "\n",
    "\n",
    "# Create a Series and assign it to the s2 variable below. \n",
    "# Assign the dipping_sauces list as the data source\n",
    "# and the foods list as the Series index \n",
    "# For this solution, use keyword arguments (i.e. provide the parameter names\n",
    "# alongside the arguments)\n",
    "s2 = pd.Series(data = dipping_sauces, index = foods) "
   ]
  },
  {
   "cell_type": "markdown",
   "id": "47e42ea6",
   "metadata": {},
   "source": [
    "### Import Series with the pd.read_csv Function"
   ]
  },
  {
   "cell_type": "code",
   "execution_count": 34,
   "id": "e47030a7",
   "metadata": {},
   "outputs": [
    {
     "data": {
      "text/html": [
       "<div>\n",
       "<style scoped>\n",
       "    .dataframe tbody tr th:only-of-type {\n",
       "        vertical-align: middle;\n",
       "    }\n",
       "\n",
       "    .dataframe tbody tr th {\n",
       "        vertical-align: top;\n",
       "    }\n",
       "\n",
       "    .dataframe thead th {\n",
       "        text-align: right;\n",
       "    }\n",
       "</style>\n",
       "<table border=\"1\" class=\"dataframe\">\n",
       "  <thead>\n",
       "    <tr style=\"text-align: right;\">\n",
       "      <th></th>\n",
       "      <th>Pokemon</th>\n",
       "      <th>Type</th>\n",
       "    </tr>\n",
       "  </thead>\n",
       "  <tbody>\n",
       "    <tr>\n",
       "      <th>0</th>\n",
       "      <td>Bulbasaur</td>\n",
       "      <td>Grass</td>\n",
       "    </tr>\n",
       "    <tr>\n",
       "      <th>1</th>\n",
       "      <td>Ivysaur</td>\n",
       "      <td>Grass</td>\n",
       "    </tr>\n",
       "    <tr>\n",
       "      <th>2</th>\n",
       "      <td>Venusaur</td>\n",
       "      <td>Grass</td>\n",
       "    </tr>\n",
       "    <tr>\n",
       "      <th>3</th>\n",
       "      <td>Charmander</td>\n",
       "      <td>Fire</td>\n",
       "    </tr>\n",
       "    <tr>\n",
       "      <th>4</th>\n",
       "      <td>Charmeleon</td>\n",
       "      <td>Fire</td>\n",
       "    </tr>\n",
       "    <tr>\n",
       "      <th>...</th>\n",
       "      <td>...</td>\n",
       "      <td>...</td>\n",
       "    </tr>\n",
       "    <tr>\n",
       "      <th>716</th>\n",
       "      <td>Yveltal</td>\n",
       "      <td>Dark</td>\n",
       "    </tr>\n",
       "    <tr>\n",
       "      <th>717</th>\n",
       "      <td>Zygarde</td>\n",
       "      <td>Dragon</td>\n",
       "    </tr>\n",
       "    <tr>\n",
       "      <th>718</th>\n",
       "      <td>Diancie</td>\n",
       "      <td>Rock</td>\n",
       "    </tr>\n",
       "    <tr>\n",
       "      <th>719</th>\n",
       "      <td>Hoopa</td>\n",
       "      <td>Psychic</td>\n",
       "    </tr>\n",
       "    <tr>\n",
       "      <th>720</th>\n",
       "      <td>Volcanion</td>\n",
       "      <td>Fire</td>\n",
       "    </tr>\n",
       "  </tbody>\n",
       "</table>\n",
       "<p>721 rows × 2 columns</p>\n",
       "</div>"
      ],
      "text/plain": [
       "        Pokemon     Type\n",
       "0     Bulbasaur    Grass\n",
       "1       Ivysaur    Grass\n",
       "2      Venusaur    Grass\n",
       "3    Charmander     Fire\n",
       "4    Charmeleon     Fire\n",
       "..          ...      ...\n",
       "716     Yveltal     Dark\n",
       "717     Zygarde   Dragon\n",
       "718     Diancie     Rock\n",
       "719       Hoopa  Psychic\n",
       "720   Volcanion     Fire\n",
       "\n",
       "[721 rows x 2 columns]"
      ]
     },
     "execution_count": 34,
     "metadata": {},
     "output_type": "execute_result"
    }
   ],
   "source": [
    "# Por padrão essa função retorna um objeto DataFrame\n",
    "pd.read_csv(\"data\\pokemon.csv\")"
   ]
  },
  {
   "cell_type": "code",
   "execution_count": 33,
   "id": "3f054409",
   "metadata": {},
   "outputs": [
    {
     "data": {
      "text/html": [
       "<div>\n",
       "<style scoped>\n",
       "    .dataframe tbody tr th:only-of-type {\n",
       "        vertical-align: middle;\n",
       "    }\n",
       "\n",
       "    .dataframe tbody tr th {\n",
       "        vertical-align: top;\n",
       "    }\n",
       "\n",
       "    .dataframe thead th {\n",
       "        text-align: right;\n",
       "    }\n",
       "</style>\n",
       "<table border=\"1\" class=\"dataframe\">\n",
       "  <thead>\n",
       "    <tr style=\"text-align: right;\">\n",
       "      <th></th>\n",
       "      <th>Pokemon</th>\n",
       "    </tr>\n",
       "  </thead>\n",
       "  <tbody>\n",
       "    <tr>\n",
       "      <th>0</th>\n",
       "      <td>Bulbasaur</td>\n",
       "    </tr>\n",
       "    <tr>\n",
       "      <th>1</th>\n",
       "      <td>Ivysaur</td>\n",
       "    </tr>\n",
       "    <tr>\n",
       "      <th>2</th>\n",
       "      <td>Venusaur</td>\n",
       "    </tr>\n",
       "    <tr>\n",
       "      <th>3</th>\n",
       "      <td>Charmander</td>\n",
       "    </tr>\n",
       "    <tr>\n",
       "      <th>4</th>\n",
       "      <td>Charmeleon</td>\n",
       "    </tr>\n",
       "    <tr>\n",
       "      <th>...</th>\n",
       "      <td>...</td>\n",
       "    </tr>\n",
       "    <tr>\n",
       "      <th>716</th>\n",
       "      <td>Yveltal</td>\n",
       "    </tr>\n",
       "    <tr>\n",
       "      <th>717</th>\n",
       "      <td>Zygarde</td>\n",
       "    </tr>\n",
       "    <tr>\n",
       "      <th>718</th>\n",
       "      <td>Diancie</td>\n",
       "    </tr>\n",
       "    <tr>\n",
       "      <th>719</th>\n",
       "      <td>Hoopa</td>\n",
       "    </tr>\n",
       "    <tr>\n",
       "      <th>720</th>\n",
       "      <td>Volcanion</td>\n",
       "    </tr>\n",
       "  </tbody>\n",
       "</table>\n",
       "<p>721 rows × 1 columns</p>\n",
       "</div>"
      ],
      "text/plain": [
       "        Pokemon\n",
       "0     Bulbasaur\n",
       "1       Ivysaur\n",
       "2      Venusaur\n",
       "3    Charmander\n",
       "4    Charmeleon\n",
       "..          ...\n",
       "716     Yveltal\n",
       "717     Zygarde\n",
       "718     Diancie\n",
       "719       Hoopa\n",
       "720   Volcanion\n",
       "\n",
       "[721 rows x 1 columns]"
      ]
     },
     "execution_count": 33,
     "metadata": {},
     "output_type": "execute_result"
    }
   ],
   "source": [
    "# Objeto DataFrame com uma coluna\n",
    "pd.read_csv(\"data\\pokemon.csv\", usecols=[\"Pokemon\"])"
   ]
  },
  {
   "cell_type": "code",
   "execution_count": 36,
   "id": "c1c27612",
   "metadata": {},
   "outputs": [
    {
     "data": {
      "text/plain": [
       "0       Bulbasaur\n",
       "1         Ivysaur\n",
       "2        Venusaur\n",
       "3      Charmander\n",
       "4      Charmeleon\n",
       "          ...    \n",
       "716       Yveltal\n",
       "717       Zygarde\n",
       "718       Diancie\n",
       "719         Hoopa\n",
       "720     Volcanion\n",
       "Name: Pokemon, Length: 721, dtype: object"
      ]
     },
     "execution_count": 36,
     "metadata": {},
     "output_type": "execute_result"
    }
   ],
   "source": [
    "# Transforma objeto DataFrame em um objeto Series\n",
    "pd.read_csv(\"data\\pokemon.csv\", usecols=[\"Pokemon\"]).squeeze()"
   ]
  },
  {
   "cell_type": "code",
   "execution_count": 37,
   "id": "45773231",
   "metadata": {},
   "outputs": [
    {
     "data": {
      "text/plain": [
       "0       Bulbasaur\n",
       "1         Ivysaur\n",
       "2        Venusaur\n",
       "3      Charmander\n",
       "4      Charmeleon\n",
       "          ...    \n",
       "716       Yveltal\n",
       "717       Zygarde\n",
       "718       Diancie\n",
       "719         Hoopa\n",
       "720     Volcanion\n",
       "Name: Pokemon, Length: 721, dtype: object"
      ]
     },
     "execution_count": 37,
     "metadata": {},
     "output_type": "execute_result"
    }
   ],
   "source": [
    "pokemon = pd.read_csv(\"data\\pokemon.csv\", usecols=[\"Pokemon\"]).squeeze()\n",
    "pokemon"
   ]
  },
  {
   "cell_type": "code",
   "execution_count": 38,
   "id": "bef0ecb8",
   "metadata": {},
   "outputs": [
    {
     "data": {
      "text/html": [
       "<div>\n",
       "<style scoped>\n",
       "    .dataframe tbody tr th:only-of-type {\n",
       "        vertical-align: middle;\n",
       "    }\n",
       "\n",
       "    .dataframe tbody tr th {\n",
       "        vertical-align: top;\n",
       "    }\n",
       "\n",
       "    .dataframe thead th {\n",
       "        text-align: right;\n",
       "    }\n",
       "</style>\n",
       "<table border=\"1\" class=\"dataframe\">\n",
       "  <thead>\n",
       "    <tr style=\"text-align: right;\">\n",
       "      <th></th>\n",
       "      <th>Stock Price</th>\n",
       "    </tr>\n",
       "  </thead>\n",
       "  <tbody>\n",
       "    <tr>\n",
       "      <th>0</th>\n",
       "      <td>50.12</td>\n",
       "    </tr>\n",
       "    <tr>\n",
       "      <th>1</th>\n",
       "      <td>54.10</td>\n",
       "    </tr>\n",
       "    <tr>\n",
       "      <th>2</th>\n",
       "      <td>54.65</td>\n",
       "    </tr>\n",
       "    <tr>\n",
       "      <th>3</th>\n",
       "      <td>52.38</td>\n",
       "    </tr>\n",
       "    <tr>\n",
       "      <th>4</th>\n",
       "      <td>52.95</td>\n",
       "    </tr>\n",
       "    <tr>\n",
       "      <th>...</th>\n",
       "      <td>...</td>\n",
       "    </tr>\n",
       "    <tr>\n",
       "      <th>3007</th>\n",
       "      <td>772.88</td>\n",
       "    </tr>\n",
       "    <tr>\n",
       "      <th>3008</th>\n",
       "      <td>771.07</td>\n",
       "    </tr>\n",
       "    <tr>\n",
       "      <th>3009</th>\n",
       "      <td>773.18</td>\n",
       "    </tr>\n",
       "    <tr>\n",
       "      <th>3010</th>\n",
       "      <td>771.61</td>\n",
       "    </tr>\n",
       "    <tr>\n",
       "      <th>3011</th>\n",
       "      <td>782.22</td>\n",
       "    </tr>\n",
       "  </tbody>\n",
       "</table>\n",
       "<p>3012 rows × 1 columns</p>\n",
       "</div>"
      ],
      "text/plain": [
       "      Stock Price\n",
       "0           50.12\n",
       "1           54.10\n",
       "2           54.65\n",
       "3           52.38\n",
       "4           52.95\n",
       "...           ...\n",
       "3007       772.88\n",
       "3008       771.07\n",
       "3009       773.18\n",
       "3010       771.61\n",
       "3011       782.22\n",
       "\n",
       "[3012 rows x 1 columns]"
      ]
     },
     "execution_count": 38,
     "metadata": {},
     "output_type": "execute_result"
    }
   ],
   "source": [
    "pd.read_csv(\"data\\google_stock_price.csv\")"
   ]
  },
  {
   "cell_type": "code",
   "execution_count": 39,
   "id": "a88a227f",
   "metadata": {},
   "outputs": [
    {
     "data": {
      "text/plain": [
       "0        50.12\n",
       "1        54.10\n",
       "2        54.65\n",
       "3        52.38\n",
       "4        52.95\n",
       "         ...  \n",
       "3007    772.88\n",
       "3008    771.07\n",
       "3009    773.18\n",
       "3010    771.61\n",
       "3011    782.22\n",
       "Name: Stock Price, Length: 3012, dtype: float64"
      ]
     },
     "execution_count": 39,
     "metadata": {},
     "output_type": "execute_result"
    }
   ],
   "source": [
    "google = pd.read_csv(\"data\\google_stock_price.csv\", usecols=[\"Stock Price\"]).squeeze()\n",
    "google"
   ]
  },
  {
   "cell_type": "markdown",
   "id": "81f9fc38",
   "metadata": {},
   "source": [
    "### Exercise 11: Import Series with the pd.read_csv Function"
   ]
  },
  {
   "cell_type": "code",
   "execution_count": 50,
   "id": "865f2375",
   "metadata": {},
   "outputs": [],
   "source": [
    "# If you see a test failure when checking your solution,\n",
    "# note that [left] refers to YOUR code while [right]\n",
    "# refers to the correct code that the computer is comparing\n",
    "# to your work\n",
    "\n",
    "import pandas as pd\n",
    "\n",
    "# We have a foods.csv CSV file with 3 columns: Item Number, Menu Item, Price\n",
    "# You can explore the data by clicking into the foods.csv file on the left\n",
    "# Import the CSV file into a pandas Series object\n",
    "# The Series should have the standard pandas numeric index\n",
    "# The Series values should be the string values from the \"Menu Item\" column\n",
    "# Assign the Series object to a \"foods\" variable\n",
    "# foods = pd.read_csv(\"data\\foods.csv\", usecols=[\"Item\"]).squeeze()\n",
    "# foods"
   ]
  },
  {
   "cell_type": "markdown",
   "id": "609f9dd3",
   "metadata": {},
   "source": [
    "### The head and tail Methods on a Series"
   ]
  },
  {
   "cell_type": "code",
   "execution_count": 43,
   "id": "b48a481f",
   "metadata": {},
   "outputs": [],
   "source": [
    "google = pd.read_csv(\"data\\google_stock_price.csv\", usecols=[\"Stock Price\"]).squeeze()\n",
    "pokemon = pd.read_csv(\"data\\pokemon.csv\", usecols=[\"Pokemon\"]).squeeze()"
   ]
  },
  {
   "cell_type": "code",
   "execution_count": 44,
   "id": "d4b82513",
   "metadata": {},
   "outputs": [
    {
     "data": {
      "text/plain": [
       "0     Bulbasaur\n",
       "1       Ivysaur\n",
       "2      Venusaur\n",
       "3    Charmander\n",
       "4    Charmeleon\n",
       "Name: Pokemon, dtype: object"
      ]
     },
     "execution_count": 44,
     "metadata": {},
     "output_type": "execute_result"
    }
   ],
   "source": [
    "pokemon.head()"
   ]
  },
  {
   "cell_type": "code",
   "execution_count": 45,
   "id": "f3d15bf8",
   "metadata": {},
   "outputs": [
    {
     "data": {
      "text/plain": [
       "0     Bulbasaur\n",
       "1       Ivysaur\n",
       "2      Venusaur\n",
       "3    Charmander\n",
       "4    Charmeleon\n",
       "5     Charizard\n",
       "6      Squirtle\n",
       "7     Wartortle\n",
       "8     Blastoise\n",
       "9      Caterpie\n",
       "Name: Pokemon, dtype: object"
      ]
     },
     "execution_count": 45,
     "metadata": {},
     "output_type": "execute_result"
    }
   ],
   "source": [
    "pokemon.head(n=10)"
   ]
  },
  {
   "cell_type": "code",
   "execution_count": 46,
   "id": "27620dc8",
   "metadata": {},
   "outputs": [
    {
     "data": {
      "text/plain": [
       "0     Bulbasaur\n",
       "1       Ivysaur\n",
       "2      Venusaur\n",
       "3    Charmander\n",
       "4    Charmeleon\n",
       "5     Charizard\n",
       "6      Squirtle\n",
       "7     Wartortle\n",
       "Name: Pokemon, dtype: object"
      ]
     },
     "execution_count": 46,
     "metadata": {},
     "output_type": "execute_result"
    }
   ],
   "source": [
    "pokemon.head(n=8)"
   ]
  },
  {
   "cell_type": "code",
   "execution_count": 47,
   "id": "29894b2f",
   "metadata": {},
   "outputs": [
    {
     "data": {
      "text/plain": [
       "3007    772.88\n",
       "3008    771.07\n",
       "3009    773.18\n",
       "3010    771.61\n",
       "3011    782.22\n",
       "Name: Stock Price, dtype: float64"
      ]
     },
     "execution_count": 47,
     "metadata": {},
     "output_type": "execute_result"
    }
   ],
   "source": [
    "google.tail()"
   ]
  },
  {
   "cell_type": "code",
   "execution_count": 48,
   "id": "fba0887b",
   "metadata": {
    "scrolled": true
   },
   "outputs": [
    {
     "data": {
      "text/plain": [
       "3003    738.42\n",
       "3004    741.77\n",
       "3005    745.91\n",
       "3006    768.79\n",
       "3007    772.88\n",
       "3008    771.07\n",
       "3009    773.18\n",
       "3010    771.61\n",
       "3011    782.22\n",
       "Name: Stock Price, dtype: float64"
      ]
     },
     "execution_count": 48,
     "metadata": {},
     "output_type": "execute_result"
    }
   ],
   "source": [
    "google.tail(9)"
   ]
  },
  {
   "cell_type": "markdown",
   "id": "2f9393db",
   "metadata": {},
   "source": [
    "### Exercise: The head and tail Methods on a Series"
   ]
  },
  {
   "cell_type": "code",
   "execution_count": 49,
   "id": "6b2958fa",
   "metadata": {},
   "outputs": [],
   "source": [
    "# If you see a test failure when checking your solution,\n",
    "# note that [left] refers to YOUR code while [right]\n",
    "# refers to the correct code that the computer is comparing\n",
    "# to your work\n",
    "\n",
    "import pandas as pd\n",
    "\n",
    "# We have a roller_coasters.csv CSV file with 4 columns: Name, Park, Country, and Height.\n",
    "# You can explore the data by clicking into the CSV file on the left\n",
    "# Import the CSV file into a pandas Series object\n",
    "# The Series should have the standard pandas numeric index\n",
    "# The Series values should be the string values from the \"Name\" column\n",
    "# Assign the Series object to a \"coasters\" variable\n",
    "\n",
    "\n",
    "# I only want to ride the top 3 roller coasters on the list.\n",
    "# Starting with the \"coasters\" Series, extract the first 3 rows in a new Series.\n",
    "# Assign the new Series to a \"top_three\" variable.\n",
    "\n",
    "\n",
    "# I'm now curious about some of the last entries on the coaster list.\n",
    "# Starting with the \"coasters\" Series, extract the last 4 rows in a new Series.\n",
    "# Assign the new Series to a \"bottom_four\" variable.\n",
    "\n",
    "#coasters = pd.read_csv(\"roller_coasters.csv\", usecols=[\"Name\"]).squeeze()\n",
    "#top_three = coasters.head(n=3)\n",
    "#bottom_four= coasters.tail(n=4)\n"
   ]
  },
  {
   "cell_type": "markdown",
   "id": "0dcdc5c8",
   "metadata": {},
   "source": [
    "### Passing Series to Python's Built-in Functions"
   ]
  },
  {
   "cell_type": "code",
   "execution_count": 51,
   "id": "75d711c3",
   "metadata": {},
   "outputs": [
    {
     "data": {
      "text/plain": [
       "721"
      ]
     },
     "execution_count": 51,
     "metadata": {},
     "output_type": "execute_result"
    }
   ],
   "source": [
    "len(pokemon)"
   ]
  },
  {
   "cell_type": "code",
   "execution_count": 52,
   "id": "be5a1f5c",
   "metadata": {},
   "outputs": [
    {
     "data": {
      "text/plain": [
       "pandas.core.series.Series"
      ]
     },
     "execution_count": 52,
     "metadata": {},
     "output_type": "execute_result"
    }
   ],
   "source": [
    "type(pokemon)"
   ]
  },
  {
   "cell_type": "code",
   "execution_count": 53,
   "id": "6caa9b4f",
   "metadata": {},
   "outputs": [
    {
     "data": {
      "text/plain": [
       "['T',\n",
       " '_AXIS_LEN',\n",
       " '_AXIS_ORDERS',\n",
       " '_AXIS_TO_AXIS_NUMBER',\n",
       " '_HANDLED_TYPES',\n",
       " '__abs__',\n",
       " '__add__',\n",
       " '__and__',\n",
       " '__annotations__',\n",
       " '__array__',\n",
       " '__array_priority__',\n",
       " '__array_ufunc__',\n",
       " '__bool__',\n",
       " '__class__',\n",
       " '__contains__',\n",
       " '__copy__',\n",
       " '__deepcopy__',\n",
       " '__delattr__',\n",
       " '__delitem__',\n",
       " '__dict__',\n",
       " '__dir__',\n",
       " '__divmod__',\n",
       " '__doc__',\n",
       " '__eq__',\n",
       " '__finalize__',\n",
       " '__float__',\n",
       " '__floordiv__',\n",
       " '__format__',\n",
       " '__ge__',\n",
       " '__getattr__',\n",
       " '__getattribute__',\n",
       " '__getitem__',\n",
       " '__getstate__',\n",
       " '__gt__',\n",
       " '__hash__',\n",
       " '__iadd__',\n",
       " '__iand__',\n",
       " '__ifloordiv__',\n",
       " '__imod__',\n",
       " '__imul__',\n",
       " '__init__',\n",
       " '__init_subclass__',\n",
       " '__int__',\n",
       " '__invert__',\n",
       " '__ior__',\n",
       " '__ipow__',\n",
       " '__isub__',\n",
       " '__iter__',\n",
       " '__itruediv__',\n",
       " '__ixor__',\n",
       " '__le__',\n",
       " '__len__',\n",
       " '__lt__',\n",
       " '__matmul__',\n",
       " '__mod__',\n",
       " '__module__',\n",
       " '__mul__',\n",
       " '__ne__',\n",
       " '__neg__',\n",
       " '__new__',\n",
       " '__nonzero__',\n",
       " '__or__',\n",
       " '__pos__',\n",
       " '__pow__',\n",
       " '__radd__',\n",
       " '__rand__',\n",
       " '__rdivmod__',\n",
       " '__reduce__',\n",
       " '__reduce_ex__',\n",
       " '__repr__',\n",
       " '__rfloordiv__',\n",
       " '__rmatmul__',\n",
       " '__rmod__',\n",
       " '__rmul__',\n",
       " '__ror__',\n",
       " '__round__',\n",
       " '__rpow__',\n",
       " '__rsub__',\n",
       " '__rtruediv__',\n",
       " '__rxor__',\n",
       " '__setattr__',\n",
       " '__setitem__',\n",
       " '__setstate__',\n",
       " '__sizeof__',\n",
       " '__str__',\n",
       " '__sub__',\n",
       " '__subclasshook__',\n",
       " '__truediv__',\n",
       " '__weakref__',\n",
       " '__xor__',\n",
       " '_accessors',\n",
       " '_accum_func',\n",
       " '_add_numeric_operations',\n",
       " '_agg_examples_doc',\n",
       " '_agg_see_also_doc',\n",
       " '_align_frame',\n",
       " '_align_series',\n",
       " '_append',\n",
       " '_arith_method',\n",
       " '_as_manager',\n",
       " '_attrs',\n",
       " '_binop',\n",
       " '_cacher',\n",
       " '_can_hold_na',\n",
       " '_check_inplace_and_allows_duplicate_labels',\n",
       " '_check_inplace_setting',\n",
       " '_check_is_chained_assignment_possible',\n",
       " '_check_label_or_level_ambiguity',\n",
       " '_check_setitem_copy',\n",
       " '_clear_item_cache',\n",
       " '_clip_with_one_bound',\n",
       " '_clip_with_scalar',\n",
       " '_cmp_method',\n",
       " '_consolidate',\n",
       " '_consolidate_inplace',\n",
       " '_construct_axes_dict',\n",
       " '_construct_result',\n",
       " '_constructor',\n",
       " '_constructor_expanddim',\n",
       " '_convert_dtypes',\n",
       " '_data',\n",
       " '_dir_additions',\n",
       " '_dir_deletions',\n",
       " '_drop_axis',\n",
       " '_drop_labels_or_levels',\n",
       " '_duplicated',\n",
       " '_find_valid_index',\n",
       " '_flags',\n",
       " '_get_axis',\n",
       " '_get_axis_name',\n",
       " '_get_axis_number',\n",
       " '_get_axis_resolvers',\n",
       " '_get_block_manager_axis',\n",
       " '_get_bool_data',\n",
       " '_get_cacher',\n",
       " '_get_cleaned_column_resolvers',\n",
       " '_get_index_resolvers',\n",
       " '_get_label_or_level_values',\n",
       " '_get_numeric_data',\n",
       " '_get_value',\n",
       " '_get_values',\n",
       " '_get_values_tuple',\n",
       " '_get_with',\n",
       " '_gotitem',\n",
       " '_hidden_attrs',\n",
       " '_indexed_same',\n",
       " '_info_axis',\n",
       " '_info_axis_name',\n",
       " '_info_axis_number',\n",
       " '_init_dict',\n",
       " '_init_mgr',\n",
       " '_inplace_method',\n",
       " '_internal_names',\n",
       " '_internal_names_set',\n",
       " '_is_cached',\n",
       " '_is_copy',\n",
       " '_is_label_or_level_reference',\n",
       " '_is_label_reference',\n",
       " '_is_level_reference',\n",
       " '_is_mixed_type',\n",
       " '_is_view',\n",
       " '_item_cache',\n",
       " '_ixs',\n",
       " '_logical_func',\n",
       " '_logical_method',\n",
       " '_map_values',\n",
       " '_maybe_update_cacher',\n",
       " '_memory_usage',\n",
       " '_metadata',\n",
       " '_mgr',\n",
       " '_min_count_stat_function',\n",
       " '_name',\n",
       " '_needs_reindex_multi',\n",
       " '_protect_consolidate',\n",
       " '_reduce',\n",
       " '_references',\n",
       " '_reindex_axes',\n",
       " '_reindex_indexer',\n",
       " '_reindex_multi',\n",
       " '_reindex_with_indexers',\n",
       " '_rename',\n",
       " '_replace_single',\n",
       " '_repr_data_resource_',\n",
       " '_repr_latex_',\n",
       " '_reset_cache',\n",
       " '_reset_cacher',\n",
       " '_set_as_cached',\n",
       " '_set_axis',\n",
       " '_set_axis_name',\n",
       " '_set_axis_nocheck',\n",
       " '_set_is_copy',\n",
       " '_set_labels',\n",
       " '_set_name',\n",
       " '_set_value',\n",
       " '_set_values',\n",
       " '_set_with',\n",
       " '_set_with_engine',\n",
       " '_slice',\n",
       " '_stat_axis',\n",
       " '_stat_axis_name',\n",
       " '_stat_axis_number',\n",
       " '_stat_function',\n",
       " '_stat_function_ddof',\n",
       " '_take',\n",
       " '_take_with_is_copy',\n",
       " '_to_latex_via_styler',\n",
       " '_typ',\n",
       " '_update_inplace',\n",
       " '_validate_dtype',\n",
       " '_values',\n",
       " '_where',\n",
       " 'abs',\n",
       " 'add',\n",
       " 'add_prefix',\n",
       " 'add_suffix',\n",
       " 'agg',\n",
       " 'aggregate',\n",
       " 'align',\n",
       " 'all',\n",
       " 'any',\n",
       " 'apply',\n",
       " 'argmax',\n",
       " 'argmin',\n",
       " 'argsort',\n",
       " 'array',\n",
       " 'asfreq',\n",
       " 'asof',\n",
       " 'astype',\n",
       " 'at',\n",
       " 'at_time',\n",
       " 'attrs',\n",
       " 'autocorr',\n",
       " 'axes',\n",
       " 'backfill',\n",
       " 'between',\n",
       " 'between_time',\n",
       " 'bfill',\n",
       " 'bool',\n",
       " 'clip',\n",
       " 'combine',\n",
       " 'combine_first',\n",
       " 'compare',\n",
       " 'convert_dtypes',\n",
       " 'copy',\n",
       " 'corr',\n",
       " 'count',\n",
       " 'cov',\n",
       " 'cummax',\n",
       " 'cummin',\n",
       " 'cumprod',\n",
       " 'cumsum',\n",
       " 'describe',\n",
       " 'diff',\n",
       " 'div',\n",
       " 'divide',\n",
       " 'divmod',\n",
       " 'dot',\n",
       " 'drop',\n",
       " 'drop_duplicates',\n",
       " 'droplevel',\n",
       " 'dropna',\n",
       " 'dtype',\n",
       " 'dtypes',\n",
       " 'duplicated',\n",
       " 'empty',\n",
       " 'eq',\n",
       " 'equals',\n",
       " 'ewm',\n",
       " 'expanding',\n",
       " 'explode',\n",
       " 'factorize',\n",
       " 'ffill',\n",
       " 'fillna',\n",
       " 'filter',\n",
       " 'first',\n",
       " 'first_valid_index',\n",
       " 'flags',\n",
       " 'floordiv',\n",
       " 'ge',\n",
       " 'get',\n",
       " 'groupby',\n",
       " 'gt',\n",
       " 'hasnans',\n",
       " 'head',\n",
       " 'hist',\n",
       " 'iat',\n",
       " 'idxmax',\n",
       " 'idxmin',\n",
       " 'iloc',\n",
       " 'index',\n",
       " 'infer_objects',\n",
       " 'info',\n",
       " 'interpolate',\n",
       " 'is_monotonic_decreasing',\n",
       " 'is_monotonic_increasing',\n",
       " 'is_unique',\n",
       " 'isin',\n",
       " 'isna',\n",
       " 'isnull',\n",
       " 'item',\n",
       " 'items',\n",
       " 'keys',\n",
       " 'kurt',\n",
       " 'kurtosis',\n",
       " 'last',\n",
       " 'last_valid_index',\n",
       " 'le',\n",
       " 'loc',\n",
       " 'lt',\n",
       " 'map',\n",
       " 'mask',\n",
       " 'max',\n",
       " 'mean',\n",
       " 'median',\n",
       " 'memory_usage',\n",
       " 'min',\n",
       " 'mod',\n",
       " 'mode',\n",
       " 'mul',\n",
       " 'multiply',\n",
       " 'name',\n",
       " 'nbytes',\n",
       " 'ndim',\n",
       " 'ne',\n",
       " 'nlargest',\n",
       " 'notna',\n",
       " 'notnull',\n",
       " 'nsmallest',\n",
       " 'nunique',\n",
       " 'pad',\n",
       " 'pct_change',\n",
       " 'pipe',\n",
       " 'plot',\n",
       " 'pop',\n",
       " 'pow',\n",
       " 'prod',\n",
       " 'product',\n",
       " 'quantile',\n",
       " 'radd',\n",
       " 'rank',\n",
       " 'ravel',\n",
       " 'rdiv',\n",
       " 'rdivmod',\n",
       " 'reindex',\n",
       " 'reindex_like',\n",
       " 'rename',\n",
       " 'rename_axis',\n",
       " 'reorder_levels',\n",
       " 'repeat',\n",
       " 'replace',\n",
       " 'resample',\n",
       " 'reset_index',\n",
       " 'rfloordiv',\n",
       " 'rmod',\n",
       " 'rmul',\n",
       " 'rolling',\n",
       " 'round',\n",
       " 'rpow',\n",
       " 'rsub',\n",
       " 'rtruediv',\n",
       " 'sample',\n",
       " 'searchsorted',\n",
       " 'sem',\n",
       " 'set_axis',\n",
       " 'set_flags',\n",
       " 'shape',\n",
       " 'shift',\n",
       " 'size',\n",
       " 'skew',\n",
       " 'sort_index',\n",
       " 'sort_values',\n",
       " 'squeeze',\n",
       " 'std',\n",
       " 'str',\n",
       " 'sub',\n",
       " 'subtract',\n",
       " 'sum',\n",
       " 'swapaxes',\n",
       " 'swaplevel',\n",
       " 'tail',\n",
       " 'take',\n",
       " 'to_clipboard',\n",
       " 'to_csv',\n",
       " 'to_dict',\n",
       " 'to_excel',\n",
       " 'to_frame',\n",
       " 'to_hdf',\n",
       " 'to_json',\n",
       " 'to_latex',\n",
       " 'to_list',\n",
       " 'to_markdown',\n",
       " 'to_numpy',\n",
       " 'to_period',\n",
       " 'to_pickle',\n",
       " 'to_sql',\n",
       " 'to_string',\n",
       " 'to_timestamp',\n",
       " 'to_xarray',\n",
       " 'transform',\n",
       " 'transpose',\n",
       " 'truediv',\n",
       " 'truncate',\n",
       " 'tz_convert',\n",
       " 'tz_localize',\n",
       " 'unique',\n",
       " 'unstack',\n",
       " 'update',\n",
       " 'value_counts',\n",
       " 'values',\n",
       " 'var',\n",
       " 'view',\n",
       " 'where',\n",
       " 'xs']"
      ]
     },
     "execution_count": 53,
     "metadata": {},
     "output_type": "execute_result"
    }
   ],
   "source": [
    "dir(pokemon)"
   ]
  },
  {
   "cell_type": "code",
   "execution_count": 54,
   "id": "0ea61658",
   "metadata": {},
   "outputs": [
    {
     "data": {
      "text/plain": [
       "['Abomasnow',\n",
       " 'Abra',\n",
       " 'Absol',\n",
       " 'Accelgor',\n",
       " 'Aegislash',\n",
       " 'Aerodactyl',\n",
       " 'Aggron',\n",
       " 'Aipom',\n",
       " 'Alakazam',\n",
       " 'Alomomola',\n",
       " 'Altaria',\n",
       " 'Amaura',\n",
       " 'Ambipom',\n",
       " 'Amoonguss',\n",
       " 'Ampharos',\n",
       " 'Anorith',\n",
       " 'Arbok',\n",
       " 'Arcanine',\n",
       " 'Arceus',\n",
       " 'Archen',\n",
       " 'Archeops',\n",
       " 'Ariados',\n",
       " 'Armaldo',\n",
       " 'Aromatisse',\n",
       " 'Aron',\n",
       " 'Articuno',\n",
       " 'Audino',\n",
       " 'Aurorus',\n",
       " 'Avalugg',\n",
       " 'Axew',\n",
       " 'Azelf',\n",
       " 'Azumarill',\n",
       " 'Azurill',\n",
       " 'Bagon',\n",
       " 'Baltoy',\n",
       " 'Banette',\n",
       " 'Barbaracle',\n",
       " 'Barboach',\n",
       " 'Basculin',\n",
       " 'Bastiodon',\n",
       " 'Bayleef',\n",
       " 'Beartic',\n",
       " 'Beautifly',\n",
       " 'Beedrill',\n",
       " 'Beheeyem',\n",
       " 'Beldum',\n",
       " 'Bellossom',\n",
       " 'Bellsprout',\n",
       " 'Bergmite',\n",
       " 'Bibarel',\n",
       " 'Bidoof',\n",
       " 'Binacle',\n",
       " 'Bisharp',\n",
       " 'Blastoise',\n",
       " 'Blaziken',\n",
       " 'Blissey',\n",
       " 'Blitzle',\n",
       " 'Boldore',\n",
       " 'Bonsly',\n",
       " 'Bouffalant',\n",
       " 'Braixen',\n",
       " 'Braviary',\n",
       " 'Breloom',\n",
       " 'Bronzong',\n",
       " 'Bronzor',\n",
       " 'Budew',\n",
       " 'Buizel',\n",
       " 'Bulbasaur',\n",
       " 'Buneary',\n",
       " 'Bunnelby',\n",
       " 'Burmy',\n",
       " 'Butterfree',\n",
       " 'Cacnea',\n",
       " 'Cacturne',\n",
       " 'Camerupt',\n",
       " 'Carbink',\n",
       " 'Carnivine',\n",
       " 'Carracosta',\n",
       " 'Carvanha',\n",
       " 'Cascoon',\n",
       " 'Castform',\n",
       " 'Caterpie',\n",
       " 'Celebi',\n",
       " 'Chandelure',\n",
       " 'Chansey',\n",
       " 'Charizard',\n",
       " 'Charmander',\n",
       " 'Charmeleon',\n",
       " 'Chatot',\n",
       " 'Cherrim',\n",
       " 'Cherubi',\n",
       " 'Chesnaught',\n",
       " 'Chespin',\n",
       " 'Chikorita',\n",
       " 'Chimchar',\n",
       " 'Chimecho',\n",
       " 'Chinchou',\n",
       " 'Chingling',\n",
       " 'Cinccino',\n",
       " 'Clamperl',\n",
       " 'Clauncher',\n",
       " 'Clawitzer',\n",
       " 'Claydol',\n",
       " 'Clefable',\n",
       " 'Clefairy',\n",
       " 'Cleffa',\n",
       " 'Cloyster',\n",
       " 'Cobalion',\n",
       " 'Cofagrigus',\n",
       " 'Combee',\n",
       " 'Combusken',\n",
       " 'Conkeldurr',\n",
       " 'Corphish',\n",
       " 'Corsola',\n",
       " 'Cottonee',\n",
       " 'Cradily',\n",
       " 'Cranidos',\n",
       " 'Crawdaunt',\n",
       " 'Cresselia',\n",
       " 'Croagunk',\n",
       " 'Crobat',\n",
       " 'Croconaw',\n",
       " 'Crustle',\n",
       " 'Cryogonal',\n",
       " 'Cubchoo',\n",
       " 'Cubone',\n",
       " 'Cyndaquil',\n",
       " 'Darkrai',\n",
       " 'Darmanitan',\n",
       " 'Darumaka',\n",
       " 'Dedenne',\n",
       " 'Deerling',\n",
       " 'Deino',\n",
       " 'Delcatty',\n",
       " 'Delibird',\n",
       " 'Delphox',\n",
       " 'Deoxys',\n",
       " 'Dewgong',\n",
       " 'Dewott',\n",
       " 'Dialga',\n",
       " 'Diancie',\n",
       " 'Diggersby',\n",
       " 'Diglett',\n",
       " 'Ditto',\n",
       " 'Dodrio',\n",
       " 'Doduo',\n",
       " 'Donphan',\n",
       " 'Doublade',\n",
       " 'Dragalge',\n",
       " 'Dragonair',\n",
       " 'Dragonite',\n",
       " 'Drapion',\n",
       " 'Dratini',\n",
       " 'Drifblim',\n",
       " 'Drifloon',\n",
       " 'Drilbur',\n",
       " 'Drowzee',\n",
       " 'Druddigon',\n",
       " 'Ducklett',\n",
       " 'Dugtrio',\n",
       " 'Dunsparce',\n",
       " 'Duosion',\n",
       " 'Durant',\n",
       " 'Dusclops',\n",
       " 'Dusknoir',\n",
       " 'Duskull',\n",
       " 'Dustox',\n",
       " 'Dwebble',\n",
       " 'Eelektrik',\n",
       " 'Eelektross',\n",
       " 'Eevee',\n",
       " 'Ekans',\n",
       " 'Electabuzz',\n",
       " 'Electivire',\n",
       " 'Electrike',\n",
       " 'Electrode',\n",
       " 'Elekid',\n",
       " 'Elgyem',\n",
       " 'Emboar',\n",
       " 'Emolga',\n",
       " 'Empoleon',\n",
       " 'Entei',\n",
       " 'Escavalier',\n",
       " 'Espeon',\n",
       " 'Espurr',\n",
       " 'Excadrill',\n",
       " 'Exeggcute',\n",
       " 'Exeggutor',\n",
       " 'Exploud',\n",
       " \"Farfetch'd\",\n",
       " 'Fearow',\n",
       " 'Feebas',\n",
       " 'Fennekin',\n",
       " 'Feraligatr',\n",
       " 'Ferroseed',\n",
       " 'Ferrothorn',\n",
       " 'Finneon',\n",
       " 'Flaaffy',\n",
       " 'Flabébé',\n",
       " 'Flareon',\n",
       " 'Fletchinder',\n",
       " 'Fletchling',\n",
       " 'Floatzel',\n",
       " 'Floette',\n",
       " 'Florges',\n",
       " 'Flygon',\n",
       " 'Foongus',\n",
       " 'Forretress',\n",
       " 'Fraxure',\n",
       " 'Frillish',\n",
       " 'Froakie',\n",
       " 'Frogadier',\n",
       " 'Froslass',\n",
       " 'Furfrou',\n",
       " 'Furret',\n",
       " 'Gabite',\n",
       " 'Gallade',\n",
       " 'Galvantula',\n",
       " 'Garbodor',\n",
       " 'Garchomp',\n",
       " 'Gardevoir',\n",
       " 'Gastly',\n",
       " 'Gastrodon',\n",
       " 'Genesect',\n",
       " 'Gengar',\n",
       " 'Geodude',\n",
       " 'Gible',\n",
       " 'Gigalith',\n",
       " 'Girafarig',\n",
       " 'Giratina',\n",
       " 'Glaceon',\n",
       " 'Glalie',\n",
       " 'Glameow',\n",
       " 'Gligar',\n",
       " 'Gliscor',\n",
       " 'Gloom',\n",
       " 'Gogoat',\n",
       " 'Golbat',\n",
       " 'Goldeen',\n",
       " 'Golduck',\n",
       " 'Golem',\n",
       " 'Golett',\n",
       " 'Golurk',\n",
       " 'Goodra',\n",
       " 'Goomy',\n",
       " 'Gorebyss',\n",
       " 'Gothita',\n",
       " 'Gothitelle',\n",
       " 'Gothorita',\n",
       " 'Gourgeist',\n",
       " 'Granbull',\n",
       " 'Graveler',\n",
       " 'Greninja',\n",
       " 'Grimer',\n",
       " 'Grotle',\n",
       " 'Groudon',\n",
       " 'Grovyle',\n",
       " 'Growlithe',\n",
       " 'Grumpig',\n",
       " 'Gulpin',\n",
       " 'Gurdurr',\n",
       " 'Gyarados',\n",
       " 'Happiny',\n",
       " 'Hariyama',\n",
       " 'Haunter',\n",
       " 'Hawlucha',\n",
       " 'Haxorus',\n",
       " 'Heatmor',\n",
       " 'Heatran',\n",
       " 'Heliolisk',\n",
       " 'Helioptile',\n",
       " 'Heracross',\n",
       " 'Herdier',\n",
       " 'Hippopotas',\n",
       " 'Hippowdon',\n",
       " 'Hitmonchan',\n",
       " 'Hitmonlee',\n",
       " 'Hitmontop',\n",
       " 'Ho-oh',\n",
       " 'Honchkrow',\n",
       " 'Honedge',\n",
       " 'Hoopa',\n",
       " 'Hoothoot',\n",
       " 'Hoppip',\n",
       " 'Horsea',\n",
       " 'Houndoom',\n",
       " 'Houndour',\n",
       " 'Huntail',\n",
       " 'Hydreigon',\n",
       " 'Hypno',\n",
       " 'Igglybuff',\n",
       " 'Illumise',\n",
       " 'Infernape',\n",
       " 'Inkay',\n",
       " 'Ivysaur',\n",
       " 'Jellicent',\n",
       " 'Jigglypuff',\n",
       " 'Jirachi',\n",
       " 'Jolteon',\n",
       " 'Joltik',\n",
       " 'Jumpluff',\n",
       " 'Jynx',\n",
       " 'Kabuto',\n",
       " 'Kabutops',\n",
       " 'Kadabra',\n",
       " 'Kakuna',\n",
       " 'Kangaskhan',\n",
       " 'Karrablast',\n",
       " 'Kecleon',\n",
       " 'Keldeo',\n",
       " 'Kingdra',\n",
       " 'Kingler',\n",
       " 'Kirlia',\n",
       " 'Klang',\n",
       " 'Klefki',\n",
       " 'Klink',\n",
       " 'Klinklang',\n",
       " 'Koffing',\n",
       " 'Krabby',\n",
       " 'Kricketot',\n",
       " 'Kricketune',\n",
       " 'Krokorok',\n",
       " 'Krookodile',\n",
       " 'Kyogre',\n",
       " 'Kyurem',\n",
       " 'Lairon',\n",
       " 'Lampent',\n",
       " 'Landorus',\n",
       " 'Lanturn',\n",
       " 'Lapras',\n",
       " 'Larvesta',\n",
       " 'Larvitar',\n",
       " 'Latias',\n",
       " 'Latios',\n",
       " 'Leafeon',\n",
       " 'Leavanny',\n",
       " 'Ledian',\n",
       " 'Ledyba',\n",
       " 'Lickilicky',\n",
       " 'Lickitung',\n",
       " 'Liepard',\n",
       " 'Lileep',\n",
       " 'Lilligant',\n",
       " 'Lillipup',\n",
       " 'Linoone',\n",
       " 'Litleo',\n",
       " 'Litwick',\n",
       " 'Lombre',\n",
       " 'Lopunny',\n",
       " 'Lotad',\n",
       " 'Loudred',\n",
       " 'Lucario',\n",
       " 'Ludicolo',\n",
       " 'Lugia',\n",
       " 'Lumineon',\n",
       " 'Lunatone',\n",
       " 'Luvdisc',\n",
       " 'Luxio',\n",
       " 'Luxray',\n",
       " 'Machamp',\n",
       " 'Machoke',\n",
       " 'Machop',\n",
       " 'Magby',\n",
       " 'Magcargo',\n",
       " 'Magikarp',\n",
       " 'Magmar',\n",
       " 'Magmortar',\n",
       " 'Magnemite',\n",
       " 'Magneton',\n",
       " 'Magnezone',\n",
       " 'Makuhita',\n",
       " 'Malamar',\n",
       " 'Mamoswine',\n",
       " 'Manaphy',\n",
       " 'Mandibuzz',\n",
       " 'Manectric',\n",
       " 'Mankey',\n",
       " 'Mantine',\n",
       " 'Mantyke',\n",
       " 'Maractus',\n",
       " 'Mareep',\n",
       " 'Marill',\n",
       " 'Marowak',\n",
       " 'Marshtomp',\n",
       " 'Masquerain',\n",
       " 'Mawile',\n",
       " 'Medicham',\n",
       " 'Meditite',\n",
       " 'Meganium',\n",
       " 'Meloetta',\n",
       " 'Meowstic',\n",
       " 'Meowth',\n",
       " 'Mesprit',\n",
       " 'Metagross',\n",
       " 'Metang',\n",
       " 'Metapod',\n",
       " 'Mew',\n",
       " 'Mewtwo',\n",
       " 'Mienfoo',\n",
       " 'Mienshao',\n",
       " 'Mightyena',\n",
       " 'Milotic',\n",
       " 'Miltank',\n",
       " 'Mime Jr.',\n",
       " 'Minccino',\n",
       " 'Minun',\n",
       " 'Misdreavus',\n",
       " 'Mismagius',\n",
       " 'Moltres',\n",
       " 'Monferno',\n",
       " 'Mothim',\n",
       " 'Mr. Mime',\n",
       " 'Mudkip',\n",
       " 'Muk',\n",
       " 'Munchlax',\n",
       " 'Munna',\n",
       " 'Murkrow',\n",
       " 'Musharna',\n",
       " 'Natu',\n",
       " 'Nidoking',\n",
       " 'Nidoqueen',\n",
       " 'Nidoran',\n",
       " 'Nidoran♂',\n",
       " 'Nidorina',\n",
       " 'Nidorino',\n",
       " 'Nincada',\n",
       " 'Ninetales',\n",
       " 'Ninjask',\n",
       " 'Noctowl',\n",
       " 'Noibat',\n",
       " 'Noivern',\n",
       " 'Nosepass',\n",
       " 'Numel',\n",
       " 'Nuzleaf',\n",
       " 'Octillery',\n",
       " 'Oddish',\n",
       " 'Omanyte',\n",
       " 'Omastar',\n",
       " 'Onix',\n",
       " 'Oshawott',\n",
       " 'Pachirisu',\n",
       " 'Palkia',\n",
       " 'Palpitoad',\n",
       " 'Pancham',\n",
       " 'Pangoro',\n",
       " 'Panpour',\n",
       " 'Pansage',\n",
       " 'Pansear',\n",
       " 'Paras',\n",
       " 'Parasect',\n",
       " 'Patrat',\n",
       " 'Pawniard',\n",
       " 'Pelipper',\n",
       " 'Persian',\n",
       " 'Petilil',\n",
       " 'Phanpy',\n",
       " 'Phantump',\n",
       " 'Phione',\n",
       " 'Pichu',\n",
       " 'Pidgeot',\n",
       " 'Pidgeotto',\n",
       " 'Pidgey',\n",
       " 'Pidove',\n",
       " 'Pignite',\n",
       " 'Pikachu',\n",
       " 'Piloswine',\n",
       " 'Pineco',\n",
       " 'Pinsir',\n",
       " 'Piplup',\n",
       " 'Plusle',\n",
       " 'Politoed',\n",
       " 'Poliwag',\n",
       " 'Poliwhirl',\n",
       " 'Poliwrath',\n",
       " 'Ponyta',\n",
       " 'Poochyena',\n",
       " 'Porygon',\n",
       " 'Porygon-Z',\n",
       " 'Porygon2',\n",
       " 'Primeape',\n",
       " 'Prinplup',\n",
       " 'Probopass',\n",
       " 'Psyduck',\n",
       " 'Pumpkaboo',\n",
       " 'Pupitar',\n",
       " 'Purrloin',\n",
       " 'Purugly',\n",
       " 'Pyroar',\n",
       " 'Quagsire',\n",
       " 'Quilava',\n",
       " 'Quilladin',\n",
       " 'Qwilfish',\n",
       " 'Raichu',\n",
       " 'Raikou',\n",
       " 'Ralts',\n",
       " 'Rampardos',\n",
       " 'Rapidash',\n",
       " 'Raticate',\n",
       " 'Rattata',\n",
       " 'Rayquaza',\n",
       " 'Regice',\n",
       " 'Regigigas',\n",
       " 'Regirock',\n",
       " 'Registeel',\n",
       " 'Relicanth',\n",
       " 'Remoraid',\n",
       " 'Reshiram',\n",
       " 'Reuniclus',\n",
       " 'Rhydon',\n",
       " 'Rhyhorn',\n",
       " 'Rhyperior',\n",
       " 'Riolu',\n",
       " 'Roggenrola',\n",
       " 'Roselia',\n",
       " 'Roserade',\n",
       " 'Rotom',\n",
       " 'Rufflet',\n",
       " 'Sableye',\n",
       " 'Salamence',\n",
       " 'Samurott',\n",
       " 'Sandile',\n",
       " 'Sandshrew',\n",
       " 'Sandslash',\n",
       " 'Sawk',\n",
       " 'Sawsbuck',\n",
       " 'Scatterbug',\n",
       " 'Sceptile',\n",
       " 'Scizor',\n",
       " 'Scolipede',\n",
       " 'Scrafty',\n",
       " 'Scraggy',\n",
       " 'Scyther',\n",
       " 'Seadra',\n",
       " 'Seaking',\n",
       " 'Sealeo',\n",
       " 'Seedot',\n",
       " 'Seel',\n",
       " 'Seismitoad',\n",
       " 'Sentret',\n",
       " 'Serperior',\n",
       " 'Servine',\n",
       " 'Seviper',\n",
       " 'Sewaddle',\n",
       " 'Sharpedo',\n",
       " 'Shaymin',\n",
       " 'Shedinja',\n",
       " 'Shelgon',\n",
       " 'Shellder',\n",
       " 'Shellos',\n",
       " 'Shelmet',\n",
       " 'Shieldon',\n",
       " 'Shiftry',\n",
       " 'Shinx',\n",
       " 'Shroomish',\n",
       " 'Shuckle',\n",
       " 'Shuppet',\n",
       " 'Sigilyph',\n",
       " 'Silcoon',\n",
       " 'Simipour',\n",
       " 'Simisage',\n",
       " 'Simisear',\n",
       " 'Skarmory',\n",
       " 'Skiddo',\n",
       " 'Skiploom',\n",
       " 'Skitty',\n",
       " 'Skorupi',\n",
       " 'Skrelp',\n",
       " 'Skuntank',\n",
       " 'Slaking',\n",
       " 'Slakoth',\n",
       " 'Sliggoo',\n",
       " 'Slowbro',\n",
       " 'Slowking',\n",
       " 'Slowpoke',\n",
       " 'Slugma',\n",
       " 'Slurpuff',\n",
       " 'Smeargle',\n",
       " 'Smoochum',\n",
       " 'Sneasel',\n",
       " 'Snivy',\n",
       " 'Snorlax',\n",
       " 'Snorunt',\n",
       " 'Snover',\n",
       " 'Snubbull',\n",
       " 'Solosis',\n",
       " 'Solrock',\n",
       " 'Spearow',\n",
       " 'Spewpa',\n",
       " 'Spheal',\n",
       " 'Spinarak',\n",
       " 'Spinda',\n",
       " 'Spiritomb',\n",
       " 'Spoink',\n",
       " 'Spritzee',\n",
       " 'Squirtle',\n",
       " 'Stantler',\n",
       " 'Staraptor',\n",
       " 'Staravia',\n",
       " 'Starly',\n",
       " 'Starmie',\n",
       " 'Staryu',\n",
       " 'Steelix',\n",
       " 'Stoutland',\n",
       " 'Stunfisk',\n",
       " 'Stunky',\n",
       " 'Sudowoodo',\n",
       " 'Suicune',\n",
       " 'Sunflora',\n",
       " 'Sunkern',\n",
       " 'Surskit',\n",
       " 'Swablu',\n",
       " 'Swadloon',\n",
       " 'Swalot',\n",
       " 'Swampert',\n",
       " 'Swanna',\n",
       " 'Swellow',\n",
       " 'Swinub',\n",
       " 'Swirlix',\n",
       " 'Swoobat',\n",
       " 'Sylveon',\n",
       " 'Taillow',\n",
       " 'Talonflame',\n",
       " 'Tangela',\n",
       " 'Tangrowth',\n",
       " 'Tauros',\n",
       " 'Teddiursa',\n",
       " 'Tentacool',\n",
       " 'Tentacruel',\n",
       " 'Tepig',\n",
       " 'Terrakion',\n",
       " 'Throh',\n",
       " 'Thundurus',\n",
       " 'Timburr',\n",
       " 'Tirtouga',\n",
       " 'Togekiss',\n",
       " 'Togepi',\n",
       " 'Togetic',\n",
       " 'Torchic',\n",
       " 'Torkoal',\n",
       " 'Tornadus',\n",
       " 'Torterra',\n",
       " 'Totodile',\n",
       " 'Toxicroak',\n",
       " 'Tranquill',\n",
       " 'Trapinch',\n",
       " 'Treecko',\n",
       " 'Trevenant',\n",
       " 'Tropius',\n",
       " 'Trubbish',\n",
       " 'Turtwig',\n",
       " 'Tympole',\n",
       " 'Tynamo',\n",
       " 'Typhlosion',\n",
       " 'Tyranitar',\n",
       " 'Tyrantrum',\n",
       " 'Tyrogue',\n",
       " 'Tyrunt',\n",
       " 'Umbreon',\n",
       " 'Unfezant',\n",
       " 'Unown',\n",
       " 'Ursaring',\n",
       " 'Uxie',\n",
       " 'Vanillish',\n",
       " 'Vanillite',\n",
       " 'Vanilluxe',\n",
       " 'Vaporeon',\n",
       " 'Venipede',\n",
       " 'Venomoth',\n",
       " 'Venonat',\n",
       " 'Venusaur',\n",
       " 'Vespiquen',\n",
       " 'Vibrava',\n",
       " 'Victini',\n",
       " 'Victreebel',\n",
       " 'Vigoroth',\n",
       " 'Vileplume',\n",
       " 'Virizion',\n",
       " 'Vivillon',\n",
       " 'Volbeat',\n",
       " 'Volcanion',\n",
       " 'Volcarona',\n",
       " 'Voltorb',\n",
       " 'Vullaby',\n",
       " 'Vulpix',\n",
       " 'Wailmer',\n",
       " 'Wailord',\n",
       " 'Walrein',\n",
       " 'Wartortle',\n",
       " 'Watchog',\n",
       " 'Weavile',\n",
       " 'Weedle',\n",
       " 'Weepinbell',\n",
       " 'Weezing',\n",
       " 'Whimsicott',\n",
       " 'Whirlipede',\n",
       " 'Whiscash',\n",
       " 'Whismur',\n",
       " 'Wigglytuff',\n",
       " 'Wingull',\n",
       " 'Wobbuffet',\n",
       " 'Woobat',\n",
       " 'Wooper',\n",
       " 'Wormadam',\n",
       " 'Wurmple',\n",
       " 'Wynaut',\n",
       " 'Xatu',\n",
       " 'Xerneas',\n",
       " 'Yamask',\n",
       " 'Yanma',\n",
       " 'Yanmega',\n",
       " 'Yveltal',\n",
       " 'Zangoose',\n",
       " 'Zapdos',\n",
       " 'Zebstrika',\n",
       " 'Zekrom',\n",
       " 'Zigzagoon',\n",
       " 'Zoroark',\n",
       " 'Zorua',\n",
       " 'Zubat',\n",
       " 'Zweilous',\n",
       " 'Zygarde']"
      ]
     },
     "execution_count": 54,
     "metadata": {},
     "output_type": "execute_result"
    }
   ],
   "source": [
    "sorted(pokemon)"
   ]
  },
  {
   "cell_type": "code",
   "execution_count": 55,
   "id": "1947db4a",
   "metadata": {},
   "outputs": [
    {
     "data": {
      "text/plain": [
       "list"
      ]
     },
     "execution_count": 55,
     "metadata": {},
     "output_type": "execute_result"
    }
   ],
   "source": [
    "type(sorted(pokemon))"
   ]
  },
  {
   "cell_type": "code",
   "execution_count": 56,
   "id": "303966b7",
   "metadata": {},
   "outputs": [
    {
     "data": {
      "text/plain": [
       "[49.95,\n",
       " 50.07,\n",
       " 50.12,\n",
       " 50.7,\n",
       " 50.74,\n",
       " 50.95,\n",
       " 51.1,\n",
       " 51.1,\n",
       " 51.13,\n",
       " 52.38,\n",
       " 52.61,\n",
       " 52.95,\n",
       " 53.02,\n",
       " 53.7,\n",
       " 53.9,\n",
       " 54.1,\n",
       " 54.65,\n",
       " 55.69,\n",
       " 55.94,\n",
       " 56.93,\n",
       " 58.69,\n",
       " 58.86,\n",
       " 59.07,\n",
       " 59.13,\n",
       " 59.62,\n",
       " 59.86,\n",
       " 60.35,\n",
       " 63.37,\n",
       " 64.74,\n",
       " 65.47,\n",
       " 66.22,\n",
       " 67.46,\n",
       " 67.56,\n",
       " 68.47,\n",
       " 68.63,\n",
       " 68.8,\n",
       " 69.12,\n",
       " 69.36,\n",
       " 70.17,\n",
       " 70.38,\n",
       " 70.93,\n",
       " 71.98,\n",
       " 73.9,\n",
       " 74.51,\n",
       " 74.62,\n",
       " 82.47,\n",
       " 83.68,\n",
       " 83.69,\n",
       " 83.85,\n",
       " 84.27,\n",
       " 84.59,\n",
       " 84.62,\n",
       " 84.91,\n",
       " 85.14,\n",
       " 85.63,\n",
       " 85.74,\n",
       " 86.13,\n",
       " 86.16,\n",
       " 86.19,\n",
       " 86.19,\n",
       " 86.63,\n",
       " 87.29,\n",
       " 87.41,\n",
       " 87.71,\n",
       " 88.06,\n",
       " 88.15,\n",
       " 88.47,\n",
       " 88.81,\n",
       " 89.21,\n",
       " 89.22,\n",
       " 89.26,\n",
       " 89.4,\n",
       " 89.54,\n",
       " 89.56,\n",
       " 89.61,\n",
       " 89.61,\n",
       " 89.7,\n",
       " 89.8,\n",
       " 89.89,\n",
       " 89.9,\n",
       " 89.93,\n",
       " 89.93,\n",
       " 89.95,\n",
       " 90.11,\n",
       " 90.13,\n",
       " 90.16,\n",
       " 90.27,\n",
       " 90.35,\n",
       " 90.43,\n",
       " 90.58,\n",
       " 90.62,\n",
       " 90.81,\n",
       " 90.9,\n",
       " 90.91,\n",
       " 91.42,\n",
       " 91.78,\n",
       " 92.26,\n",
       " 92.34,\n",
       " 92.41,\n",
       " 92.42,\n",
       " 92.5,\n",
       " 92.51,\n",
       " 92.55,\n",
       " 92.84,\n",
       " 92.86,\n",
       " 92.89,\n",
       " 92.94,\n",
       " 93.06,\n",
       " 93.39,\n",
       " 93.41,\n",
       " 93.61,\n",
       " 93.61,\n",
       " 93.86,\n",
       " 93.9,\n",
       " 93.9,\n",
       " 93.95,\n",
       " 94.05,\n",
       " 94.18,\n",
       " 94.19,\n",
       " 94.31,\n",
       " 94.35,\n",
       " 94.52,\n",
       " 94.53,\n",
       " 95.07,\n",
       " 95.22,\n",
       " 95.59,\n",
       " 95.6,\n",
       " 95.63,\n",
       " 95.69,\n",
       " 95.74,\n",
       " 95.85,\n",
       " 95.86,\n",
       " 95.93,\n",
       " 96.28,\n",
       " 96.3,\n",
       " 96.35,\n",
       " 96.37,\n",
       " 96.4,\n",
       " 96.52,\n",
       " 96.55,\n",
       " 96.66,\n",
       " 96.67,\n",
       " 96.78,\n",
       " 96.83,\n",
       " 96.86,\n",
       " 96.88,\n",
       " 96.88,\n",
       " 97.15,\n",
       " 97.34,\n",
       " 97.43,\n",
       " 97.52,\n",
       " 97.57,\n",
       " 97.59,\n",
       " 97.71,\n",
       " 97.92,\n",
       " 97.92,\n",
       " 98.55,\n",
       " 98.7,\n",
       " 98.85,\n",
       " 98.88,\n",
       " 98.95,\n",
       " 99.11,\n",
       " 99.22,\n",
       " 99.89,\n",
       " 101.25,\n",
       " 101.85,\n",
       " 102.01,\n",
       " 102.08,\n",
       " 102.88,\n",
       " 105.32,\n",
       " 107.8,\n",
       " 109.27,\n",
       " 109.62,\n",
       " 109.78,\n",
       " 109.89,\n",
       " 111.03,\n",
       " 111.65,\n",
       " 112.9,\n",
       " 112.98,\n",
       " 113.38,\n",
       " 113.79,\n",
       " 113.9,\n",
       " 114.14,\n",
       " 114.25,\n",
       " 114.51,\n",
       " 115.41,\n",
       " 115.53,\n",
       " 116.45,\n",
       " 119.46,\n",
       " 119.47,\n",
       " 120.68,\n",
       " 127.6,\n",
       " 127.87,\n",
       " 128.59,\n",
       " 129.47,\n",
       " 129.65,\n",
       " 130.27,\n",
       " 131.08,\n",
       " 132.86,\n",
       " 132.87,\n",
       " 136.87,\n",
       " 137.03,\n",
       " 137.26,\n",
       " 137.42,\n",
       " 138.5,\n",
       " 138.58,\n",
       " 139.04,\n",
       " 139.58,\n",
       " 139.64,\n",
       " 139.65,\n",
       " 139.86,\n",
       " 139.86,\n",
       " 139.95,\n",
       " 139.99,\n",
       " 140.0,\n",
       " 140.88,\n",
       " 141.11,\n",
       " 141.14,\n",
       " 141.15,\n",
       " 141.23,\n",
       " 141.23,\n",
       " 141.65,\n",
       " 141.85,\n",
       " 141.86,\n",
       " 141.88,\n",
       " 142.41,\n",
       " 142.68,\n",
       " 142.7,\n",
       " 142.86,\n",
       " 142.98,\n",
       " 143.01,\n",
       " 143.21,\n",
       " 143.41,\n",
       " 143.49,\n",
       " 143.74,\n",
       " 143.78,\n",
       " 143.81,\n",
       " 143.86,\n",
       " 144.08,\n",
       " 144.08,\n",
       " 144.51,\n",
       " 144.71,\n",
       " 144.72,\n",
       " 145.3,\n",
       " 145.32,\n",
       " 145.35,\n",
       " 145.48,\n",
       " 145.48,\n",
       " 145.62,\n",
       " 145.64,\n",
       " 145.66,\n",
       " 145.75,\n",
       " 145.9,\n",
       " 146.03,\n",
       " 146.21,\n",
       " 146.33,\n",
       " 146.41,\n",
       " 146.53,\n",
       " 146.6,\n",
       " 146.93,\n",
       " 147.29,\n",
       " 147.55,\n",
       " 147.62,\n",
       " 147.71,\n",
       " 147.78,\n",
       " 147.9,\n",
       " 147.92,\n",
       " 147.97,\n",
       " 148.32,\n",
       " 148.41,\n",
       " 148.48,\n",
       " 148.5,\n",
       " 148.56,\n",
       " 148.56,\n",
       " 148.57,\n",
       " 148.72,\n",
       " 148.86,\n",
       " 149.28,\n",
       " 149.35,\n",
       " 149.4,\n",
       " 149.45,\n",
       " 149.62,\n",
       " 149.69,\n",
       " 149.91,\n",
       " 149.95,\n",
       " 149.96,\n",
       " 150.03,\n",
       " 150.29,\n",
       " 150.33,\n",
       " 150.33,\n",
       " 150.44,\n",
       " 150.85,\n",
       " 150.9,\n",
       " 151.05,\n",
       " 151.16,\n",
       " 151.32,\n",
       " 151.35,\n",
       " 151.39,\n",
       " 151.4,\n",
       " 151.45,\n",
       " 151.49,\n",
       " 151.74,\n",
       " 151.9,\n",
       " 152.35,\n",
       " 152.67,\n",
       " 152.83,\n",
       " 152.85,\n",
       " 152.9,\n",
       " 153.1,\n",
       " 153.67,\n",
       " 153.8,\n",
       " 153.93,\n",
       " 154.13,\n",
       " 154.2,\n",
       " 154.26,\n",
       " 154.66,\n",
       " 154.72,\n",
       " 154.8,\n",
       " 154.85,\n",
       " 154.93,\n",
       " 154.98,\n",
       " 155.17,\n",
       " 155.18,\n",
       " 155.2,\n",
       " 155.34,\n",
       " 155.53,\n",
       " 155.57,\n",
       " 155.68,\n",
       " 155.79,\n",
       " 155.84,\n",
       " 155.88,\n",
       " 156.19,\n",
       " 156.22,\n",
       " 156.34,\n",
       " 156.81,\n",
       " 156.81,\n",
       " 156.98,\n",
       " 157.0,\n",
       " 157.38,\n",
       " 157.46,\n",
       " 157.52,\n",
       " 157.72,\n",
       " 158.07,\n",
       " 158.8,\n",
       " 159.18,\n",
       " 159.23,\n",
       " 159.3,\n",
       " 159.69,\n",
       " 160.5,\n",
       " 160.84,\n",
       " 161.6,\n",
       " 161.77,\n",
       " 162.05,\n",
       " 162.19,\n",
       " 162.43,\n",
       " 162.48,\n",
       " 162.58,\n",
       " 163.42,\n",
       " 163.86,\n",
       " 164.33,\n",
       " 164.58,\n",
       " 164.81,\n",
       " 164.86,\n",
       " 164.91,\n",
       " 165.4,\n",
       " 165.44,\n",
       " 165.57,\n",
       " 165.83,\n",
       " 166.38,\n",
       " 166.86,\n",
       " 167.5,\n",
       " 168.36,\n",
       " 168.42,\n",
       " 168.58,\n",
       " 168.83,\n",
       " 168.89,\n",
       " 169.1,\n",
       " 169.22,\n",
       " 169.42,\n",
       " 169.48,\n",
       " 169.73,\n",
       " 169.78,\n",
       " 169.79,\n",
       " 169.94,\n",
       " 170.05,\n",
       " 170.11,\n",
       " 170.65,\n",
       " 170.77,\n",
       " 170.95,\n",
       " 171.02,\n",
       " 171.15,\n",
       " 171.16,\n",
       " 171.17,\n",
       " 171.33,\n",
       " 171.33,\n",
       " 171.49,\n",
       " 171.49,\n",
       " 171.86,\n",
       " 172.08,\n",
       " 172.55,\n",
       " 172.68,\n",
       " 172.83,\n",
       " 173.05,\n",
       " 173.07,\n",
       " 173.28,\n",
       " 173.41,\n",
       " 173.68,\n",
       " 173.86,\n",
       " 173.92,\n",
       " 174.13,\n",
       " 174.15,\n",
       " 174.16,\n",
       " 175.4,\n",
       " 175.98,\n",
       " 176.33,\n",
       " 176.35,\n",
       " 176.38,\n",
       " 176.47,\n",
       " 176.68,\n",
       " 176.76,\n",
       " 176.87,\n",
       " 177.54,\n",
       " 177.66,\n",
       " 178.66,\n",
       " 178.82,\n",
       " 178.84,\n",
       " 178.91,\n",
       " 179.08,\n",
       " 179.15,\n",
       " 179.21,\n",
       " 179.5,\n",
       " 179.67,\n",
       " 180.82,\n",
       " 181.07,\n",
       " 181.12,\n",
       " 181.13,\n",
       " 181.17,\n",
       " 181.19,\n",
       " 181.34,\n",
       " 182.04,\n",
       " 182.22,\n",
       " 182.56,\n",
       " 182.72,\n",
       " 183.05,\n",
       " 183.11,\n",
       " 183.29,\n",
       " 183.43,\n",
       " 183.78,\n",
       " 183.87,\n",
       " 183.94,\n",
       " 184.07,\n",
       " 184.19,\n",
       " 184.19,\n",
       " 184.27,\n",
       " 184.36,\n",
       " 184.53,\n",
       " 184.66,\n",
       " 184.71,\n",
       " 184.82,\n",
       " 185.29,\n",
       " 185.31,\n",
       " 185.42,\n",
       " 185.45,\n",
       " 185.46,\n",
       " 185.72,\n",
       " 185.78,\n",
       " 185.88,\n",
       " 186.06,\n",
       " 186.08,\n",
       " 186.44,\n",
       " 186.53,\n",
       " 186.68,\n",
       " 186.74,\n",
       " 186.88,\n",
       " 186.91,\n",
       " 187.03,\n",
       " 187.06,\n",
       " 187.51,\n",
       " 187.57,\n",
       " 187.6,\n",
       " 187.91,\n",
       " 188.04,\n",
       " 188.28,\n",
       " 188.41,\n",
       " 188.46,\n",
       " 188.51,\n",
       " 188.74,\n",
       " 188.79,\n",
       " 188.85,\n",
       " 188.87,\n",
       " 188.9,\n",
       " 188.96,\n",
       " 189.06,\n",
       " 189.08,\n",
       " 189.11,\n",
       " 189.2,\n",
       " 189.29,\n",
       " 189.39,\n",
       " 189.46,\n",
       " 189.47,\n",
       " 189.5,\n",
       " 189.53,\n",
       " 189.56,\n",
       " 189.65,\n",
       " 189.88,\n",
       " 190.18,\n",
       " 190.28,\n",
       " 190.29,\n",
       " 190.31,\n",
       " 190.31,\n",
       " 190.32,\n",
       " 190.43,\n",
       " 190.48,\n",
       " 190.54,\n",
       " 190.58,\n",
       " 190.59,\n",
       " 191.01,\n",
       " 191.12,\n",
       " 191.3,\n",
       " 191.49,\n",
       " 191.66,\n",
       " 191.74,\n",
       " 191.85,\n",
       " 191.99,\n",
       " 192.0,\n",
       " 192.15,\n",
       " 192.36,\n",
       " 192.56,\n",
       " 192.71,\n",
       " 192.78,\n",
       " 192.78,\n",
       " 193.06,\n",
       " 193.07,\n",
       " 193.09,\n",
       " 193.11,\n",
       " 193.26,\n",
       " 193.31,\n",
       " 193.37,\n",
       " 193.39,\n",
       " 193.56,\n",
       " 193.67,\n",
       " 193.87,\n",
       " 193.88,\n",
       " 194.03,\n",
       " 194.18,\n",
       " 194.49,\n",
       " 194.55,\n",
       " 194.58,\n",
       " 194.66,\n",
       " 194.76,\n",
       " 194.8,\n",
       " 194.8,\n",
       " 194.8,\n",
       " 194.86,\n",
       " 194.99,\n",
       " 195.0,\n",
       " 195.02,\n",
       " 195.05,\n",
       " 195.15,\n",
       " 195.25,\n",
       " 195.3,\n",
       " 195.35,\n",
       " 195.54,\n",
       " 195.75,\n",
       " 195.92,\n",
       " 196.2,\n",
       " 196.45,\n",
       " 196.55,\n",
       " 196.65,\n",
       " 196.89,\n",
       " 196.95,\n",
       " 197.18,\n",
       " 197.19,\n",
       " 197.2,\n",
       " 197.29,\n",
       " 197.32,\n",
       " 197.79,\n",
       " 197.82,\n",
       " 198.05,\n",
       " 198.11,\n",
       " 198.12,\n",
       " 198.22,\n",
       " 198.29,\n",
       " 198.3,\n",
       " 198.39,\n",
       " 198.88,\n",
       " 199.24,\n",
       " 199.25,\n",
       " 199.3,\n",
       " 199.31,\n",
       " 199.53,\n",
       " 199.78,\n",
       " 199.9,\n",
       " 200.06,\n",
       " 200.52,\n",
       " 200.69,\n",
       " 200.75,\n",
       " 200.79,\n",
       " 200.86,\n",
       " 200.88,\n",
       " 200.96,\n",
       " 201.04,\n",
       " 201.26,\n",
       " 201.29,\n",
       " 201.29,\n",
       " 201.32,\n",
       " 201.52,\n",
       " 201.53,\n",
       " 201.55,\n",
       " 201.57,\n",
       " 201.59,\n",
       " 201.69,\n",
       " 201.7,\n",
       " 201.79,\n",
       " 201.79,\n",
       " 201.82,\n",
       " 201.91,\n",
       " 201.91,\n",
       " 201.92,\n",
       " 201.97,\n",
       " 201.98,\n",
       " 202.07,\n",
       " 202.23,\n",
       " 202.25,\n",
       " 202.58,\n",
       " 202.64,\n",
       " 202.72,\n",
       " 202.85,\n",
       " 202.88,\n",
       " 203.08,\n",
       " 203.21,\n",
       " 203.22,\n",
       " 203.23,\n",
       " 203.46,\n",
       " 203.47,\n",
       " 203.74,\n",
       " 203.79,\n",
       " 203.79,\n",
       " 204.04,\n",
       " 204.2,\n",
       " 204.21,\n",
       " 204.27,\n",
       " 204.4,\n",
       " 204.44,\n",
       " 204.48,\n",
       " 204.6,\n",
       " 204.63,\n",
       " 204.74,\n",
       " 204.99,\n",
       " 204.99,\n",
       " 205.04,\n",
       " 205.12,\n",
       " 205.38,\n",
       " 205.65,\n",
       " 205.7,\n",
       " 206.1,\n",
       " 206.6,\n",
       " 206.82,\n",
       " 206.84,\n",
       " 206.87,\n",
       " 206.99,\n",
       " 207.04,\n",
       " 207.14,\n",
       " 207.22,\n",
       " 207.29,\n",
       " 207.37,\n",
       " 207.64,\n",
       " 207.68,\n",
       " 207.79,\n",
       " 207.98,\n",
       " 208.03,\n",
       " 208.18,\n",
       " 208.41,\n",
       " 208.42,\n",
       " 208.54,\n",
       " 208.64,\n",
       " 208.7,\n",
       " 208.76,\n",
       " 208.89,\n",
       " 209.12,\n",
       " 209.27,\n",
       " 209.29,\n",
       " 209.44,\n",
       " 209.46,\n",
       " 209.73,\n",
       " 209.76,\n",
       " 209.8,\n",
       " 209.83,\n",
       " 209.86,\n",
       " 210.01,\n",
       " 210.04,\n",
       " 210.11,\n",
       " 210.52,\n",
       " 210.58,\n",
       " 210.66,\n",
       " 211.05,\n",
       " 211.22,\n",
       " 211.38,\n",
       " 211.39,\n",
       " 211.53,\n",
       " 211.86,\n",
       " 211.94,\n",
       " 212.07,\n",
       " 212.09,\n",
       " 212.11,\n",
       " 212.13,\n",
       " 212.21,\n",
       " 212.45,\n",
       " 212.77,\n",
       " 212.82,\n",
       " 212.95,\n",
       " 213.04,\n",
       " 213.07,\n",
       " 213.11,\n",
       " 213.13,\n",
       " 213.2,\n",
       " 213.37,\n",
       " 213.44,\n",
       " 213.51,\n",
       " 213.54,\n",
       " 213.63,\n",
       " 213.74,\n",
       " 213.99,\n",
       " 214.1,\n",
       " 214.29,\n",
       " 214.29,\n",
       " 214.42,\n",
       " 214.66,\n",
       " 214.85,\n",
       " 214.86,\n",
       " 214.87,\n",
       " 214.91,\n",
       " 215.25,\n",
       " 215.3,\n",
       " 215.61,\n",
       " 215.78,\n",
       " 215.8,\n",
       " 216.08,\n",
       " 216.11,\n",
       " 216.13,\n",
       " 216.28,\n",
       " 216.46,\n",
       " 216.53,\n",
       " 216.56,\n",
       " 216.66,\n",
       " 216.71,\n",
       " 216.92,\n",
       " 217.34,\n",
       " 217.4,\n",
       " 217.59,\n",
       " 217.82,\n",
       " 217.9,\n",
       " 218.0,\n",
       " 218.06,\n",
       " 218.33,\n",
       " 218.45,\n",
       " 218.61,\n",
       " 218.74,\n",
       " 218.82,\n",
       " 218.87,\n",
       " 219.12,\n",
       " 219.17,\n",
       " 219.32,\n",
       " 219.36,\n",
       " 219.53,\n",
       " 219.58,\n",
       " 219.7,\n",
       " 219.71,\n",
       " 219.87,\n",
       " 219.92,\n",
       " 220.01,\n",
       " 220.03,\n",
       " 220.2,\n",
       " 220.25,\n",
       " 221.08,\n",
       " 221.24,\n",
       " 221.28,\n",
       " 221.29,\n",
       " 221.29,\n",
       " 221.3,\n",
       " 221.76,\n",
       " 221.82,\n",
       " 221.9,\n",
       " 221.94,\n",
       " 222.08,\n",
       " 222.18,\n",
       " 222.22,\n",
       " 222.23,\n",
       " 222.25,\n",
       " 222.4,\n",
       " 222.42,\n",
       " 222.42,\n",
       " 222.6,\n",
       " 222.87,\n",
       " 223.14,\n",
       " 223.2,\n",
       " 223.39,\n",
       " 223.63,\n",
       " 223.78,\n",
       " 223.89,\n",
       " 224.16,\n",
       " 224.35,\n",
       " 224.5,\n",
       " 224.55,\n",
       " 224.78,\n",
       " 224.87,\n",
       " 224.9,\n",
       " 224.95,\n",
       " 225.16,\n",
       " 225.26,\n",
       " 225.34,\n",
       " 225.39,\n",
       " 225.47,\n",
       " 225.6,\n",
       " 225.88,\n",
       " 226.12,\n",
       " 226.25,\n",
       " 226.28,\n",
       " 226.64,\n",
       " 226.74,\n",
       " 226.9,\n",
       " 227.08,\n",
       " 227.13,\n",
       " 227.15,\n",
       " 227.29,\n",
       " 227.33,\n",
       " 227.56,\n",
       " 227.59,\n",
       " 227.65,\n",
       " 227.87,\n",
       " 228.05,\n",
       " 228.05,\n",
       " 228.08,\n",
       " 228.28,\n",
       " 228.32,\n",
       " 228.5,\n",
       " 228.53,\n",
       " 228.54,\n",
       " 228.55,\n",
       " 228.77,\n",
       " 228.85,\n",
       " 228.87,\n",
       " 228.92,\n",
       " 229.04,\n",
       " 229.06,\n",
       " 229.08,\n",
       " 229.19,\n",
       " 229.32,\n",
       " 229.57,\n",
       " 229.61,\n",
       " 229.77,\n",
       " 229.94,\n",
       " 229.97,\n",
       " 230.01,\n",
       " 230.05,\n",
       " 230.23,\n",
       " 230.42,\n",
       " 230.5,\n",
       " 230.5,\n",
       " 230.6,\n",
       " 230.66,\n",
       " 230.68,\n",
       " 230.71,\n",
       " 230.71,\n",
       " 230.78,\n",
       " 230.79,\n",
       " 230.91,\n",
       " 231.05,\n",
       " 231.17,\n",
       " 231.22,\n",
       " 231.27,\n",
       " 231.36,\n",
       " 231.41,\n",
       " 231.58,\n",
       " 231.58,\n",
       " 231.75,\n",
       " 231.8,\n",
       " 231.86,\n",
       " 231.86,\n",
       " 231.97,\n",
       " 231.97,\n",
       " 232.03,\n",
       " 232.14,\n",
       " 232.23,\n",
       " 232.27,\n",
       " 232.39,\n",
       " 232.39,\n",
       " 232.6,\n",
       " 232.62,\n",
       " 232.62,\n",
       " 232.66,\n",
       " 232.73,\n",
       " 232.8,\n",
       " 232.86,\n",
       " 232.89,\n",
       " 232.91,\n",
       " 233.02,\n",
       " 233.14,\n",
       " 233.17,\n",
       " 233.22,\n",
       " 233.32,\n",
       " 233.35,\n",
       " 233.4,\n",
       " 233.46,\n",
       " 233.51,\n",
       " 233.52,\n",
       " 233.56,\n",
       " 233.67,\n",
       " 233.7,\n",
       " 233.75,\n",
       " 233.77,\n",
       " 233.78,\n",
       " 233.87,\n",
       " 234.06,\n",
       " 234.08,\n",
       " 234.13,\n",
       " 234.17,\n",
       " 234.27,\n",
       " 234.3,\n",
       " 234.39,\n",
       " 234.65,\n",
       " 234.72,\n",
       " 234.74,\n",
       " 234.77,\n",
       " 234.91,\n",
       " 234.92,\n",
       " 235.05,\n",
       " 235.06,\n",
       " 235.07,\n",
       " 235.23,\n",
       " 235.24,\n",
       " 235.27,\n",
       " 235.28,\n",
       " 235.31,\n",
       " 235.32,\n",
       " 235.35,\n",
       " 235.45,\n",
       " 235.45,\n",
       " 235.5,\n",
       " 235.52,\n",
       " 235.58,\n",
       " 235.59,\n",
       " 235.66,\n",
       " 235.79,\n",
       " 235.8,\n",
       " 235.81,\n",
       " 235.83,\n",
       " 236.05,\n",
       " 236.06,\n",
       " 236.07,\n",
       " 236.08,\n",
       " 236.1,\n",
       " 236.16,\n",
       " 236.19,\n",
       " 236.38,\n",
       " 236.42,\n",
       " 236.54,\n",
       " 236.64,\n",
       " 236.65,\n",
       " 236.75,\n",
       " 236.77,\n",
       " 236.84,\n",
       " 236.9,\n",
       " 236.93,\n",
       " 237.2,\n",
       " 237.26,\n",
       " 237.27,\n",
       " 237.31,\n",
       " 237.32,\n",
       " 237.36,\n",
       " 237.46,\n",
       " 237.5,\n",
       " 237.57,\n",
       " 237.68,\n",
       " 237.69,\n",
       " 237.69,\n",
       " 237.69,\n",
       " 237.77,\n",
       " 237.83,\n",
       " 237.85,\n",
       " 237.96,\n",
       " 238.05,\n",
       " 238.17,\n",
       " 238.24,\n",
       " 238.3,\n",
       " 238.32,\n",
       " 238.32,\n",
       " 238.34,\n",
       " 238.51,\n",
       " 238.53,\n",
       " 238.53,\n",
       " 238.76,\n",
       " 239.26,\n",
       " 239.27,\n",
       " 239.29,\n",
       " 239.3,\n",
       " 239.32,\n",
       " 239.69,\n",
       " 239.87,\n",
       " 239.91,\n",
       " ...]"
      ]
     },
     "execution_count": 56,
     "metadata": {},
     "output_type": "execute_result"
    }
   ],
   "source": [
    "sorted(google)"
   ]
  },
  {
   "cell_type": "code",
   "execution_count": 57,
   "id": "4c892b77",
   "metadata": {},
   "outputs": [
    {
     "data": {
      "text/plain": [
       "['Bulbasaur',\n",
       " 'Ivysaur',\n",
       " 'Venusaur',\n",
       " 'Charmander',\n",
       " 'Charmeleon',\n",
       " 'Charizard',\n",
       " 'Squirtle',\n",
       " 'Wartortle',\n",
       " 'Blastoise',\n",
       " 'Caterpie',\n",
       " 'Metapod',\n",
       " 'Butterfree',\n",
       " 'Weedle',\n",
       " 'Kakuna',\n",
       " 'Beedrill',\n",
       " 'Pidgey',\n",
       " 'Pidgeotto',\n",
       " 'Pidgeot',\n",
       " 'Rattata',\n",
       " 'Raticate',\n",
       " 'Spearow',\n",
       " 'Fearow',\n",
       " 'Ekans',\n",
       " 'Arbok',\n",
       " 'Pikachu',\n",
       " 'Raichu',\n",
       " 'Sandshrew',\n",
       " 'Sandslash',\n",
       " 'Nidoran',\n",
       " 'Nidorina',\n",
       " 'Nidoqueen',\n",
       " 'Nidoran♂',\n",
       " 'Nidorino',\n",
       " 'Nidoking',\n",
       " 'Clefairy',\n",
       " 'Clefable',\n",
       " 'Vulpix',\n",
       " 'Ninetales',\n",
       " 'Jigglypuff',\n",
       " 'Wigglytuff',\n",
       " 'Zubat',\n",
       " 'Golbat',\n",
       " 'Oddish',\n",
       " 'Gloom',\n",
       " 'Vileplume',\n",
       " 'Paras',\n",
       " 'Parasect',\n",
       " 'Venonat',\n",
       " 'Venomoth',\n",
       " 'Diglett',\n",
       " 'Dugtrio',\n",
       " 'Meowth',\n",
       " 'Persian',\n",
       " 'Psyduck',\n",
       " 'Golduck',\n",
       " 'Mankey',\n",
       " 'Primeape',\n",
       " 'Growlithe',\n",
       " 'Arcanine',\n",
       " 'Poliwag',\n",
       " 'Poliwhirl',\n",
       " 'Poliwrath',\n",
       " 'Abra',\n",
       " 'Kadabra',\n",
       " 'Alakazam',\n",
       " 'Machop',\n",
       " 'Machoke',\n",
       " 'Machamp',\n",
       " 'Bellsprout',\n",
       " 'Weepinbell',\n",
       " 'Victreebel',\n",
       " 'Tentacool',\n",
       " 'Tentacruel',\n",
       " 'Geodude',\n",
       " 'Graveler',\n",
       " 'Golem',\n",
       " 'Ponyta',\n",
       " 'Rapidash',\n",
       " 'Slowpoke',\n",
       " 'Slowbro',\n",
       " 'Magnemite',\n",
       " 'Magneton',\n",
       " \"Farfetch'd\",\n",
       " 'Doduo',\n",
       " 'Dodrio',\n",
       " 'Seel',\n",
       " 'Dewgong',\n",
       " 'Grimer',\n",
       " 'Muk',\n",
       " 'Shellder',\n",
       " 'Cloyster',\n",
       " 'Gastly',\n",
       " 'Haunter',\n",
       " 'Gengar',\n",
       " 'Onix',\n",
       " 'Drowzee',\n",
       " 'Hypno',\n",
       " 'Krabby',\n",
       " 'Kingler',\n",
       " 'Voltorb',\n",
       " 'Electrode',\n",
       " 'Exeggcute',\n",
       " 'Exeggutor',\n",
       " 'Cubone',\n",
       " 'Marowak',\n",
       " 'Hitmonlee',\n",
       " 'Hitmonchan',\n",
       " 'Lickitung',\n",
       " 'Koffing',\n",
       " 'Weezing',\n",
       " 'Rhyhorn',\n",
       " 'Rhydon',\n",
       " 'Chansey',\n",
       " 'Tangela',\n",
       " 'Kangaskhan',\n",
       " 'Horsea',\n",
       " 'Seadra',\n",
       " 'Goldeen',\n",
       " 'Seaking',\n",
       " 'Staryu',\n",
       " 'Starmie',\n",
       " 'Mr. Mime',\n",
       " 'Scyther',\n",
       " 'Jynx',\n",
       " 'Electabuzz',\n",
       " 'Magmar',\n",
       " 'Pinsir',\n",
       " 'Tauros',\n",
       " 'Magikarp',\n",
       " 'Gyarados',\n",
       " 'Lapras',\n",
       " 'Ditto',\n",
       " 'Eevee',\n",
       " 'Vaporeon',\n",
       " 'Jolteon',\n",
       " 'Flareon',\n",
       " 'Porygon',\n",
       " 'Omanyte',\n",
       " 'Omastar',\n",
       " 'Kabuto',\n",
       " 'Kabutops',\n",
       " 'Aerodactyl',\n",
       " 'Snorlax',\n",
       " 'Articuno',\n",
       " 'Zapdos',\n",
       " 'Moltres',\n",
       " 'Dratini',\n",
       " 'Dragonair',\n",
       " 'Dragonite',\n",
       " 'Mewtwo',\n",
       " 'Mew',\n",
       " 'Chikorita',\n",
       " 'Bayleef',\n",
       " 'Meganium',\n",
       " 'Cyndaquil',\n",
       " 'Quilava',\n",
       " 'Typhlosion',\n",
       " 'Totodile',\n",
       " 'Croconaw',\n",
       " 'Feraligatr',\n",
       " 'Sentret',\n",
       " 'Furret',\n",
       " 'Hoothoot',\n",
       " 'Noctowl',\n",
       " 'Ledyba',\n",
       " 'Ledian',\n",
       " 'Spinarak',\n",
       " 'Ariados',\n",
       " 'Crobat',\n",
       " 'Chinchou',\n",
       " 'Lanturn',\n",
       " 'Pichu',\n",
       " 'Cleffa',\n",
       " 'Igglybuff',\n",
       " 'Togepi',\n",
       " 'Togetic',\n",
       " 'Natu',\n",
       " 'Xatu',\n",
       " 'Mareep',\n",
       " 'Flaaffy',\n",
       " 'Ampharos',\n",
       " 'Bellossom',\n",
       " 'Marill',\n",
       " 'Azumarill',\n",
       " 'Sudowoodo',\n",
       " 'Politoed',\n",
       " 'Hoppip',\n",
       " 'Skiploom',\n",
       " 'Jumpluff',\n",
       " 'Aipom',\n",
       " 'Sunkern',\n",
       " 'Sunflora',\n",
       " 'Yanma',\n",
       " 'Wooper',\n",
       " 'Quagsire',\n",
       " 'Espeon',\n",
       " 'Umbreon',\n",
       " 'Murkrow',\n",
       " 'Slowking',\n",
       " 'Misdreavus',\n",
       " 'Unown',\n",
       " 'Wobbuffet',\n",
       " 'Girafarig',\n",
       " 'Pineco',\n",
       " 'Forretress',\n",
       " 'Dunsparce',\n",
       " 'Gligar',\n",
       " 'Steelix',\n",
       " 'Snubbull',\n",
       " 'Granbull',\n",
       " 'Qwilfish',\n",
       " 'Scizor',\n",
       " 'Shuckle',\n",
       " 'Heracross',\n",
       " 'Sneasel',\n",
       " 'Teddiursa',\n",
       " 'Ursaring',\n",
       " 'Slugma',\n",
       " 'Magcargo',\n",
       " 'Swinub',\n",
       " 'Piloswine',\n",
       " 'Corsola',\n",
       " 'Remoraid',\n",
       " 'Octillery',\n",
       " 'Delibird',\n",
       " 'Mantine',\n",
       " 'Skarmory',\n",
       " 'Houndour',\n",
       " 'Houndoom',\n",
       " 'Kingdra',\n",
       " 'Phanpy',\n",
       " 'Donphan',\n",
       " 'Porygon2',\n",
       " 'Stantler',\n",
       " 'Smeargle',\n",
       " 'Tyrogue',\n",
       " 'Hitmontop',\n",
       " 'Smoochum',\n",
       " 'Elekid',\n",
       " 'Magby',\n",
       " 'Miltank',\n",
       " 'Blissey',\n",
       " 'Raikou',\n",
       " 'Entei',\n",
       " 'Suicune',\n",
       " 'Larvitar',\n",
       " 'Pupitar',\n",
       " 'Tyranitar',\n",
       " 'Lugia',\n",
       " 'Ho-oh',\n",
       " 'Celebi',\n",
       " 'Treecko',\n",
       " 'Grovyle',\n",
       " 'Sceptile',\n",
       " 'Torchic',\n",
       " 'Combusken',\n",
       " 'Blaziken',\n",
       " 'Mudkip',\n",
       " 'Marshtomp',\n",
       " 'Swampert',\n",
       " 'Poochyena',\n",
       " 'Mightyena',\n",
       " 'Zigzagoon',\n",
       " 'Linoone',\n",
       " 'Wurmple',\n",
       " 'Silcoon',\n",
       " 'Beautifly',\n",
       " 'Cascoon',\n",
       " 'Dustox',\n",
       " 'Lotad',\n",
       " 'Lombre',\n",
       " 'Ludicolo',\n",
       " 'Seedot',\n",
       " 'Nuzleaf',\n",
       " 'Shiftry',\n",
       " 'Taillow',\n",
       " 'Swellow',\n",
       " 'Wingull',\n",
       " 'Pelipper',\n",
       " 'Ralts',\n",
       " 'Kirlia',\n",
       " 'Gardevoir',\n",
       " 'Surskit',\n",
       " 'Masquerain',\n",
       " 'Shroomish',\n",
       " 'Breloom',\n",
       " 'Slakoth',\n",
       " 'Vigoroth',\n",
       " 'Slaking',\n",
       " 'Nincada',\n",
       " 'Ninjask',\n",
       " 'Shedinja',\n",
       " 'Whismur',\n",
       " 'Loudred',\n",
       " 'Exploud',\n",
       " 'Makuhita',\n",
       " 'Hariyama',\n",
       " 'Azurill',\n",
       " 'Nosepass',\n",
       " 'Skitty',\n",
       " 'Delcatty',\n",
       " 'Sableye',\n",
       " 'Mawile',\n",
       " 'Aron',\n",
       " 'Lairon',\n",
       " 'Aggron',\n",
       " 'Meditite',\n",
       " 'Medicham',\n",
       " 'Electrike',\n",
       " 'Manectric',\n",
       " 'Plusle',\n",
       " 'Minun',\n",
       " 'Volbeat',\n",
       " 'Illumise',\n",
       " 'Roselia',\n",
       " 'Gulpin',\n",
       " 'Swalot',\n",
       " 'Carvanha',\n",
       " 'Sharpedo',\n",
       " 'Wailmer',\n",
       " 'Wailord',\n",
       " 'Numel',\n",
       " 'Camerupt',\n",
       " 'Torkoal',\n",
       " 'Spoink',\n",
       " 'Grumpig',\n",
       " 'Spinda',\n",
       " 'Trapinch',\n",
       " 'Vibrava',\n",
       " 'Flygon',\n",
       " 'Cacnea',\n",
       " 'Cacturne',\n",
       " 'Swablu',\n",
       " 'Altaria',\n",
       " 'Zangoose',\n",
       " 'Seviper',\n",
       " 'Lunatone',\n",
       " 'Solrock',\n",
       " 'Barboach',\n",
       " 'Whiscash',\n",
       " 'Corphish',\n",
       " 'Crawdaunt',\n",
       " 'Baltoy',\n",
       " 'Claydol',\n",
       " 'Lileep',\n",
       " 'Cradily',\n",
       " 'Anorith',\n",
       " 'Armaldo',\n",
       " 'Feebas',\n",
       " 'Milotic',\n",
       " 'Castform',\n",
       " 'Kecleon',\n",
       " 'Shuppet',\n",
       " 'Banette',\n",
       " 'Duskull',\n",
       " 'Dusclops',\n",
       " 'Tropius',\n",
       " 'Chimecho',\n",
       " 'Absol',\n",
       " 'Wynaut',\n",
       " 'Snorunt',\n",
       " 'Glalie',\n",
       " 'Spheal',\n",
       " 'Sealeo',\n",
       " 'Walrein',\n",
       " 'Clamperl',\n",
       " 'Huntail',\n",
       " 'Gorebyss',\n",
       " 'Relicanth',\n",
       " 'Luvdisc',\n",
       " 'Bagon',\n",
       " 'Shelgon',\n",
       " 'Salamence',\n",
       " 'Beldum',\n",
       " 'Metang',\n",
       " 'Metagross',\n",
       " 'Regirock',\n",
       " 'Regice',\n",
       " 'Registeel',\n",
       " 'Latias',\n",
       " 'Latios',\n",
       " 'Kyogre',\n",
       " 'Groudon',\n",
       " 'Rayquaza',\n",
       " 'Jirachi',\n",
       " 'Deoxys',\n",
       " 'Turtwig',\n",
       " 'Grotle',\n",
       " 'Torterra',\n",
       " 'Chimchar',\n",
       " 'Monferno',\n",
       " 'Infernape',\n",
       " 'Piplup',\n",
       " 'Prinplup',\n",
       " 'Empoleon',\n",
       " 'Starly',\n",
       " 'Staravia',\n",
       " 'Staraptor',\n",
       " 'Bidoof',\n",
       " 'Bibarel',\n",
       " 'Kricketot',\n",
       " 'Kricketune',\n",
       " 'Shinx',\n",
       " 'Luxio',\n",
       " 'Luxray',\n",
       " 'Budew',\n",
       " 'Roserade',\n",
       " 'Cranidos',\n",
       " 'Rampardos',\n",
       " 'Shieldon',\n",
       " 'Bastiodon',\n",
       " 'Burmy',\n",
       " 'Wormadam',\n",
       " 'Mothim',\n",
       " 'Combee',\n",
       " 'Vespiquen',\n",
       " 'Pachirisu',\n",
       " 'Buizel',\n",
       " 'Floatzel',\n",
       " 'Cherubi',\n",
       " 'Cherrim',\n",
       " 'Shellos',\n",
       " 'Gastrodon',\n",
       " 'Ambipom',\n",
       " 'Drifloon',\n",
       " 'Drifblim',\n",
       " 'Buneary',\n",
       " 'Lopunny',\n",
       " 'Mismagius',\n",
       " 'Honchkrow',\n",
       " 'Glameow',\n",
       " 'Purugly',\n",
       " 'Chingling',\n",
       " 'Stunky',\n",
       " 'Skuntank',\n",
       " 'Bronzor',\n",
       " 'Bronzong',\n",
       " 'Bonsly',\n",
       " 'Mime Jr.',\n",
       " 'Happiny',\n",
       " 'Chatot',\n",
       " 'Spiritomb',\n",
       " 'Gible',\n",
       " 'Gabite',\n",
       " 'Garchomp',\n",
       " 'Munchlax',\n",
       " 'Riolu',\n",
       " 'Lucario',\n",
       " 'Hippopotas',\n",
       " 'Hippowdon',\n",
       " 'Skorupi',\n",
       " 'Drapion',\n",
       " 'Croagunk',\n",
       " 'Toxicroak',\n",
       " 'Carnivine',\n",
       " 'Finneon',\n",
       " 'Lumineon',\n",
       " 'Mantyke',\n",
       " 'Snover',\n",
       " 'Abomasnow',\n",
       " 'Weavile',\n",
       " 'Magnezone',\n",
       " 'Lickilicky',\n",
       " 'Rhyperior',\n",
       " 'Tangrowth',\n",
       " 'Electivire',\n",
       " 'Magmortar',\n",
       " 'Togekiss',\n",
       " 'Yanmega',\n",
       " 'Leafeon',\n",
       " 'Glaceon',\n",
       " 'Gliscor',\n",
       " 'Mamoswine',\n",
       " 'Porygon-Z',\n",
       " 'Gallade',\n",
       " 'Probopass',\n",
       " 'Dusknoir',\n",
       " 'Froslass',\n",
       " 'Rotom',\n",
       " 'Uxie',\n",
       " 'Mesprit',\n",
       " 'Azelf',\n",
       " 'Dialga',\n",
       " 'Palkia',\n",
       " 'Heatran',\n",
       " 'Regigigas',\n",
       " 'Giratina',\n",
       " 'Cresselia',\n",
       " 'Phione',\n",
       " 'Manaphy',\n",
       " 'Darkrai',\n",
       " 'Shaymin',\n",
       " 'Arceus',\n",
       " 'Victini',\n",
       " 'Snivy',\n",
       " 'Servine',\n",
       " 'Serperior',\n",
       " 'Tepig',\n",
       " 'Pignite',\n",
       " 'Emboar',\n",
       " 'Oshawott',\n",
       " 'Dewott',\n",
       " 'Samurott',\n",
       " 'Patrat',\n",
       " 'Watchog',\n",
       " 'Lillipup',\n",
       " 'Herdier',\n",
       " 'Stoutland',\n",
       " 'Purrloin',\n",
       " 'Liepard',\n",
       " 'Pansage',\n",
       " 'Simisage',\n",
       " 'Pansear',\n",
       " 'Simisear',\n",
       " 'Panpour',\n",
       " 'Simipour',\n",
       " 'Munna',\n",
       " 'Musharna',\n",
       " 'Pidove',\n",
       " 'Tranquill',\n",
       " 'Unfezant',\n",
       " 'Blitzle',\n",
       " 'Zebstrika',\n",
       " 'Roggenrola',\n",
       " 'Boldore',\n",
       " 'Gigalith',\n",
       " 'Woobat',\n",
       " 'Swoobat',\n",
       " 'Drilbur',\n",
       " 'Excadrill',\n",
       " 'Audino',\n",
       " 'Timburr',\n",
       " 'Gurdurr',\n",
       " 'Conkeldurr',\n",
       " 'Tympole',\n",
       " 'Palpitoad',\n",
       " 'Seismitoad',\n",
       " 'Throh',\n",
       " 'Sawk',\n",
       " 'Sewaddle',\n",
       " 'Swadloon',\n",
       " 'Leavanny',\n",
       " 'Venipede',\n",
       " 'Whirlipede',\n",
       " 'Scolipede',\n",
       " 'Cottonee',\n",
       " 'Whimsicott',\n",
       " 'Petilil',\n",
       " 'Lilligant',\n",
       " 'Basculin',\n",
       " 'Sandile',\n",
       " 'Krokorok',\n",
       " 'Krookodile',\n",
       " 'Darumaka',\n",
       " 'Darmanitan',\n",
       " 'Maractus',\n",
       " 'Dwebble',\n",
       " 'Crustle',\n",
       " 'Scraggy',\n",
       " 'Scrafty',\n",
       " 'Sigilyph',\n",
       " 'Yamask',\n",
       " 'Cofagrigus',\n",
       " 'Tirtouga',\n",
       " 'Carracosta',\n",
       " 'Archen',\n",
       " 'Archeops',\n",
       " 'Trubbish',\n",
       " 'Garbodor',\n",
       " 'Zorua',\n",
       " 'Zoroark',\n",
       " 'Minccino',\n",
       " 'Cinccino',\n",
       " 'Gothita',\n",
       " 'Gothorita',\n",
       " 'Gothitelle',\n",
       " 'Solosis',\n",
       " 'Duosion',\n",
       " 'Reuniclus',\n",
       " 'Ducklett',\n",
       " 'Swanna',\n",
       " 'Vanillite',\n",
       " 'Vanillish',\n",
       " 'Vanilluxe',\n",
       " 'Deerling',\n",
       " 'Sawsbuck',\n",
       " 'Emolga',\n",
       " 'Karrablast',\n",
       " 'Escavalier',\n",
       " 'Foongus',\n",
       " 'Amoonguss',\n",
       " 'Frillish',\n",
       " 'Jellicent',\n",
       " 'Alomomola',\n",
       " 'Joltik',\n",
       " 'Galvantula',\n",
       " 'Ferroseed',\n",
       " 'Ferrothorn',\n",
       " 'Klink',\n",
       " 'Klang',\n",
       " 'Klinklang',\n",
       " 'Tynamo',\n",
       " 'Eelektrik',\n",
       " 'Eelektross',\n",
       " 'Elgyem',\n",
       " 'Beheeyem',\n",
       " 'Litwick',\n",
       " 'Lampent',\n",
       " 'Chandelure',\n",
       " 'Axew',\n",
       " 'Fraxure',\n",
       " 'Haxorus',\n",
       " 'Cubchoo',\n",
       " 'Beartic',\n",
       " 'Cryogonal',\n",
       " 'Shelmet',\n",
       " 'Accelgor',\n",
       " 'Stunfisk',\n",
       " 'Mienfoo',\n",
       " 'Mienshao',\n",
       " 'Druddigon',\n",
       " 'Golett',\n",
       " 'Golurk',\n",
       " 'Pawniard',\n",
       " 'Bisharp',\n",
       " 'Bouffalant',\n",
       " 'Rufflet',\n",
       " 'Braviary',\n",
       " 'Vullaby',\n",
       " 'Mandibuzz',\n",
       " 'Heatmor',\n",
       " 'Durant',\n",
       " 'Deino',\n",
       " 'Zweilous',\n",
       " 'Hydreigon',\n",
       " 'Larvesta',\n",
       " 'Volcarona',\n",
       " 'Cobalion',\n",
       " 'Terrakion',\n",
       " 'Virizion',\n",
       " 'Tornadus',\n",
       " 'Thundurus',\n",
       " 'Reshiram',\n",
       " 'Zekrom',\n",
       " 'Landorus',\n",
       " 'Kyurem',\n",
       " 'Keldeo',\n",
       " 'Meloetta',\n",
       " 'Genesect',\n",
       " 'Chespin',\n",
       " 'Quilladin',\n",
       " 'Chesnaught',\n",
       " 'Fennekin',\n",
       " 'Braixen',\n",
       " 'Delphox',\n",
       " 'Froakie',\n",
       " 'Frogadier',\n",
       " 'Greninja',\n",
       " 'Bunnelby',\n",
       " 'Diggersby',\n",
       " 'Fletchling',\n",
       " 'Fletchinder',\n",
       " 'Talonflame',\n",
       " 'Scatterbug',\n",
       " 'Spewpa',\n",
       " 'Vivillon',\n",
       " 'Litleo',\n",
       " 'Pyroar',\n",
       " 'Flabébé',\n",
       " 'Floette',\n",
       " 'Florges',\n",
       " 'Skiddo',\n",
       " 'Gogoat',\n",
       " 'Pancham',\n",
       " 'Pangoro',\n",
       " 'Furfrou',\n",
       " 'Espurr',\n",
       " 'Meowstic',\n",
       " 'Honedge',\n",
       " 'Doublade',\n",
       " 'Aegislash',\n",
       " 'Spritzee',\n",
       " 'Aromatisse',\n",
       " 'Swirlix',\n",
       " 'Slurpuff',\n",
       " 'Inkay',\n",
       " 'Malamar',\n",
       " 'Binacle',\n",
       " 'Barbaracle',\n",
       " 'Skrelp',\n",
       " 'Dragalge',\n",
       " 'Clauncher',\n",
       " 'Clawitzer',\n",
       " 'Helioptile',\n",
       " 'Heliolisk',\n",
       " 'Tyrunt',\n",
       " 'Tyrantrum',\n",
       " 'Amaura',\n",
       " 'Aurorus',\n",
       " 'Sylveon',\n",
       " 'Hawlucha',\n",
       " 'Dedenne',\n",
       " 'Carbink',\n",
       " 'Goomy',\n",
       " 'Sliggoo',\n",
       " 'Goodra',\n",
       " 'Klefki',\n",
       " 'Phantump',\n",
       " 'Trevenant',\n",
       " 'Pumpkaboo',\n",
       " 'Gourgeist',\n",
       " 'Bergmite',\n",
       " 'Avalugg',\n",
       " 'Noibat',\n",
       " 'Noivern',\n",
       " 'Xerneas',\n",
       " 'Yveltal',\n",
       " 'Zygarde',\n",
       " 'Diancie',\n",
       " 'Hoopa',\n",
       " 'Volcanion']"
      ]
     },
     "execution_count": 57,
     "metadata": {},
     "output_type": "execute_result"
    }
   ],
   "source": [
    "list(pokemon)"
   ]
  },
  {
   "cell_type": "code",
   "execution_count": 58,
   "id": "b17e5221",
   "metadata": {},
   "outputs": [
    {
     "data": {
      "text/plain": [
       "list"
      ]
     },
     "execution_count": 58,
     "metadata": {},
     "output_type": "execute_result"
    }
   ],
   "source": [
    "type(list(pokemon))"
   ]
  },
  {
   "cell_type": "code",
   "execution_count": 59,
   "id": "d23024a2",
   "metadata": {},
   "outputs": [
    {
     "data": {
      "text/plain": [
       "{0: 'Bulbasaur',\n",
       " 1: 'Ivysaur',\n",
       " 2: 'Venusaur',\n",
       " 3: 'Charmander',\n",
       " 4: 'Charmeleon',\n",
       " 5: 'Charizard',\n",
       " 6: 'Squirtle',\n",
       " 7: 'Wartortle',\n",
       " 8: 'Blastoise',\n",
       " 9: 'Caterpie',\n",
       " 10: 'Metapod',\n",
       " 11: 'Butterfree',\n",
       " 12: 'Weedle',\n",
       " 13: 'Kakuna',\n",
       " 14: 'Beedrill',\n",
       " 15: 'Pidgey',\n",
       " 16: 'Pidgeotto',\n",
       " 17: 'Pidgeot',\n",
       " 18: 'Rattata',\n",
       " 19: 'Raticate',\n",
       " 20: 'Spearow',\n",
       " 21: 'Fearow',\n",
       " 22: 'Ekans',\n",
       " 23: 'Arbok',\n",
       " 24: 'Pikachu',\n",
       " 25: 'Raichu',\n",
       " 26: 'Sandshrew',\n",
       " 27: 'Sandslash',\n",
       " 28: 'Nidoran',\n",
       " 29: 'Nidorina',\n",
       " 30: 'Nidoqueen',\n",
       " 31: 'Nidoran♂',\n",
       " 32: 'Nidorino',\n",
       " 33: 'Nidoking',\n",
       " 34: 'Clefairy',\n",
       " 35: 'Clefable',\n",
       " 36: 'Vulpix',\n",
       " 37: 'Ninetales',\n",
       " 38: 'Jigglypuff',\n",
       " 39: 'Wigglytuff',\n",
       " 40: 'Zubat',\n",
       " 41: 'Golbat',\n",
       " 42: 'Oddish',\n",
       " 43: 'Gloom',\n",
       " 44: 'Vileplume',\n",
       " 45: 'Paras',\n",
       " 46: 'Parasect',\n",
       " 47: 'Venonat',\n",
       " 48: 'Venomoth',\n",
       " 49: 'Diglett',\n",
       " 50: 'Dugtrio',\n",
       " 51: 'Meowth',\n",
       " 52: 'Persian',\n",
       " 53: 'Psyduck',\n",
       " 54: 'Golduck',\n",
       " 55: 'Mankey',\n",
       " 56: 'Primeape',\n",
       " 57: 'Growlithe',\n",
       " 58: 'Arcanine',\n",
       " 59: 'Poliwag',\n",
       " 60: 'Poliwhirl',\n",
       " 61: 'Poliwrath',\n",
       " 62: 'Abra',\n",
       " 63: 'Kadabra',\n",
       " 64: 'Alakazam',\n",
       " 65: 'Machop',\n",
       " 66: 'Machoke',\n",
       " 67: 'Machamp',\n",
       " 68: 'Bellsprout',\n",
       " 69: 'Weepinbell',\n",
       " 70: 'Victreebel',\n",
       " 71: 'Tentacool',\n",
       " 72: 'Tentacruel',\n",
       " 73: 'Geodude',\n",
       " 74: 'Graveler',\n",
       " 75: 'Golem',\n",
       " 76: 'Ponyta',\n",
       " 77: 'Rapidash',\n",
       " 78: 'Slowpoke',\n",
       " 79: 'Slowbro',\n",
       " 80: 'Magnemite',\n",
       " 81: 'Magneton',\n",
       " 82: \"Farfetch'd\",\n",
       " 83: 'Doduo',\n",
       " 84: 'Dodrio',\n",
       " 85: 'Seel',\n",
       " 86: 'Dewgong',\n",
       " 87: 'Grimer',\n",
       " 88: 'Muk',\n",
       " 89: 'Shellder',\n",
       " 90: 'Cloyster',\n",
       " 91: 'Gastly',\n",
       " 92: 'Haunter',\n",
       " 93: 'Gengar',\n",
       " 94: 'Onix',\n",
       " 95: 'Drowzee',\n",
       " 96: 'Hypno',\n",
       " 97: 'Krabby',\n",
       " 98: 'Kingler',\n",
       " 99: 'Voltorb',\n",
       " 100: 'Electrode',\n",
       " 101: 'Exeggcute',\n",
       " 102: 'Exeggutor',\n",
       " 103: 'Cubone',\n",
       " 104: 'Marowak',\n",
       " 105: 'Hitmonlee',\n",
       " 106: 'Hitmonchan',\n",
       " 107: 'Lickitung',\n",
       " 108: 'Koffing',\n",
       " 109: 'Weezing',\n",
       " 110: 'Rhyhorn',\n",
       " 111: 'Rhydon',\n",
       " 112: 'Chansey',\n",
       " 113: 'Tangela',\n",
       " 114: 'Kangaskhan',\n",
       " 115: 'Horsea',\n",
       " 116: 'Seadra',\n",
       " 117: 'Goldeen',\n",
       " 118: 'Seaking',\n",
       " 119: 'Staryu',\n",
       " 120: 'Starmie',\n",
       " 121: 'Mr. Mime',\n",
       " 122: 'Scyther',\n",
       " 123: 'Jynx',\n",
       " 124: 'Electabuzz',\n",
       " 125: 'Magmar',\n",
       " 126: 'Pinsir',\n",
       " 127: 'Tauros',\n",
       " 128: 'Magikarp',\n",
       " 129: 'Gyarados',\n",
       " 130: 'Lapras',\n",
       " 131: 'Ditto',\n",
       " 132: 'Eevee',\n",
       " 133: 'Vaporeon',\n",
       " 134: 'Jolteon',\n",
       " 135: 'Flareon',\n",
       " 136: 'Porygon',\n",
       " 137: 'Omanyte',\n",
       " 138: 'Omastar',\n",
       " 139: 'Kabuto',\n",
       " 140: 'Kabutops',\n",
       " 141: 'Aerodactyl',\n",
       " 142: 'Snorlax',\n",
       " 143: 'Articuno',\n",
       " 144: 'Zapdos',\n",
       " 145: 'Moltres',\n",
       " 146: 'Dratini',\n",
       " 147: 'Dragonair',\n",
       " 148: 'Dragonite',\n",
       " 149: 'Mewtwo',\n",
       " 150: 'Mew',\n",
       " 151: 'Chikorita',\n",
       " 152: 'Bayleef',\n",
       " 153: 'Meganium',\n",
       " 154: 'Cyndaquil',\n",
       " 155: 'Quilava',\n",
       " 156: 'Typhlosion',\n",
       " 157: 'Totodile',\n",
       " 158: 'Croconaw',\n",
       " 159: 'Feraligatr',\n",
       " 160: 'Sentret',\n",
       " 161: 'Furret',\n",
       " 162: 'Hoothoot',\n",
       " 163: 'Noctowl',\n",
       " 164: 'Ledyba',\n",
       " 165: 'Ledian',\n",
       " 166: 'Spinarak',\n",
       " 167: 'Ariados',\n",
       " 168: 'Crobat',\n",
       " 169: 'Chinchou',\n",
       " 170: 'Lanturn',\n",
       " 171: 'Pichu',\n",
       " 172: 'Cleffa',\n",
       " 173: 'Igglybuff',\n",
       " 174: 'Togepi',\n",
       " 175: 'Togetic',\n",
       " 176: 'Natu',\n",
       " 177: 'Xatu',\n",
       " 178: 'Mareep',\n",
       " 179: 'Flaaffy',\n",
       " 180: 'Ampharos',\n",
       " 181: 'Bellossom',\n",
       " 182: 'Marill',\n",
       " 183: 'Azumarill',\n",
       " 184: 'Sudowoodo',\n",
       " 185: 'Politoed',\n",
       " 186: 'Hoppip',\n",
       " 187: 'Skiploom',\n",
       " 188: 'Jumpluff',\n",
       " 189: 'Aipom',\n",
       " 190: 'Sunkern',\n",
       " 191: 'Sunflora',\n",
       " 192: 'Yanma',\n",
       " 193: 'Wooper',\n",
       " 194: 'Quagsire',\n",
       " 195: 'Espeon',\n",
       " 196: 'Umbreon',\n",
       " 197: 'Murkrow',\n",
       " 198: 'Slowking',\n",
       " 199: 'Misdreavus',\n",
       " 200: 'Unown',\n",
       " 201: 'Wobbuffet',\n",
       " 202: 'Girafarig',\n",
       " 203: 'Pineco',\n",
       " 204: 'Forretress',\n",
       " 205: 'Dunsparce',\n",
       " 206: 'Gligar',\n",
       " 207: 'Steelix',\n",
       " 208: 'Snubbull',\n",
       " 209: 'Granbull',\n",
       " 210: 'Qwilfish',\n",
       " 211: 'Scizor',\n",
       " 212: 'Shuckle',\n",
       " 213: 'Heracross',\n",
       " 214: 'Sneasel',\n",
       " 215: 'Teddiursa',\n",
       " 216: 'Ursaring',\n",
       " 217: 'Slugma',\n",
       " 218: 'Magcargo',\n",
       " 219: 'Swinub',\n",
       " 220: 'Piloswine',\n",
       " 221: 'Corsola',\n",
       " 222: 'Remoraid',\n",
       " 223: 'Octillery',\n",
       " 224: 'Delibird',\n",
       " 225: 'Mantine',\n",
       " 226: 'Skarmory',\n",
       " 227: 'Houndour',\n",
       " 228: 'Houndoom',\n",
       " 229: 'Kingdra',\n",
       " 230: 'Phanpy',\n",
       " 231: 'Donphan',\n",
       " 232: 'Porygon2',\n",
       " 233: 'Stantler',\n",
       " 234: 'Smeargle',\n",
       " 235: 'Tyrogue',\n",
       " 236: 'Hitmontop',\n",
       " 237: 'Smoochum',\n",
       " 238: 'Elekid',\n",
       " 239: 'Magby',\n",
       " 240: 'Miltank',\n",
       " 241: 'Blissey',\n",
       " 242: 'Raikou',\n",
       " 243: 'Entei',\n",
       " 244: 'Suicune',\n",
       " 245: 'Larvitar',\n",
       " 246: 'Pupitar',\n",
       " 247: 'Tyranitar',\n",
       " 248: 'Lugia',\n",
       " 249: 'Ho-oh',\n",
       " 250: 'Celebi',\n",
       " 251: 'Treecko',\n",
       " 252: 'Grovyle',\n",
       " 253: 'Sceptile',\n",
       " 254: 'Torchic',\n",
       " 255: 'Combusken',\n",
       " 256: 'Blaziken',\n",
       " 257: 'Mudkip',\n",
       " 258: 'Marshtomp',\n",
       " 259: 'Swampert',\n",
       " 260: 'Poochyena',\n",
       " 261: 'Mightyena',\n",
       " 262: 'Zigzagoon',\n",
       " 263: 'Linoone',\n",
       " 264: 'Wurmple',\n",
       " 265: 'Silcoon',\n",
       " 266: 'Beautifly',\n",
       " 267: 'Cascoon',\n",
       " 268: 'Dustox',\n",
       " 269: 'Lotad',\n",
       " 270: 'Lombre',\n",
       " 271: 'Ludicolo',\n",
       " 272: 'Seedot',\n",
       " 273: 'Nuzleaf',\n",
       " 274: 'Shiftry',\n",
       " 275: 'Taillow',\n",
       " 276: 'Swellow',\n",
       " 277: 'Wingull',\n",
       " 278: 'Pelipper',\n",
       " 279: 'Ralts',\n",
       " 280: 'Kirlia',\n",
       " 281: 'Gardevoir',\n",
       " 282: 'Surskit',\n",
       " 283: 'Masquerain',\n",
       " 284: 'Shroomish',\n",
       " 285: 'Breloom',\n",
       " 286: 'Slakoth',\n",
       " 287: 'Vigoroth',\n",
       " 288: 'Slaking',\n",
       " 289: 'Nincada',\n",
       " 290: 'Ninjask',\n",
       " 291: 'Shedinja',\n",
       " 292: 'Whismur',\n",
       " 293: 'Loudred',\n",
       " 294: 'Exploud',\n",
       " 295: 'Makuhita',\n",
       " 296: 'Hariyama',\n",
       " 297: 'Azurill',\n",
       " 298: 'Nosepass',\n",
       " 299: 'Skitty',\n",
       " 300: 'Delcatty',\n",
       " 301: 'Sableye',\n",
       " 302: 'Mawile',\n",
       " 303: 'Aron',\n",
       " 304: 'Lairon',\n",
       " 305: 'Aggron',\n",
       " 306: 'Meditite',\n",
       " 307: 'Medicham',\n",
       " 308: 'Electrike',\n",
       " 309: 'Manectric',\n",
       " 310: 'Plusle',\n",
       " 311: 'Minun',\n",
       " 312: 'Volbeat',\n",
       " 313: 'Illumise',\n",
       " 314: 'Roselia',\n",
       " 315: 'Gulpin',\n",
       " 316: 'Swalot',\n",
       " 317: 'Carvanha',\n",
       " 318: 'Sharpedo',\n",
       " 319: 'Wailmer',\n",
       " 320: 'Wailord',\n",
       " 321: 'Numel',\n",
       " 322: 'Camerupt',\n",
       " 323: 'Torkoal',\n",
       " 324: 'Spoink',\n",
       " 325: 'Grumpig',\n",
       " 326: 'Spinda',\n",
       " 327: 'Trapinch',\n",
       " 328: 'Vibrava',\n",
       " 329: 'Flygon',\n",
       " 330: 'Cacnea',\n",
       " 331: 'Cacturne',\n",
       " 332: 'Swablu',\n",
       " 333: 'Altaria',\n",
       " 334: 'Zangoose',\n",
       " 335: 'Seviper',\n",
       " 336: 'Lunatone',\n",
       " 337: 'Solrock',\n",
       " 338: 'Barboach',\n",
       " 339: 'Whiscash',\n",
       " 340: 'Corphish',\n",
       " 341: 'Crawdaunt',\n",
       " 342: 'Baltoy',\n",
       " 343: 'Claydol',\n",
       " 344: 'Lileep',\n",
       " 345: 'Cradily',\n",
       " 346: 'Anorith',\n",
       " 347: 'Armaldo',\n",
       " 348: 'Feebas',\n",
       " 349: 'Milotic',\n",
       " 350: 'Castform',\n",
       " 351: 'Kecleon',\n",
       " 352: 'Shuppet',\n",
       " 353: 'Banette',\n",
       " 354: 'Duskull',\n",
       " 355: 'Dusclops',\n",
       " 356: 'Tropius',\n",
       " 357: 'Chimecho',\n",
       " 358: 'Absol',\n",
       " 359: 'Wynaut',\n",
       " 360: 'Snorunt',\n",
       " 361: 'Glalie',\n",
       " 362: 'Spheal',\n",
       " 363: 'Sealeo',\n",
       " 364: 'Walrein',\n",
       " 365: 'Clamperl',\n",
       " 366: 'Huntail',\n",
       " 367: 'Gorebyss',\n",
       " 368: 'Relicanth',\n",
       " 369: 'Luvdisc',\n",
       " 370: 'Bagon',\n",
       " 371: 'Shelgon',\n",
       " 372: 'Salamence',\n",
       " 373: 'Beldum',\n",
       " 374: 'Metang',\n",
       " 375: 'Metagross',\n",
       " 376: 'Regirock',\n",
       " 377: 'Regice',\n",
       " 378: 'Registeel',\n",
       " 379: 'Latias',\n",
       " 380: 'Latios',\n",
       " 381: 'Kyogre',\n",
       " 382: 'Groudon',\n",
       " 383: 'Rayquaza',\n",
       " 384: 'Jirachi',\n",
       " 385: 'Deoxys',\n",
       " 386: 'Turtwig',\n",
       " 387: 'Grotle',\n",
       " 388: 'Torterra',\n",
       " 389: 'Chimchar',\n",
       " 390: 'Monferno',\n",
       " 391: 'Infernape',\n",
       " 392: 'Piplup',\n",
       " 393: 'Prinplup',\n",
       " 394: 'Empoleon',\n",
       " 395: 'Starly',\n",
       " 396: 'Staravia',\n",
       " 397: 'Staraptor',\n",
       " 398: 'Bidoof',\n",
       " 399: 'Bibarel',\n",
       " 400: 'Kricketot',\n",
       " 401: 'Kricketune',\n",
       " 402: 'Shinx',\n",
       " 403: 'Luxio',\n",
       " 404: 'Luxray',\n",
       " 405: 'Budew',\n",
       " 406: 'Roserade',\n",
       " 407: 'Cranidos',\n",
       " 408: 'Rampardos',\n",
       " 409: 'Shieldon',\n",
       " 410: 'Bastiodon',\n",
       " 411: 'Burmy',\n",
       " 412: 'Wormadam',\n",
       " 413: 'Mothim',\n",
       " 414: 'Combee',\n",
       " 415: 'Vespiquen',\n",
       " 416: 'Pachirisu',\n",
       " 417: 'Buizel',\n",
       " 418: 'Floatzel',\n",
       " 419: 'Cherubi',\n",
       " 420: 'Cherrim',\n",
       " 421: 'Shellos',\n",
       " 422: 'Gastrodon',\n",
       " 423: 'Ambipom',\n",
       " 424: 'Drifloon',\n",
       " 425: 'Drifblim',\n",
       " 426: 'Buneary',\n",
       " 427: 'Lopunny',\n",
       " 428: 'Mismagius',\n",
       " 429: 'Honchkrow',\n",
       " 430: 'Glameow',\n",
       " 431: 'Purugly',\n",
       " 432: 'Chingling',\n",
       " 433: 'Stunky',\n",
       " 434: 'Skuntank',\n",
       " 435: 'Bronzor',\n",
       " 436: 'Bronzong',\n",
       " 437: 'Bonsly',\n",
       " 438: 'Mime Jr.',\n",
       " 439: 'Happiny',\n",
       " 440: 'Chatot',\n",
       " 441: 'Spiritomb',\n",
       " 442: 'Gible',\n",
       " 443: 'Gabite',\n",
       " 444: 'Garchomp',\n",
       " 445: 'Munchlax',\n",
       " 446: 'Riolu',\n",
       " 447: 'Lucario',\n",
       " 448: 'Hippopotas',\n",
       " 449: 'Hippowdon',\n",
       " 450: 'Skorupi',\n",
       " 451: 'Drapion',\n",
       " 452: 'Croagunk',\n",
       " 453: 'Toxicroak',\n",
       " 454: 'Carnivine',\n",
       " 455: 'Finneon',\n",
       " 456: 'Lumineon',\n",
       " 457: 'Mantyke',\n",
       " 458: 'Snover',\n",
       " 459: 'Abomasnow',\n",
       " 460: 'Weavile',\n",
       " 461: 'Magnezone',\n",
       " 462: 'Lickilicky',\n",
       " 463: 'Rhyperior',\n",
       " 464: 'Tangrowth',\n",
       " 465: 'Electivire',\n",
       " 466: 'Magmortar',\n",
       " 467: 'Togekiss',\n",
       " 468: 'Yanmega',\n",
       " 469: 'Leafeon',\n",
       " 470: 'Glaceon',\n",
       " 471: 'Gliscor',\n",
       " 472: 'Mamoswine',\n",
       " 473: 'Porygon-Z',\n",
       " 474: 'Gallade',\n",
       " 475: 'Probopass',\n",
       " 476: 'Dusknoir',\n",
       " 477: 'Froslass',\n",
       " 478: 'Rotom',\n",
       " 479: 'Uxie',\n",
       " 480: 'Mesprit',\n",
       " 481: 'Azelf',\n",
       " 482: 'Dialga',\n",
       " 483: 'Palkia',\n",
       " 484: 'Heatran',\n",
       " 485: 'Regigigas',\n",
       " 486: 'Giratina',\n",
       " 487: 'Cresselia',\n",
       " 488: 'Phione',\n",
       " 489: 'Manaphy',\n",
       " 490: 'Darkrai',\n",
       " 491: 'Shaymin',\n",
       " 492: 'Arceus',\n",
       " 493: 'Victini',\n",
       " 494: 'Snivy',\n",
       " 495: 'Servine',\n",
       " 496: 'Serperior',\n",
       " 497: 'Tepig',\n",
       " 498: 'Pignite',\n",
       " 499: 'Emboar',\n",
       " 500: 'Oshawott',\n",
       " 501: 'Dewott',\n",
       " 502: 'Samurott',\n",
       " 503: 'Patrat',\n",
       " 504: 'Watchog',\n",
       " 505: 'Lillipup',\n",
       " 506: 'Herdier',\n",
       " 507: 'Stoutland',\n",
       " 508: 'Purrloin',\n",
       " 509: 'Liepard',\n",
       " 510: 'Pansage',\n",
       " 511: 'Simisage',\n",
       " 512: 'Pansear',\n",
       " 513: 'Simisear',\n",
       " 514: 'Panpour',\n",
       " 515: 'Simipour',\n",
       " 516: 'Munna',\n",
       " 517: 'Musharna',\n",
       " 518: 'Pidove',\n",
       " 519: 'Tranquill',\n",
       " 520: 'Unfezant',\n",
       " 521: 'Blitzle',\n",
       " 522: 'Zebstrika',\n",
       " 523: 'Roggenrola',\n",
       " 524: 'Boldore',\n",
       " 525: 'Gigalith',\n",
       " 526: 'Woobat',\n",
       " 527: 'Swoobat',\n",
       " 528: 'Drilbur',\n",
       " 529: 'Excadrill',\n",
       " 530: 'Audino',\n",
       " 531: 'Timburr',\n",
       " 532: 'Gurdurr',\n",
       " 533: 'Conkeldurr',\n",
       " 534: 'Tympole',\n",
       " 535: 'Palpitoad',\n",
       " 536: 'Seismitoad',\n",
       " 537: 'Throh',\n",
       " 538: 'Sawk',\n",
       " 539: 'Sewaddle',\n",
       " 540: 'Swadloon',\n",
       " 541: 'Leavanny',\n",
       " 542: 'Venipede',\n",
       " 543: 'Whirlipede',\n",
       " 544: 'Scolipede',\n",
       " 545: 'Cottonee',\n",
       " 546: 'Whimsicott',\n",
       " 547: 'Petilil',\n",
       " 548: 'Lilligant',\n",
       " 549: 'Basculin',\n",
       " 550: 'Sandile',\n",
       " 551: 'Krokorok',\n",
       " 552: 'Krookodile',\n",
       " 553: 'Darumaka',\n",
       " 554: 'Darmanitan',\n",
       " 555: 'Maractus',\n",
       " 556: 'Dwebble',\n",
       " 557: 'Crustle',\n",
       " 558: 'Scraggy',\n",
       " 559: 'Scrafty',\n",
       " 560: 'Sigilyph',\n",
       " 561: 'Yamask',\n",
       " 562: 'Cofagrigus',\n",
       " 563: 'Tirtouga',\n",
       " 564: 'Carracosta',\n",
       " 565: 'Archen',\n",
       " 566: 'Archeops',\n",
       " 567: 'Trubbish',\n",
       " 568: 'Garbodor',\n",
       " 569: 'Zorua',\n",
       " 570: 'Zoroark',\n",
       " 571: 'Minccino',\n",
       " 572: 'Cinccino',\n",
       " 573: 'Gothita',\n",
       " 574: 'Gothorita',\n",
       " 575: 'Gothitelle',\n",
       " 576: 'Solosis',\n",
       " 577: 'Duosion',\n",
       " 578: 'Reuniclus',\n",
       " 579: 'Ducklett',\n",
       " 580: 'Swanna',\n",
       " 581: 'Vanillite',\n",
       " 582: 'Vanillish',\n",
       " 583: 'Vanilluxe',\n",
       " 584: 'Deerling',\n",
       " 585: 'Sawsbuck',\n",
       " 586: 'Emolga',\n",
       " 587: 'Karrablast',\n",
       " 588: 'Escavalier',\n",
       " 589: 'Foongus',\n",
       " 590: 'Amoonguss',\n",
       " 591: 'Frillish',\n",
       " 592: 'Jellicent',\n",
       " 593: 'Alomomola',\n",
       " 594: 'Joltik',\n",
       " 595: 'Galvantula',\n",
       " 596: 'Ferroseed',\n",
       " 597: 'Ferrothorn',\n",
       " 598: 'Klink',\n",
       " 599: 'Klang',\n",
       " 600: 'Klinklang',\n",
       " 601: 'Tynamo',\n",
       " 602: 'Eelektrik',\n",
       " 603: 'Eelektross',\n",
       " 604: 'Elgyem',\n",
       " 605: 'Beheeyem',\n",
       " 606: 'Litwick',\n",
       " 607: 'Lampent',\n",
       " 608: 'Chandelure',\n",
       " 609: 'Axew',\n",
       " 610: 'Fraxure',\n",
       " 611: 'Haxorus',\n",
       " 612: 'Cubchoo',\n",
       " 613: 'Beartic',\n",
       " 614: 'Cryogonal',\n",
       " 615: 'Shelmet',\n",
       " 616: 'Accelgor',\n",
       " 617: 'Stunfisk',\n",
       " 618: 'Mienfoo',\n",
       " 619: 'Mienshao',\n",
       " 620: 'Druddigon',\n",
       " 621: 'Golett',\n",
       " 622: 'Golurk',\n",
       " 623: 'Pawniard',\n",
       " 624: 'Bisharp',\n",
       " 625: 'Bouffalant',\n",
       " 626: 'Rufflet',\n",
       " 627: 'Braviary',\n",
       " 628: 'Vullaby',\n",
       " 629: 'Mandibuzz',\n",
       " 630: 'Heatmor',\n",
       " 631: 'Durant',\n",
       " 632: 'Deino',\n",
       " 633: 'Zweilous',\n",
       " 634: 'Hydreigon',\n",
       " 635: 'Larvesta',\n",
       " 636: 'Volcarona',\n",
       " 637: 'Cobalion',\n",
       " 638: 'Terrakion',\n",
       " 639: 'Virizion',\n",
       " 640: 'Tornadus',\n",
       " 641: 'Thundurus',\n",
       " 642: 'Reshiram',\n",
       " 643: 'Zekrom',\n",
       " 644: 'Landorus',\n",
       " 645: 'Kyurem',\n",
       " 646: 'Keldeo',\n",
       " 647: 'Meloetta',\n",
       " 648: 'Genesect',\n",
       " 649: 'Chespin',\n",
       " 650: 'Quilladin',\n",
       " 651: 'Chesnaught',\n",
       " 652: 'Fennekin',\n",
       " 653: 'Braixen',\n",
       " 654: 'Delphox',\n",
       " 655: 'Froakie',\n",
       " 656: 'Frogadier',\n",
       " 657: 'Greninja',\n",
       " 658: 'Bunnelby',\n",
       " 659: 'Diggersby',\n",
       " 660: 'Fletchling',\n",
       " 661: 'Fletchinder',\n",
       " 662: 'Talonflame',\n",
       " 663: 'Scatterbug',\n",
       " 664: 'Spewpa',\n",
       " 665: 'Vivillon',\n",
       " 666: 'Litleo',\n",
       " 667: 'Pyroar',\n",
       " 668: 'Flabébé',\n",
       " 669: 'Floette',\n",
       " 670: 'Florges',\n",
       " 671: 'Skiddo',\n",
       " 672: 'Gogoat',\n",
       " 673: 'Pancham',\n",
       " 674: 'Pangoro',\n",
       " 675: 'Furfrou',\n",
       " 676: 'Espurr',\n",
       " 677: 'Meowstic',\n",
       " 678: 'Honedge',\n",
       " 679: 'Doublade',\n",
       " 680: 'Aegislash',\n",
       " 681: 'Spritzee',\n",
       " 682: 'Aromatisse',\n",
       " 683: 'Swirlix',\n",
       " 684: 'Slurpuff',\n",
       " 685: 'Inkay',\n",
       " 686: 'Malamar',\n",
       " 687: 'Binacle',\n",
       " 688: 'Barbaracle',\n",
       " 689: 'Skrelp',\n",
       " 690: 'Dragalge',\n",
       " 691: 'Clauncher',\n",
       " 692: 'Clawitzer',\n",
       " 693: 'Helioptile',\n",
       " 694: 'Heliolisk',\n",
       " 695: 'Tyrunt',\n",
       " 696: 'Tyrantrum',\n",
       " 697: 'Amaura',\n",
       " 698: 'Aurorus',\n",
       " 699: 'Sylveon',\n",
       " 700: 'Hawlucha',\n",
       " 701: 'Dedenne',\n",
       " 702: 'Carbink',\n",
       " 703: 'Goomy',\n",
       " 704: 'Sliggoo',\n",
       " 705: 'Goodra',\n",
       " 706: 'Klefki',\n",
       " 707: 'Phantump',\n",
       " 708: 'Trevenant',\n",
       " 709: 'Pumpkaboo',\n",
       " 710: 'Gourgeist',\n",
       " 711: 'Bergmite',\n",
       " 712: 'Avalugg',\n",
       " 713: 'Noibat',\n",
       " 714: 'Noivern',\n",
       " 715: 'Xerneas',\n",
       " 716: 'Yveltal',\n",
       " 717: 'Zygarde',\n",
       " 718: 'Diancie',\n",
       " 719: 'Hoopa',\n",
       " 720: 'Volcanion'}"
      ]
     },
     "execution_count": 59,
     "metadata": {},
     "output_type": "execute_result"
    }
   ],
   "source": [
    "dict(pokemon)"
   ]
  },
  {
   "cell_type": "code",
   "execution_count": 60,
   "id": "14129ba2",
   "metadata": {},
   "outputs": [
    {
     "data": {
      "text/plain": [
       "dict"
      ]
     },
     "execution_count": 60,
     "metadata": {},
     "output_type": "execute_result"
    }
   ],
   "source": [
    "type(dict(pokemon))"
   ]
  },
  {
   "cell_type": "code",
   "execution_count": 61,
   "id": "a8e6b9e9",
   "metadata": {},
   "outputs": [
    {
     "data": {
      "text/plain": [
       "'Zygarde'"
      ]
     },
     "execution_count": 61,
     "metadata": {},
     "output_type": "execute_result"
    }
   ],
   "source": [
    "max(pokemon)"
   ]
  },
  {
   "cell_type": "code",
   "execution_count": 62,
   "id": "a90764c2",
   "metadata": {},
   "outputs": [
    {
     "data": {
      "text/plain": [
       "782.22"
      ]
     },
     "execution_count": 62,
     "metadata": {},
     "output_type": "execute_result"
    }
   ],
   "source": [
    "max(google)"
   ]
  },
  {
   "cell_type": "code",
   "execution_count": 63,
   "id": "1ba702f6",
   "metadata": {},
   "outputs": [
    {
     "data": {
      "text/plain": [
       "'Abomasnow'"
      ]
     },
     "execution_count": 63,
     "metadata": {},
     "output_type": "execute_result"
    }
   ],
   "source": [
    "min(pokemon)"
   ]
  },
  {
   "cell_type": "code",
   "execution_count": 64,
   "id": "8967c845",
   "metadata": {},
   "outputs": [
    {
     "data": {
      "text/plain": [
       "49.95"
      ]
     },
     "execution_count": 64,
     "metadata": {},
     "output_type": "execute_result"
    }
   ],
   "source": [
    "min(google)"
   ]
  },
  {
   "cell_type": "markdown",
   "id": "ac93c198",
   "metadata": {},
   "source": [
    "### The sort_values Method"
   ]
  },
  {
   "cell_type": "code",
   "execution_count": 65,
   "id": "c4f0dbc3",
   "metadata": {},
   "outputs": [
    {
     "data": {
      "text/plain": [
       "459    Abomasnow\n",
       "62          Abra\n",
       "358        Absol\n",
       "616     Accelgor\n",
       "680    Aegislash\n",
       "         ...    \n",
       "570      Zoroark\n",
       "569        Zorua\n",
       "40         Zubat\n",
       "633     Zweilous\n",
       "717      Zygarde\n",
       "Name: Pokemon, Length: 721, dtype: object"
      ]
     },
     "execution_count": 65,
     "metadata": {},
     "output_type": "execute_result"
    }
   ],
   "source": [
    "pokemon.sort_values()"
   ]
  },
  {
   "cell_type": "code",
   "execution_count": 66,
   "id": "31fd3d79",
   "metadata": {},
   "outputs": [
    {
     "data": {
      "text/plain": [
       "pandas.core.series.Series"
      ]
     },
     "execution_count": 66,
     "metadata": {},
     "output_type": "execute_result"
    }
   ],
   "source": [
    "type(pokemon.sort_values())"
   ]
  },
  {
   "cell_type": "code",
   "execution_count": 67,
   "id": "490b9007",
   "metadata": {},
   "outputs": [
    {
     "data": {
      "text/plain": [
       "459    Abomasnow\n",
       "62          Abra\n",
       "358        Absol\n",
       "616     Accelgor\n",
       "680    Aegislash\n",
       "Name: Pokemon, dtype: object"
      ]
     },
     "execution_count": 67,
     "metadata": {},
     "output_type": "execute_result"
    }
   ],
   "source": [
    "pokemon.sort_values().head()"
   ]
  },
  {
   "cell_type": "code",
   "execution_count": 68,
   "id": "16568293",
   "metadata": {},
   "outputs": [
    {
     "data": {
      "text/plain": [
       "717      Zygarde\n",
       "633     Zweilous\n",
       "40         Zubat\n",
       "569        Zorua\n",
       "570      Zoroark\n",
       "         ...    \n",
       "680    Aegislash\n",
       "616     Accelgor\n",
       "358        Absol\n",
       "62          Abra\n",
       "459    Abomasnow\n",
       "Name: Pokemon, Length: 721, dtype: object"
      ]
     },
     "execution_count": 68,
     "metadata": {},
     "output_type": "execute_result"
    }
   ],
   "source": [
    "pokemon.sort_values(ascending= False)"
   ]
  },
  {
   "cell_type": "code",
   "execution_count": 69,
   "id": "b89fa6b5",
   "metadata": {},
   "outputs": [
    {
     "data": {
      "text/plain": [
       "11       49.95\n",
       "9        50.07\n",
       "0        50.12\n",
       "10       50.70\n",
       "12       50.74\n",
       "         ...  \n",
       "3010    771.61\n",
       "3007    772.88\n",
       "3009    773.18\n",
       "2859    776.60\n",
       "3011    782.22\n",
       "Name: Stock Price, Length: 3012, dtype: float64"
      ]
     },
     "execution_count": 69,
     "metadata": {},
     "output_type": "execute_result"
    }
   ],
   "source": [
    "google.sort_values()"
   ]
  },
  {
   "cell_type": "code",
   "execution_count": 70,
   "id": "b4c57477",
   "metadata": {},
   "outputs": [
    {
     "data": {
      "text/plain": [
       "3011    782.22\n",
       "2859    776.60\n",
       "3009    773.18\n",
       "3007    772.88\n",
       "3010    771.61\n",
       "         ...  \n",
       "12       50.74\n",
       "10       50.70\n",
       "0        50.12\n",
       "9        50.07\n",
       "11       49.95\n",
       "Name: Stock Price, Length: 3012, dtype: float64"
      ]
     },
     "execution_count": 70,
     "metadata": {},
     "output_type": "execute_result"
    }
   ],
   "source": [
    "google.sort_values(ascending= False)"
   ]
  },
  {
   "cell_type": "markdown",
   "id": "f148ca7c",
   "metadata": {},
   "source": [
    "### Exercise: The sort_values Method"
   ]
  },
  {
   "cell_type": "code",
   "execution_count": 71,
   "id": "b69e98ba",
   "metadata": {},
   "outputs": [],
   "source": [
    "# If you see a test failure when checking your solution,\n",
    "# note that [left] refers to YOUR code while [right]\n",
    "# refers to the correct code that the computer is comparing\n",
    "# to your work\n",
    "\n",
    "import pandas as pd\n",
    "\n",
    "# Below, we have a list of delicious tortilla chip flavors\n",
    "flavors = [\"Spicy Sweet Chili\", \"Cool Ranch\", \"Nacho Cheese\", \"Salsa Verde\"]\n",
    "\n",
    "# Create a new Series object, passing in the flavors list defined above\n",
    "# Assign it to a 'doritos' variable. The resulting Series should look like this:\n",
    "#\n",
    "#\n",
    "#   0    Spicy Sweet Chili\n",
    "#   1           Cool Ranch\n",
    "#   2         Nacho Cheese\n",
    "#   3          Salsa Verde\n",
    "#   dtype: object\n",
    "doritos = pd.Series(flavors)\n",
    "\n",
    "\n",
    "# Below, sort the doritos Series in descending order.\n",
    "# Assign the sorted a Series to a 'sorted_doritos' variable.\n",
    "# The sorted Series should like this:\n",
    "#\n",
    "#   0    Spicy Sweet Chili\n",
    "#   3          Salsa Verde\n",
    "#   2         Nacho Cheese\n",
    "#   1           Cool Ranch\n",
    "#   dtype: object\n",
    "sorted_doritos = doritos.sort_values(ascending= False)"
   ]
  },
  {
   "cell_type": "markdown",
   "id": "d842903b",
   "metadata": {},
   "source": [
    "### The sort_index Method"
   ]
  },
  {
   "cell_type": "code",
   "execution_count": 74,
   "id": "fac24a4e",
   "metadata": {},
   "outputs": [
    {
     "data": {
      "text/plain": [
       "Pokemon\n",
       "Bulbasaur       Grass\n",
       "Ivysaur         Grass\n",
       "Venusaur        Grass\n",
       "Charmander       Fire\n",
       "Charmeleon       Fire\n",
       "               ...   \n",
       "Yveltal          Dark\n",
       "Zygarde        Dragon\n",
       "Diancie          Rock\n",
       "Hoopa         Psychic\n",
       "Volcanion        Fire\n",
       "Name: Type, Length: 721, dtype: object"
      ]
     },
     "execution_count": 74,
     "metadata": {},
     "output_type": "execute_result"
    }
   ],
   "source": [
    "pd.read_csv(\"data\\pokemon.csv\", index_col=\"Pokemon\").squeeze(\"columns\")"
   ]
  },
  {
   "cell_type": "code",
   "execution_count": 76,
   "id": "85a6faac",
   "metadata": {},
   "outputs": [
    {
     "data": {
      "text/plain": [
       "Pokemon\n",
       "Bulbasaur     Grass\n",
       "Ivysaur       Grass\n",
       "Venusaur      Grass\n",
       "Charmander     Fire\n",
       "Charmeleon     Fire\n",
       "Name: Type, dtype: object"
      ]
     },
     "execution_count": 76,
     "metadata": {},
     "output_type": "execute_result"
    }
   ],
   "source": [
    "pokemon = pd.read_csv(\"data\\pokemon.csv\", index_col=\"Pokemon\").squeeze(\"columns\")\n",
    "pokemon.head()"
   ]
  },
  {
   "cell_type": "code",
   "execution_count": 77,
   "id": "89fa3923",
   "metadata": {},
   "outputs": [
    {
     "data": {
      "text/plain": [
       "Pokemon\n",
       "Abomasnow      Grass\n",
       "Abra         Psychic\n",
       "Absol           Dark\n",
       "Accelgor         Bug\n",
       "Aegislash      Steel\n",
       "              ...   \n",
       "Zoroark         Dark\n",
       "Zorua           Dark\n",
       "Zubat         Poison\n",
       "Zweilous        Dark\n",
       "Zygarde       Dragon\n",
       "Name: Type, Length: 721, dtype: object"
      ]
     },
     "execution_count": 77,
     "metadata": {},
     "output_type": "execute_result"
    }
   ],
   "source": [
    "pokemon.sort_index()"
   ]
  },
  {
   "cell_type": "code",
   "execution_count": 78,
   "id": "9a722e75",
   "metadata": {},
   "outputs": [
    {
     "data": {
      "text/plain": [
       "Pokemon\n",
       "Zygarde       Dragon\n",
       "Zweilous        Dark\n",
       "Zubat         Poison\n",
       "Zorua           Dark\n",
       "Zoroark         Dark\n",
       "              ...   \n",
       "Aegislash      Steel\n",
       "Accelgor         Bug\n",
       "Absol           Dark\n",
       "Abra         Psychic\n",
       "Abomasnow      Grass\n",
       "Name: Type, Length: 721, dtype: object"
      ]
     },
     "execution_count": 78,
     "metadata": {},
     "output_type": "execute_result"
    }
   ],
   "source": [
    "pokemon.sort_index(ascending=False)"
   ]
  },
  {
   "cell_type": "markdown",
   "id": "811f2476",
   "metadata": {},
   "source": [
    "### Exercise: The sort_index Method"
   ]
  },
  {
   "cell_type": "code",
   "execution_count": 79,
   "id": "471346fb",
   "metadata": {},
   "outputs": [],
   "source": [
    "# If you see a test failure when checking your solution,\n",
    "# note that [left] refers to YOUR code while [right]\n",
    "# refers to the correct code that the computer is comparing\n",
    "# to your work\n",
    "import pandas as pd\n",
    "\n",
    "# Below, we have a list of delicious drink flavors\n",
    "# We create a sorted Series of strings and assign it to a 'gatorade' variable\n",
    "flavors = [\"Red\", \"Blue\", \"Green\", \"Orange\"]\n",
    "gatorade = pd.Series(flavors).sort_values()\n",
    "\n",
    "# I'd like to return the Series to its original order \n",
    "# (sorted by the numeric index in ascending order). \n",
    "# Sort the gatorade Series by index.\n",
    "# Assign the result to an 'original' variable.\n",
    "original = gatorade.sort_index()\n"
   ]
  },
  {
   "cell_type": "markdown",
   "id": "fd6dedd0",
   "metadata": {},
   "source": [
    "### Check for inclusion with python's in keyword"
   ]
  },
  {
   "cell_type": "code",
   "execution_count": 81,
   "id": "e7709f1f",
   "metadata": {},
   "outputs": [
    {
     "data": {
      "text/plain": [
       "0       Bulbasaur\n",
       "1         Ivysaur\n",
       "2        Venusaur\n",
       "3      Charmander\n",
       "4      Charmeleon\n",
       "          ...    \n",
       "716       Yveltal\n",
       "717       Zygarde\n",
       "718       Diancie\n",
       "719         Hoopa\n",
       "720     Volcanion\n",
       "Name: Pokemon, Length: 721, dtype: object"
      ]
     },
     "execution_count": 81,
     "metadata": {},
     "output_type": "execute_result"
    }
   ],
   "source": [
    "pokemon = pd.read_csv(\"data\\pokemon.csv\", usecols=[\"Pokemon\"]).squeeze(\"columns\")\n",
    "pokemon"
   ]
  },
  {
   "cell_type": "code",
   "execution_count": 82,
   "id": "1838a4ae",
   "metadata": {},
   "outputs": [
    {
     "data": {
      "text/plain": [
       "True"
      ]
     },
     "execution_count": 82,
     "metadata": {},
     "output_type": "execute_result"
    }
   ],
   "source": [
    "\"car\" in \"racecar\""
   ]
  },
  {
   "cell_type": "code",
   "execution_count": 83,
   "id": "7eada2f6",
   "metadata": {},
   "outputs": [
    {
     "data": {
      "text/plain": [
       "True"
      ]
     },
     "execution_count": 83,
     "metadata": {},
     "output_type": "execute_result"
    }
   ],
   "source": [
    "2 in [1, 2, 3]"
   ]
  },
  {
   "cell_type": "code",
   "execution_count": 84,
   "id": "511ea584",
   "metadata": {},
   "outputs": [
    {
     "data": {
      "text/plain": [
       "False"
      ]
     },
     "execution_count": 84,
     "metadata": {},
     "output_type": "execute_result"
    }
   ],
   "source": [
    "#A busca no Pandas ocorre no Index\n",
    "\"Bulbasaur\" in pokemon"
   ]
  },
  {
   "cell_type": "code",
   "execution_count": 85,
   "id": "ccf24abc",
   "metadata": {},
   "outputs": [
    {
     "data": {
      "text/plain": [
       "True"
      ]
     },
     "execution_count": 85,
     "metadata": {},
     "output_type": "execute_result"
    }
   ],
   "source": [
    "100 in pokemon"
   ]
  },
  {
   "cell_type": "code",
   "execution_count": 86,
   "id": "761adcaf",
   "metadata": {},
   "outputs": [
    {
     "data": {
      "text/plain": [
       "RangeIndex(start=0, stop=721, step=1)"
      ]
     },
     "execution_count": 86,
     "metadata": {},
     "output_type": "execute_result"
    }
   ],
   "source": [
    "pokemon.index"
   ]
  },
  {
   "cell_type": "code",
   "execution_count": 87,
   "id": "71392353",
   "metadata": {},
   "outputs": [
    {
     "data": {
      "text/plain": [
       "True"
      ]
     },
     "execution_count": 87,
     "metadata": {},
     "output_type": "execute_result"
    }
   ],
   "source": [
    "100 in pokemon.index"
   ]
  },
  {
   "cell_type": "code",
   "execution_count": 88,
   "id": "b06cee58",
   "metadata": {},
   "outputs": [
    {
     "data": {
      "text/plain": [
       "array(['Bulbasaur', 'Ivysaur', 'Venusaur', 'Charmander', 'Charmeleon',\n",
       "       'Charizard', 'Squirtle', 'Wartortle', 'Blastoise', 'Caterpie',\n",
       "       'Metapod', 'Butterfree', 'Weedle', 'Kakuna', 'Beedrill', 'Pidgey',\n",
       "       'Pidgeotto', 'Pidgeot', 'Rattata', 'Raticate', 'Spearow', 'Fearow',\n",
       "       'Ekans', 'Arbok', 'Pikachu', 'Raichu', 'Sandshrew', 'Sandslash',\n",
       "       'Nidoran', 'Nidorina', 'Nidoqueen', 'Nidoran♂', 'Nidorino',\n",
       "       'Nidoking', 'Clefairy', 'Clefable', 'Vulpix', 'Ninetales',\n",
       "       'Jigglypuff', 'Wigglytuff', 'Zubat', 'Golbat', 'Oddish', 'Gloom',\n",
       "       'Vileplume', 'Paras', 'Parasect', 'Venonat', 'Venomoth', 'Diglett',\n",
       "       'Dugtrio', 'Meowth', 'Persian', 'Psyduck', 'Golduck', 'Mankey',\n",
       "       'Primeape', 'Growlithe', 'Arcanine', 'Poliwag', 'Poliwhirl',\n",
       "       'Poliwrath', 'Abra', 'Kadabra', 'Alakazam', 'Machop', 'Machoke',\n",
       "       'Machamp', 'Bellsprout', 'Weepinbell', 'Victreebel', 'Tentacool',\n",
       "       'Tentacruel', 'Geodude', 'Graveler', 'Golem', 'Ponyta', 'Rapidash',\n",
       "       'Slowpoke', 'Slowbro', 'Magnemite', 'Magneton', \"Farfetch'd\",\n",
       "       'Doduo', 'Dodrio', 'Seel', 'Dewgong', 'Grimer', 'Muk', 'Shellder',\n",
       "       'Cloyster', 'Gastly', 'Haunter', 'Gengar', 'Onix', 'Drowzee',\n",
       "       'Hypno', 'Krabby', 'Kingler', 'Voltorb', 'Electrode', 'Exeggcute',\n",
       "       'Exeggutor', 'Cubone', 'Marowak', 'Hitmonlee', 'Hitmonchan',\n",
       "       'Lickitung', 'Koffing', 'Weezing', 'Rhyhorn', 'Rhydon', 'Chansey',\n",
       "       'Tangela', 'Kangaskhan', 'Horsea', 'Seadra', 'Goldeen', 'Seaking',\n",
       "       'Staryu', 'Starmie', 'Mr. Mime', 'Scyther', 'Jynx', 'Electabuzz',\n",
       "       'Magmar', 'Pinsir', 'Tauros', 'Magikarp', 'Gyarados', 'Lapras',\n",
       "       'Ditto', 'Eevee', 'Vaporeon', 'Jolteon', 'Flareon', 'Porygon',\n",
       "       'Omanyte', 'Omastar', 'Kabuto', 'Kabutops', 'Aerodactyl',\n",
       "       'Snorlax', 'Articuno', 'Zapdos', 'Moltres', 'Dratini', 'Dragonair',\n",
       "       'Dragonite', 'Mewtwo', 'Mew', 'Chikorita', 'Bayleef', 'Meganium',\n",
       "       'Cyndaquil', 'Quilava', 'Typhlosion', 'Totodile', 'Croconaw',\n",
       "       'Feraligatr', 'Sentret', 'Furret', 'Hoothoot', 'Noctowl', 'Ledyba',\n",
       "       'Ledian', 'Spinarak', 'Ariados', 'Crobat', 'Chinchou', 'Lanturn',\n",
       "       'Pichu', 'Cleffa', 'Igglybuff', 'Togepi', 'Togetic', 'Natu',\n",
       "       'Xatu', 'Mareep', 'Flaaffy', 'Ampharos', 'Bellossom', 'Marill',\n",
       "       'Azumarill', 'Sudowoodo', 'Politoed', 'Hoppip', 'Skiploom',\n",
       "       'Jumpluff', 'Aipom', 'Sunkern', 'Sunflora', 'Yanma', 'Wooper',\n",
       "       'Quagsire', 'Espeon', 'Umbreon', 'Murkrow', 'Slowking',\n",
       "       'Misdreavus', 'Unown', 'Wobbuffet', 'Girafarig', 'Pineco',\n",
       "       'Forretress', 'Dunsparce', 'Gligar', 'Steelix', 'Snubbull',\n",
       "       'Granbull', 'Qwilfish', 'Scizor', 'Shuckle', 'Heracross',\n",
       "       'Sneasel', 'Teddiursa', 'Ursaring', 'Slugma', 'Magcargo', 'Swinub',\n",
       "       'Piloswine', 'Corsola', 'Remoraid', 'Octillery', 'Delibird',\n",
       "       'Mantine', 'Skarmory', 'Houndour', 'Houndoom', 'Kingdra', 'Phanpy',\n",
       "       'Donphan', 'Porygon2', 'Stantler', 'Smeargle', 'Tyrogue',\n",
       "       'Hitmontop', 'Smoochum', 'Elekid', 'Magby', 'Miltank', 'Blissey',\n",
       "       'Raikou', 'Entei', 'Suicune', 'Larvitar', 'Pupitar', 'Tyranitar',\n",
       "       'Lugia', 'Ho-oh', 'Celebi', 'Treecko', 'Grovyle', 'Sceptile',\n",
       "       'Torchic', 'Combusken', 'Blaziken', 'Mudkip', 'Marshtomp',\n",
       "       'Swampert', 'Poochyena', 'Mightyena', 'Zigzagoon', 'Linoone',\n",
       "       'Wurmple', 'Silcoon', 'Beautifly', 'Cascoon', 'Dustox', 'Lotad',\n",
       "       'Lombre', 'Ludicolo', 'Seedot', 'Nuzleaf', 'Shiftry', 'Taillow',\n",
       "       'Swellow', 'Wingull', 'Pelipper', 'Ralts', 'Kirlia', 'Gardevoir',\n",
       "       'Surskit', 'Masquerain', 'Shroomish', 'Breloom', 'Slakoth',\n",
       "       'Vigoroth', 'Slaking', 'Nincada', 'Ninjask', 'Shedinja', 'Whismur',\n",
       "       'Loudred', 'Exploud', 'Makuhita', 'Hariyama', 'Azurill',\n",
       "       'Nosepass', 'Skitty', 'Delcatty', 'Sableye', 'Mawile', 'Aron',\n",
       "       'Lairon', 'Aggron', 'Meditite', 'Medicham', 'Electrike',\n",
       "       'Manectric', 'Plusle', 'Minun', 'Volbeat', 'Illumise', 'Roselia',\n",
       "       'Gulpin', 'Swalot', 'Carvanha', 'Sharpedo', 'Wailmer', 'Wailord',\n",
       "       'Numel', 'Camerupt', 'Torkoal', 'Spoink', 'Grumpig', 'Spinda',\n",
       "       'Trapinch', 'Vibrava', 'Flygon', 'Cacnea', 'Cacturne', 'Swablu',\n",
       "       'Altaria', 'Zangoose', 'Seviper', 'Lunatone', 'Solrock',\n",
       "       'Barboach', 'Whiscash', 'Corphish', 'Crawdaunt', 'Baltoy',\n",
       "       'Claydol', 'Lileep', 'Cradily', 'Anorith', 'Armaldo', 'Feebas',\n",
       "       'Milotic', 'Castform', 'Kecleon', 'Shuppet', 'Banette', 'Duskull',\n",
       "       'Dusclops', 'Tropius', 'Chimecho', 'Absol', 'Wynaut', 'Snorunt',\n",
       "       'Glalie', 'Spheal', 'Sealeo', 'Walrein', 'Clamperl', 'Huntail',\n",
       "       'Gorebyss', 'Relicanth', 'Luvdisc', 'Bagon', 'Shelgon',\n",
       "       'Salamence', 'Beldum', 'Metang', 'Metagross', 'Regirock', 'Regice',\n",
       "       'Registeel', 'Latias', 'Latios', 'Kyogre', 'Groudon', 'Rayquaza',\n",
       "       'Jirachi', 'Deoxys', 'Turtwig', 'Grotle', 'Torterra', 'Chimchar',\n",
       "       'Monferno', 'Infernape', 'Piplup', 'Prinplup', 'Empoleon',\n",
       "       'Starly', 'Staravia', 'Staraptor', 'Bidoof', 'Bibarel',\n",
       "       'Kricketot', 'Kricketune', 'Shinx', 'Luxio', 'Luxray', 'Budew',\n",
       "       'Roserade', 'Cranidos', 'Rampardos', 'Shieldon', 'Bastiodon',\n",
       "       'Burmy', 'Wormadam', 'Mothim', 'Combee', 'Vespiquen', 'Pachirisu',\n",
       "       'Buizel', 'Floatzel', 'Cherubi', 'Cherrim', 'Shellos', 'Gastrodon',\n",
       "       'Ambipom', 'Drifloon', 'Drifblim', 'Buneary', 'Lopunny',\n",
       "       'Mismagius', 'Honchkrow', 'Glameow', 'Purugly', 'Chingling',\n",
       "       'Stunky', 'Skuntank', 'Bronzor', 'Bronzong', 'Bonsly', 'Mime Jr.',\n",
       "       'Happiny', 'Chatot', 'Spiritomb', 'Gible', 'Gabite', 'Garchomp',\n",
       "       'Munchlax', 'Riolu', 'Lucario', 'Hippopotas', 'Hippowdon',\n",
       "       'Skorupi', 'Drapion', 'Croagunk', 'Toxicroak', 'Carnivine',\n",
       "       'Finneon', 'Lumineon', 'Mantyke', 'Snover', 'Abomasnow', 'Weavile',\n",
       "       'Magnezone', 'Lickilicky', 'Rhyperior', 'Tangrowth', 'Electivire',\n",
       "       'Magmortar', 'Togekiss', 'Yanmega', 'Leafeon', 'Glaceon',\n",
       "       'Gliscor', 'Mamoswine', 'Porygon-Z', 'Gallade', 'Probopass',\n",
       "       'Dusknoir', 'Froslass', 'Rotom', 'Uxie', 'Mesprit', 'Azelf',\n",
       "       'Dialga', 'Palkia', 'Heatran', 'Regigigas', 'Giratina',\n",
       "       'Cresselia', 'Phione', 'Manaphy', 'Darkrai', 'Shaymin', 'Arceus',\n",
       "       'Victini', 'Snivy', 'Servine', 'Serperior', 'Tepig', 'Pignite',\n",
       "       'Emboar', 'Oshawott', 'Dewott', 'Samurott', 'Patrat', 'Watchog',\n",
       "       'Lillipup', 'Herdier', 'Stoutland', 'Purrloin', 'Liepard',\n",
       "       'Pansage', 'Simisage', 'Pansear', 'Simisear', 'Panpour',\n",
       "       'Simipour', 'Munna', 'Musharna', 'Pidove', 'Tranquill', 'Unfezant',\n",
       "       'Blitzle', 'Zebstrika', 'Roggenrola', 'Boldore', 'Gigalith',\n",
       "       'Woobat', 'Swoobat', 'Drilbur', 'Excadrill', 'Audino', 'Timburr',\n",
       "       'Gurdurr', 'Conkeldurr', 'Tympole', 'Palpitoad', 'Seismitoad',\n",
       "       'Throh', 'Sawk', 'Sewaddle', 'Swadloon', 'Leavanny', 'Venipede',\n",
       "       'Whirlipede', 'Scolipede', 'Cottonee', 'Whimsicott', 'Petilil',\n",
       "       'Lilligant', 'Basculin', 'Sandile', 'Krokorok', 'Krookodile',\n",
       "       'Darumaka', 'Darmanitan', 'Maractus', 'Dwebble', 'Crustle',\n",
       "       'Scraggy', 'Scrafty', 'Sigilyph', 'Yamask', 'Cofagrigus',\n",
       "       'Tirtouga', 'Carracosta', 'Archen', 'Archeops', 'Trubbish',\n",
       "       'Garbodor', 'Zorua', 'Zoroark', 'Minccino', 'Cinccino', 'Gothita',\n",
       "       'Gothorita', 'Gothitelle', 'Solosis', 'Duosion', 'Reuniclus',\n",
       "       'Ducklett', 'Swanna', 'Vanillite', 'Vanillish', 'Vanilluxe',\n",
       "       'Deerling', 'Sawsbuck', 'Emolga', 'Karrablast', 'Escavalier',\n",
       "       'Foongus', 'Amoonguss', 'Frillish', 'Jellicent', 'Alomomola',\n",
       "       'Joltik', 'Galvantula', 'Ferroseed', 'Ferrothorn', 'Klink',\n",
       "       'Klang', 'Klinklang', 'Tynamo', 'Eelektrik', 'Eelektross',\n",
       "       'Elgyem', 'Beheeyem', 'Litwick', 'Lampent', 'Chandelure', 'Axew',\n",
       "       'Fraxure', 'Haxorus', 'Cubchoo', 'Beartic', 'Cryogonal', 'Shelmet',\n",
       "       'Accelgor', 'Stunfisk', 'Mienfoo', 'Mienshao', 'Druddigon',\n",
       "       'Golett', 'Golurk', 'Pawniard', 'Bisharp', 'Bouffalant', 'Rufflet',\n",
       "       'Braviary', 'Vullaby', 'Mandibuzz', 'Heatmor', 'Durant', 'Deino',\n",
       "       'Zweilous', 'Hydreigon', 'Larvesta', 'Volcarona', 'Cobalion',\n",
       "       'Terrakion', 'Virizion', 'Tornadus', 'Thundurus', 'Reshiram',\n",
       "       'Zekrom', 'Landorus', 'Kyurem', 'Keldeo', 'Meloetta', 'Genesect',\n",
       "       'Chespin', 'Quilladin', 'Chesnaught', 'Fennekin', 'Braixen',\n",
       "       'Delphox', 'Froakie', 'Frogadier', 'Greninja', 'Bunnelby',\n",
       "       'Diggersby', 'Fletchling', 'Fletchinder', 'Talonflame',\n",
       "       'Scatterbug', 'Spewpa', 'Vivillon', 'Litleo', 'Pyroar', 'Flabébé',\n",
       "       'Floette', 'Florges', 'Skiddo', 'Gogoat', 'Pancham', 'Pangoro',\n",
       "       'Furfrou', 'Espurr', 'Meowstic', 'Honedge', 'Doublade',\n",
       "       'Aegislash', 'Spritzee', 'Aromatisse', 'Swirlix', 'Slurpuff',\n",
       "       'Inkay', 'Malamar', 'Binacle', 'Barbaracle', 'Skrelp', 'Dragalge',\n",
       "       'Clauncher', 'Clawitzer', 'Helioptile', 'Heliolisk', 'Tyrunt',\n",
       "       'Tyrantrum', 'Amaura', 'Aurorus', 'Sylveon', 'Hawlucha', 'Dedenne',\n",
       "       'Carbink', 'Goomy', 'Sliggoo', 'Goodra', 'Klefki', 'Phantump',\n",
       "       'Trevenant', 'Pumpkaboo', 'Gourgeist', 'Bergmite', 'Avalugg',\n",
       "       'Noibat', 'Noivern', 'Xerneas', 'Yveltal', 'Zygarde', 'Diancie',\n",
       "       'Hoopa', 'Volcanion'], dtype=object)"
      ]
     },
     "execution_count": 88,
     "metadata": {},
     "output_type": "execute_result"
    }
   ],
   "source": [
    "pokemon.values"
   ]
  },
  {
   "cell_type": "code",
   "execution_count": 89,
   "id": "61fb70a9",
   "metadata": {},
   "outputs": [
    {
     "data": {
      "text/plain": [
       "True"
      ]
     },
     "execution_count": 89,
     "metadata": {},
     "output_type": "execute_result"
    }
   ],
   "source": [
    "\"Bulbasaur\" in pokemon.values"
   ]
  },
  {
   "cell_type": "code",
   "execution_count": 90,
   "id": "918ecc23",
   "metadata": {},
   "outputs": [
    {
     "data": {
      "text/plain": [
       "True"
      ]
     },
     "execution_count": 90,
     "metadata": {},
     "output_type": "execute_result"
    }
   ],
   "source": [
    "\"Pikachu\" in pokemon.values"
   ]
  },
  {
   "cell_type": "markdown",
   "id": "92ae2042",
   "metadata": {},
   "source": [
    "### Exercise : Check for inclusion with python's in keyword"
   ]
  },
  {
   "cell_type": "code",
   "execution_count": 91,
   "id": "27b09d4b",
   "metadata": {},
   "outputs": [],
   "source": [
    "# If you see a test failure when checking your solution,\n",
    "# note that [left] refers to YOUR code while [right]\n",
    "# refers to the correct code that the computer is comparing\n",
    "# to your work\n",
    "\n",
    "import pandas as pd\n",
    "\n",
    "# This challenge includes a coffee.csv with 2 columns: \n",
    "# Coffee and Calories. Import the CSV. Assign the Coffee\n",
    "# column to be the index and the Calories column to be the\n",
    "# Series' values. Assign the Series to a 'coffee' variable.\n",
    "\n",
    "#coffee = pd.read_csv(\"coffee.csv\", index_col= [\"Coffee\"], usecols = [\"Coffee\", \"Calories\"]).squeeze(\"columns\")\n",
    "\n",
    "# Check whether the coffee 'Flat White' is present in the data.\n",
    "# Assign the result to a `flat_white` variable\n",
    "\n",
    "#flat_white = \"Flat White\" in coffee\n",
    "\n",
    "# Check whether the coffee 'Cortado' is present in the data.\n",
    "# Assign the result to a `cortado` variable\n",
    "\n",
    "#cortado = \"Cortado\" in coffee\n",
    "\n",
    "# Check whether the coffee 'Blackberry Mocha' is present in the data.\n",
    "# Assign the result to a `blackberry_mocha` variable\n",
    "\n",
    "#blackberry_mocha = \"Blackberry Mocha\" in coffee\n",
    "\n",
    "# Check whether the value 221 is present in the data.\n",
    "# Assign the result to a 'high_calorie' variable.\n",
    "\n",
    "#high_calorie = 221 in coffee.values\n",
    "\n",
    "# Check whether the value 400 is present in the data.\n",
    "# Assign the result to a 'super_high_calorie' variable.\n",
    "\n",
    "#super_high_calorie = 400 in coffee.values"
   ]
  },
  {
   "cell_type": "markdown",
   "id": "0bdcfafe",
   "metadata": {},
   "source": [
    "### Extract Series Value By Index Position"
   ]
  },
  {
   "cell_type": "code",
   "execution_count": 92,
   "id": "da7eb73a",
   "metadata": {},
   "outputs": [
    {
     "data": {
      "text/plain": [
       "2"
      ]
     },
     "execution_count": 92,
     "metadata": {},
     "output_type": "execute_result"
    }
   ],
   "source": [
    "numbers = [1, 2, 3]\n",
    "numbers[1]"
   ]
  },
  {
   "cell_type": "code",
   "execution_count": 93,
   "id": "701cb8eb",
   "metadata": {},
   "outputs": [
    {
     "data": {
      "text/plain": [
       "3"
      ]
     },
     "execution_count": 93,
     "metadata": {},
     "output_type": "execute_result"
    }
   ],
   "source": [
    "numbers[-1]"
   ]
  },
  {
   "cell_type": "code",
   "execution_count": 95,
   "id": "b5a394cf",
   "metadata": {},
   "outputs": [
    {
     "data": {
      "text/plain": [
       "0       Bulbasaur\n",
       "1         Ivysaur\n",
       "2        Venusaur\n",
       "3      Charmander\n",
       "4      Charmeleon\n",
       "          ...    \n",
       "716       Yveltal\n",
       "717       Zygarde\n",
       "718       Diancie\n",
       "719         Hoopa\n",
       "720     Volcanion\n",
       "Name: Pokemon, Length: 721, dtype: object"
      ]
     },
     "execution_count": 95,
     "metadata": {},
     "output_type": "execute_result"
    }
   ],
   "source": [
    "pokemon = pd.read_csv(\"data\\Pokemon.csv\", usecols = [\"Pokemon\"]).squeeze(\"columns\")\n",
    "pokemon"
   ]
  },
  {
   "cell_type": "code",
   "execution_count": 96,
   "id": "a04e0328",
   "metadata": {},
   "outputs": [
    {
     "data": {
      "text/plain": [
       "'Charmander'"
      ]
     },
     "execution_count": 96,
     "metadata": {},
     "output_type": "execute_result"
    }
   ],
   "source": [
    "pokemon[3]"
   ]
  },
  {
   "cell_type": "code",
   "execution_count": 97,
   "id": "6122fe09",
   "metadata": {},
   "outputs": [
    {
     "data": {
      "text/plain": [
       "'Oshawott'"
      ]
     },
     "execution_count": 97,
     "metadata": {},
     "output_type": "execute_result"
    }
   ],
   "source": [
    "pokemon[500]"
   ]
  },
  {
   "cell_type": "code",
   "execution_count": 98,
   "id": "b61aaafe",
   "metadata": {},
   "outputs": [],
   "source": [
    "# pokemon[1500]"
   ]
  },
  {
   "cell_type": "code",
   "execution_count": 99,
   "id": "53583189",
   "metadata": {},
   "outputs": [
    {
     "data": {
      "text/plain": [
       "100    Electrode\n",
       "200        Unown\n",
       "300     Delcatty\n",
       "Name: Pokemon, dtype: object"
      ]
     },
     "execution_count": 99,
     "metadata": {},
     "output_type": "execute_result"
    }
   ],
   "source": [
    "pokemon[[100,200,300]]"
   ]
  },
  {
   "cell_type": "code",
   "execution_count": 100,
   "id": "c6897e6b",
   "metadata": {},
   "outputs": [
    {
     "data": {
      "text/plain": [
       "27    Sandslash\n",
       "28      Nidoran\n",
       "29     Nidorina\n",
       "30    Nidoqueen\n",
       "31     Nidoran♂\n",
       "32     Nidorino\n",
       "33     Nidoking\n",
       "34     Clefairy\n",
       "Name: Pokemon, dtype: object"
      ]
     },
     "execution_count": 100,
     "metadata": {},
     "output_type": "execute_result"
    }
   ],
   "source": [
    "pokemon[27:35]\n",
    "#primeiro índice é inclusivo e o outro é exclusivo"
   ]
  },
  {
   "cell_type": "code",
   "execution_count": 101,
   "id": "cbe50fe7",
   "metadata": {},
   "outputs": [
    {
     "data": {
      "text/plain": [
       "0     Bulbasaur\n",
       "1       Ivysaur\n",
       "2      Venusaur\n",
       "3    Charmander\n",
       "4    Charmeleon\n",
       "5     Charizard\n",
       "6      Squirtle\n",
       "Name: Pokemon, dtype: object"
      ]
     },
     "execution_count": 101,
     "metadata": {},
     "output_type": "execute_result"
    }
   ],
   "source": [
    "pokemon[0:7]"
   ]
  },
  {
   "cell_type": "code",
   "execution_count": 102,
   "id": "988981ae",
   "metadata": {},
   "outputs": [
    {
     "data": {
      "text/plain": [
       "0     Bulbasaur\n",
       "1       Ivysaur\n",
       "2      Venusaur\n",
       "3    Charmander\n",
       "4    Charmeleon\n",
       "5     Charizard\n",
       "6      Squirtle\n",
       "Name: Pokemon, dtype: object"
      ]
     },
     "execution_count": 102,
     "metadata": {},
     "output_type": "execute_result"
    }
   ],
   "source": [
    "pokemon[:7]"
   ]
  },
  {
   "cell_type": "code",
   "execution_count": 103,
   "id": "3e789b55",
   "metadata": {},
   "outputs": [
    {
     "data": {
      "text/plain": [
       "700     Hawlucha\n",
       "701      Dedenne\n",
       "702      Carbink\n",
       "703        Goomy\n",
       "704      Sliggoo\n",
       "705       Goodra\n",
       "706       Klefki\n",
       "707     Phantump\n",
       "708    Trevenant\n",
       "709    Pumpkaboo\n",
       "710    Gourgeist\n",
       "711     Bergmite\n",
       "712      Avalugg\n",
       "713       Noibat\n",
       "714      Noivern\n",
       "715      Xerneas\n",
       "716      Yveltal\n",
       "717      Zygarde\n",
       "718      Diancie\n",
       "719        Hoopa\n",
       "720    Volcanion\n",
       "Name: Pokemon, dtype: object"
      ]
     },
     "execution_count": 103,
     "metadata": {},
     "output_type": "execute_result"
    }
   ],
   "source": [
    "pokemon[700:]"
   ]
  },
  {
   "cell_type": "code",
   "execution_count": 104,
   "id": "45ff77c5",
   "metadata": {},
   "outputs": [],
   "source": [
    "#pokemon[-1]\n",
    "#não funciona nas Séries um índice negativo apenas"
   ]
  },
  {
   "cell_type": "code",
   "execution_count": 105,
   "id": "4373ede4",
   "metadata": {},
   "outputs": [
    {
     "data": {
      "text/plain": [
       "701      Dedenne\n",
       "702      Carbink\n",
       "703        Goomy\n",
       "704      Sliggoo\n",
       "705       Goodra\n",
       "706       Klefki\n",
       "707     Phantump\n",
       "708    Trevenant\n",
       "709    Pumpkaboo\n",
       "710    Gourgeist\n",
       "Name: Pokemon, dtype: object"
      ]
     },
     "execution_count": 105,
     "metadata": {},
     "output_type": "execute_result"
    }
   ],
   "source": [
    "pokemon[-20:-10]\n",
    "#Porém, funciona nas Séries mais de um índices negativos"
   ]
  },
  {
   "cell_type": "code",
   "execution_count": 106,
   "id": "c680090c",
   "metadata": {},
   "outputs": [
    {
     "data": {
      "text/plain": [
       "701      Dedenne\n",
       "702      Carbink\n",
       "703        Goomy\n",
       "704      Sliggoo\n",
       "705       Goodra\n",
       "706       Klefki\n",
       "707     Phantump\n",
       "708    Trevenant\n",
       "709    Pumpkaboo\n",
       "710    Gourgeist\n",
       "711     Bergmite\n",
       "712      Avalugg\n",
       "713       Noibat\n",
       "714      Noivern\n",
       "715      Xerneas\n",
       "716      Yveltal\n",
       "717      Zygarde\n",
       "718      Diancie\n",
       "719        Hoopa\n",
       "720    Volcanion\n",
       "Name: Pokemon, dtype: object"
      ]
     },
     "execution_count": 106,
     "metadata": {},
     "output_type": "execute_result"
    }
   ],
   "source": [
    "pokemon[-20:]\n",
    "#pega os últimos 20 elemntos da Série"
   ]
  },
  {
   "cell_type": "markdown",
   "id": "4a73ae3d",
   "metadata": {},
   "source": [
    "### Extract Series Value By Index Label"
   ]
  },
  {
   "cell_type": "code",
   "execution_count": 107,
   "id": "085384ff",
   "metadata": {},
   "outputs": [],
   "source": [
    "pokemon = pd.read_csv(\"data\\Pokemon.csv\", index_col=\"Pokemon\").squeeze(\"columns\")"
   ]
  },
  {
   "cell_type": "code",
   "execution_count": 108,
   "id": "a2f3cab9",
   "metadata": {},
   "outputs": [
    {
     "data": {
      "text/plain": [
       "Pokemon\n",
       "Bulbasaur     Grass\n",
       "Ivysaur       Grass\n",
       "Venusaur      Grass\n",
       "Charmander     Fire\n",
       "Charmeleon     Fire\n",
       "Name: Type, dtype: object"
      ]
     },
     "execution_count": 108,
     "metadata": {},
     "output_type": "execute_result"
    }
   ],
   "source": [
    "pokemon.head()"
   ]
  },
  {
   "cell_type": "code",
   "execution_count": 109,
   "id": "ecd1fbb8",
   "metadata": {},
   "outputs": [
    {
     "data": {
      "text/plain": [
       "'Grass'"
      ]
     },
     "execution_count": 109,
     "metadata": {},
     "output_type": "execute_result"
    }
   ],
   "source": [
    "pokemon[\"Bulbasaur\"]"
   ]
  },
  {
   "cell_type": "code",
   "execution_count": 110,
   "id": "ff359e7f",
   "metadata": {},
   "outputs": [
    {
     "data": {
      "text/plain": [
       "'Psychic'"
      ]
     },
     "execution_count": 110,
     "metadata": {},
     "output_type": "execute_result"
    }
   ],
   "source": [
    "pokemon[\"Mewtwo\"]"
   ]
  },
  {
   "cell_type": "code",
   "execution_count": 111,
   "id": "17a0c5b8",
   "metadata": {},
   "outputs": [
    {
     "data": {
      "text/plain": [
       "Pokemon\n",
       "Charizard        Fire\n",
       "Jolteon      Electric\n",
       "Mewtwo        Psychic\n",
       "Name: Type, dtype: object"
      ]
     },
     "execution_count": 111,
     "metadata": {},
     "output_type": "execute_result"
    }
   ],
   "source": [
    "pokemon[[\"Charizard\",\"Jolteon\",\"Mewtwo\"]]"
   ]
  },
  {
   "cell_type": "code",
   "execution_count": 112,
   "id": "bd332069",
   "metadata": {},
   "outputs": [],
   "source": [
    "#pokemon[\"Digimon\"]\n",
    "#Índice que não existe"
   ]
  },
  {
   "cell_type": "code",
   "execution_count": 113,
   "id": "75fa96d2",
   "metadata": {},
   "outputs": [],
   "source": [
    "#pokemon[\"Pikachu\", \"Digimon\"]\n",
    "#Todos os elementos da lista devem existir"
   ]
  },
  {
   "cell_type": "markdown",
   "id": "9df03a70",
   "metadata": {},
   "source": [
    "### Exercise: Extract Series Value By Index Label"
   ]
  },
  {
   "cell_type": "code",
   "execution_count": 114,
   "id": "4ae0c196",
   "metadata": {},
   "outputs": [],
   "source": [
    "import pandas as pd\n",
    "\n",
    "# I have a dictionary that maps guitar types to their colors\n",
    "guitars_dict = {\n",
    "    \"Fender Telecaster\": \"Baby Blue\",\n",
    "    \"Gibson Les Paul\": \"Sunburst\",\n",
    "    \"ESP Eclipse\": \"Dark Green\"\n",
    "}\n",
    "\n",
    "# Create a new Series object, passing in the guitars_dict dictionary as the data source.\n",
    "# Assign the resulting Series to a \"guitars\" variable.\n",
    "guitars = pd.Series(guitars_dict)\n",
    "\n",
    "# Access the value for the index position of 0 within the \"guitars\" Series.\n",
    "# Assign the value to a \"fender_color\" variable.\n",
    "fender_color = guitars[0]\n",
    "\n",
    "# Access the value for the index label of \"Gibson Les Paul\" in the \"guitars\" Series.\n",
    "# Assign the value to a \"gibson_color\" variable.\n",
    "gibson_color = guitars[\"Gibson Les Paul\"]\n",
    "\n",
    "# Access the value for the index label of \"ESP Eclipse\" in the \"guitars\" Series.\n",
    "# Assign the value to a \"esp_color\" variable.\n",
    "esp_color = guitars[\"ESP Eclipse\"]"
   ]
  },
  {
   "cell_type": "code",
   "execution_count": 115,
   "id": "45ad889d",
   "metadata": {},
   "outputs": [
    {
     "data": {
      "text/plain": [
       "Fender Telecaster     Baby Blue\n",
       "Gibson Les Paul        Sunburst\n",
       "ESP Eclipse          Dark Green\n",
       "dtype: object"
      ]
     },
     "execution_count": 115,
     "metadata": {},
     "output_type": "execute_result"
    }
   ],
   "source": [
    "guitars"
   ]
  },
  {
   "cell_type": "markdown",
   "id": "4d44d6b6",
   "metadata": {},
   "source": [
    "### The get Method on a Series"
   ]
  },
  {
   "cell_type": "code",
   "execution_count": 116,
   "id": "24f9a836",
   "metadata": {},
   "outputs": [
    {
     "data": {
      "text/plain": [
       "Pokemon\n",
       "Bulbasaur     Grass\n",
       "Ivysaur       Grass\n",
       "Venusaur      Grass\n",
       "Charmander     Fire\n",
       "Charmeleon     Fire\n",
       "Name: Type, dtype: object"
      ]
     },
     "execution_count": 116,
     "metadata": {},
     "output_type": "execute_result"
    }
   ],
   "source": [
    "pokemon = pd.read_csv(\"data\\pokemon.csv\", index_col=\"Pokemon\").squeeze(\"columns\")\n",
    "pokemon.head()"
   ]
  },
  {
   "cell_type": "code",
   "execution_count": 117,
   "id": "178b7b54",
   "metadata": {},
   "outputs": [
    {
     "data": {
      "text/plain": [
       "'Grass'"
      ]
     },
     "execution_count": 117,
     "metadata": {},
     "output_type": "execute_result"
    }
   ],
   "source": [
    "pokemon[0]"
   ]
  },
  {
   "cell_type": "code",
   "execution_count": 118,
   "id": "e140b0c8",
   "metadata": {},
   "outputs": [
    {
     "data": {
      "text/plain": [
       "'Grass'"
      ]
     },
     "execution_count": 118,
     "metadata": {},
     "output_type": "execute_result"
    }
   ],
   "source": [
    "pokemon.get(0)"
   ]
  },
  {
   "cell_type": "code",
   "execution_count": 119,
   "id": "faa59db4",
   "metadata": {},
   "outputs": [
    {
     "data": {
      "text/plain": [
       "'Grass'"
      ]
     },
     "execution_count": 119,
     "metadata": {},
     "output_type": "execute_result"
    }
   ],
   "source": [
    "pokemon.get(\"Bulbasaur\")"
   ]
  },
  {
   "cell_type": "code",
   "execution_count": 120,
   "id": "a6710ba0",
   "metadata": {},
   "outputs": [
    {
     "data": {
      "text/plain": [
       "Pokemon\n",
       "Charizard    Fire\n",
       "Metapod       Bug\n",
       "Name: Type, dtype: object"
      ]
     },
     "execution_count": 120,
     "metadata": {},
     "output_type": "execute_result"
    }
   ],
   "source": [
    "pokemon.get([5, 10])"
   ]
  },
  {
   "cell_type": "code",
   "execution_count": 121,
   "id": "92cbcde5",
   "metadata": {},
   "outputs": [
    {
     "data": {
      "text/plain": [
       "Pokemon\n",
       "Moltres       Fire\n",
       "Bulbasaur    Grass\n",
       "Name: Type, dtype: object"
      ]
     },
     "execution_count": 121,
     "metadata": {},
     "output_type": "execute_result"
    }
   ],
   "source": [
    "pokemon.get([\"Moltres\",\"Bulbasaur\"])"
   ]
  },
  {
   "cell_type": "code",
   "execution_count": 122,
   "id": "e4783c41",
   "metadata": {},
   "outputs": [],
   "source": [
    "#pokemon[\"Digimon\"]\n",
    "#Índice que não existe e dá erro\n",
    "pokemon.get(\"Digimon\")\n",
    "#Com o método get, quando o índice não existe, o método apenas não volta nada"
   ]
  },
  {
   "cell_type": "code",
   "execution_count": 123,
   "id": "dcdc0d51",
   "metadata": {},
   "outputs": [
    {
     "name": "stdout",
     "output_type": "stream",
     "text": [
      "None\n"
     ]
    }
   ],
   "source": [
    "print(pokemon.get(\"Digimon\"))"
   ]
  },
  {
   "cell_type": "code",
   "execution_count": 124,
   "id": "cae7c8c7",
   "metadata": {},
   "outputs": [
    {
     "data": {
      "text/plain": [
       "'Nonexistent'"
      ]
     },
     "execution_count": 124,
     "metadata": {},
     "output_type": "execute_result"
    }
   ],
   "source": [
    "pokemon.get(\"Digimon\", \"Nonexistent\")"
   ]
  },
  {
   "cell_type": "code",
   "execution_count": 125,
   "id": "02d13556",
   "metadata": {},
   "outputs": [],
   "source": [
    "#Isso é o que ocorre por trás das cenas no método get\n",
    "pokemon.get(\"Digimon\", None)"
   ]
  },
  {
   "cell_type": "code",
   "execution_count": 126,
   "id": "9fb8aec8",
   "metadata": {},
   "outputs": [
    {
     "data": {
      "text/plain": [
       "'Fire'"
      ]
     },
     "execution_count": 126,
     "metadata": {},
     "output_type": "execute_result"
    }
   ],
   "source": [
    "pokemon.get(\"Moltres\", \"Nonexistent\")"
   ]
  },
  {
   "cell_type": "code",
   "execution_count": 127,
   "id": "0ad4642c",
   "metadata": {},
   "outputs": [
    {
     "data": {
      "text/plain": [
       "'Nonexistent'"
      ]
     },
     "execution_count": 127,
     "metadata": {},
     "output_type": "execute_result"
    }
   ],
   "source": [
    "pokemon.get([\"Moltres\", \"Digimon\"], \"Nonexistent\")"
   ]
  },
  {
   "cell_type": "code",
   "execution_count": 128,
   "id": "e1134b33",
   "metadata": {},
   "outputs": [
    {
     "data": {
      "text/plain": [
       "Pokemon\n",
       "Bulbasaur    Grass\n",
       "Oshawott     Water\n",
       "Name: Type, dtype: object"
      ]
     },
     "execution_count": 128,
     "metadata": {},
     "output_type": "execute_result"
    }
   ],
   "source": [
    "pokemon.get([0, 500], \"Nonexistent\")"
   ]
  },
  {
   "cell_type": "code",
   "execution_count": 129,
   "id": "cd0f60fb",
   "metadata": {},
   "outputs": [
    {
     "data": {
      "text/plain": [
       "'Nonexistent'"
      ]
     },
     "execution_count": 129,
     "metadata": {},
     "output_type": "execute_result"
    }
   ],
   "source": [
    "pokemon.get([0, 500, 1000], \"Nonexistent\")"
   ]
  },
  {
   "cell_type": "markdown",
   "id": "523bc4f9",
   "metadata": {},
   "source": [
    "### Overwrite a Series value"
   ]
  },
  {
   "cell_type": "code",
   "execution_count": 130,
   "id": "63673784",
   "metadata": {},
   "outputs": [
    {
     "data": {
      "text/plain": [
       "0     Bulbasaur\n",
       "1       Ivysaur\n",
       "2      Venusaur\n",
       "3    Charmander\n",
       "4    Charmeleon\n",
       "Name: Pokemon, dtype: object"
      ]
     },
     "execution_count": 130,
     "metadata": {},
     "output_type": "execute_result"
    }
   ],
   "source": [
    "pokemon = pd.read_csv(\"data\\pokemon.csv\", usecols = [\"Pokemon\"]).squeeze(\"columns\")\n",
    "pokemon.head()"
   ]
  },
  {
   "cell_type": "code",
   "execution_count": 131,
   "id": "9b28e775",
   "metadata": {},
   "outputs": [
    {
     "data": {
      "text/plain": [
       "'Bulbasaur'"
      ]
     },
     "execution_count": 131,
     "metadata": {},
     "output_type": "execute_result"
    }
   ],
   "source": [
    "pokemon[0]"
   ]
  },
  {
   "cell_type": "code",
   "execution_count": 132,
   "id": "0ff0243a",
   "metadata": {},
   "outputs": [],
   "source": [
    "pokemon[0]=\"Borisaur\""
   ]
  },
  {
   "cell_type": "code",
   "execution_count": 133,
   "id": "535d1a14",
   "metadata": {},
   "outputs": [
    {
     "data": {
      "text/plain": [
       "0      Borisaur\n",
       "1       Ivysaur\n",
       "2      Venusaur\n",
       "3    Charmander\n",
       "4    Charmeleon\n",
       "Name: Pokemon, dtype: object"
      ]
     },
     "execution_count": 133,
     "metadata": {},
     "output_type": "execute_result"
    }
   ],
   "source": [
    "pokemon.head()"
   ]
  },
  {
   "cell_type": "code",
   "execution_count": 134,
   "id": "db0b7f21",
   "metadata": {},
   "outputs": [
    {
     "data": {
      "text/plain": [
       "0        Borisaur\n",
       "1         Ivysaur\n",
       "2        Venusaur\n",
       "3      Charmander\n",
       "4      Charmeleon\n",
       "          ...    \n",
       "716       Yveltal\n",
       "717       Zygarde\n",
       "718       Diancie\n",
       "719         Hoopa\n",
       "720     Volcanion\n",
       "Name: Pokemon, Length: 721, dtype: object"
      ]
     },
     "execution_count": 134,
     "metadata": {},
     "output_type": "execute_result"
    }
   ],
   "source": [
    "pokemon"
   ]
  },
  {
   "cell_type": "code",
   "execution_count": 135,
   "id": "855e06ec",
   "metadata": {},
   "outputs": [],
   "source": [
    "pokemon[1500]=\"Hello\""
   ]
  },
  {
   "cell_type": "code",
   "execution_count": 136,
   "id": "a224e375",
   "metadata": {},
   "outputs": [
    {
     "data": {
      "text/plain": [
       "0         Borisaur\n",
       "1          Ivysaur\n",
       "2         Venusaur\n",
       "3       Charmander\n",
       "4       Charmeleon\n",
       "           ...    \n",
       "717        Zygarde\n",
       "718        Diancie\n",
       "719          Hoopa\n",
       "720      Volcanion\n",
       "1500         Hello\n",
       "Name: Pokemon, Length: 722, dtype: object"
      ]
     },
     "execution_count": 136,
     "metadata": {},
     "output_type": "execute_result"
    }
   ],
   "source": [
    "pokemon"
   ]
  },
  {
   "cell_type": "code",
   "execution_count": 137,
   "id": "a1983fe3",
   "metadata": {},
   "outputs": [
    {
     "data": {
      "text/plain": [
       "1       Ivysaur\n",
       "2      Venusaur\n",
       "4    Charmeleon\n",
       "Name: Pokemon, dtype: object"
      ]
     },
     "execution_count": 137,
     "metadata": {},
     "output_type": "execute_result"
    }
   ],
   "source": [
    "pokemon[[1,2,4]]"
   ]
  },
  {
   "cell_type": "code",
   "execution_count": 138,
   "id": "95964b03",
   "metadata": {},
   "outputs": [],
   "source": [
    "pokemon[[1,2,4]] = [\"Firemon\",\"Flamemon\",\"Blazemon\"]"
   ]
  },
  {
   "cell_type": "code",
   "execution_count": 139,
   "id": "709aaa4c",
   "metadata": {},
   "outputs": [
    {
     "data": {
      "text/plain": [
       "1     Firemon\n",
       "2    Flamemon\n",
       "4    Blazemon\n",
       "Name: Pokemon, dtype: object"
      ]
     },
     "execution_count": 139,
     "metadata": {},
     "output_type": "execute_result"
    }
   ],
   "source": [
    "pokemon[[1,2,4]]"
   ]
  },
  {
   "cell_type": "code",
   "execution_count": 140,
   "id": "ceb60122",
   "metadata": {},
   "outputs": [
    {
     "data": {
      "text/plain": [
       "0      Borisaur\n",
       "1       Firemon\n",
       "2      Flamemon\n",
       "3    Charmander\n",
       "4      Blazemon\n",
       "Name: Pokemon, dtype: object"
      ]
     },
     "execution_count": 140,
     "metadata": {},
     "output_type": "execute_result"
    }
   ],
   "source": [
    "pokemon.head()"
   ]
  },
  {
   "cell_type": "code",
   "execution_count": 142,
   "id": "b48222cc",
   "metadata": {},
   "outputs": [
    {
     "data": {
      "text/plain": [
       "Pokemon\n",
       "Bulbasaur     Grass\n",
       "Ivysaur       Grass\n",
       "Venusaur      Grass\n",
       "Charmander     Fire\n",
       "Charmeleon     Fire\n",
       "Name: Type, dtype: object"
      ]
     },
     "execution_count": 142,
     "metadata": {},
     "output_type": "execute_result"
    }
   ],
   "source": [
    "pokemon = pd.read_csv(\"data\\pokemon.csv\", index_col= \"Pokemon\").squeeze(\"columns\")\n",
    "pokemon.head()"
   ]
  },
  {
   "cell_type": "code",
   "execution_count": 143,
   "id": "9d4cb440",
   "metadata": {},
   "outputs": [
    {
     "data": {
      "text/plain": [
       "'Grass'"
      ]
     },
     "execution_count": 143,
     "metadata": {},
     "output_type": "execute_result"
    }
   ],
   "source": [
    "pokemon[\"Bulbasaur\"]"
   ]
  },
  {
   "cell_type": "code",
   "execution_count": 144,
   "id": "918f0a97",
   "metadata": {},
   "outputs": [],
   "source": [
    "pokemon[\"Bulbasaur\"]=\"Awesomemon\""
   ]
  },
  {
   "cell_type": "code",
   "execution_count": 145,
   "id": "cb6ef199",
   "metadata": {},
   "outputs": [
    {
     "data": {
      "text/plain": [
       "Pokemon\n",
       "Bulbasaur     Awesomemon\n",
       "Ivysaur            Grass\n",
       "Venusaur           Grass\n",
       "Charmander          Fire\n",
       "Charmeleon          Fire\n",
       "Name: Type, dtype: object"
      ]
     },
     "execution_count": 145,
     "metadata": {},
     "output_type": "execute_result"
    }
   ],
   "source": [
    "pokemon.head()"
   ]
  },
  {
   "cell_type": "code",
   "execution_count": 146,
   "id": "891cdd7c",
   "metadata": {},
   "outputs": [],
   "source": [
    "pokemon[1]=\"Grassmon\""
   ]
  },
  {
   "cell_type": "code",
   "execution_count": 147,
   "id": "a244ce2c",
   "metadata": {},
   "outputs": [
    {
     "data": {
      "text/plain": [
       "Pokemon\n",
       "Bulbasaur     Awesomemon\n",
       "Ivysaur         Grassmon\n",
       "Venusaur           Grass\n",
       "Charmander          Fire\n",
       "Charmeleon          Fire\n",
       "Name: Type, dtype: object"
      ]
     },
     "execution_count": 147,
     "metadata": {},
     "output_type": "execute_result"
    }
   ],
   "source": [
    "pokemon.head()"
   ]
  },
  {
   "cell_type": "markdown",
   "id": "17791ee4",
   "metadata": {},
   "source": [
    "### The copy method"
   ]
  },
  {
   "cell_type": "code",
   "execution_count": 149,
   "id": "77ac263b",
   "metadata": {},
   "outputs": [
    {
     "data": {
      "text/html": [
       "<div>\n",
       "<style scoped>\n",
       "    .dataframe tbody tr th:only-of-type {\n",
       "        vertical-align: middle;\n",
       "    }\n",
       "\n",
       "    .dataframe tbody tr th {\n",
       "        vertical-align: top;\n",
       "    }\n",
       "\n",
       "    .dataframe thead th {\n",
       "        text-align: right;\n",
       "    }\n",
       "</style>\n",
       "<table border=\"1\" class=\"dataframe\">\n",
       "  <thead>\n",
       "    <tr style=\"text-align: right;\">\n",
       "      <th></th>\n",
       "      <th>Pokemon</th>\n",
       "      <th>Type</th>\n",
       "    </tr>\n",
       "  </thead>\n",
       "  <tbody>\n",
       "    <tr>\n",
       "      <th>0</th>\n",
       "      <td>Bulbasaur</td>\n",
       "      <td>Grass</td>\n",
       "    </tr>\n",
       "    <tr>\n",
       "      <th>1</th>\n",
       "      <td>Ivysaur</td>\n",
       "      <td>Grass</td>\n",
       "    </tr>\n",
       "    <tr>\n",
       "      <th>2</th>\n",
       "      <td>Venusaur</td>\n",
       "      <td>Grass</td>\n",
       "    </tr>\n",
       "    <tr>\n",
       "      <th>3</th>\n",
       "      <td>Charmander</td>\n",
       "      <td>Fire</td>\n",
       "    </tr>\n",
       "    <tr>\n",
       "      <th>4</th>\n",
       "      <td>Charmeleon</td>\n",
       "      <td>Fire</td>\n",
       "    </tr>\n",
       "    <tr>\n",
       "      <th>...</th>\n",
       "      <td>...</td>\n",
       "      <td>...</td>\n",
       "    </tr>\n",
       "    <tr>\n",
       "      <th>716</th>\n",
       "      <td>Yveltal</td>\n",
       "      <td>Dark</td>\n",
       "    </tr>\n",
       "    <tr>\n",
       "      <th>717</th>\n",
       "      <td>Zygarde</td>\n",
       "      <td>Dragon</td>\n",
       "    </tr>\n",
       "    <tr>\n",
       "      <th>718</th>\n",
       "      <td>Diancie</td>\n",
       "      <td>Rock</td>\n",
       "    </tr>\n",
       "    <tr>\n",
       "      <th>719</th>\n",
       "      <td>Hoopa</td>\n",
       "      <td>Psychic</td>\n",
       "    </tr>\n",
       "    <tr>\n",
       "      <th>720</th>\n",
       "      <td>Volcanion</td>\n",
       "      <td>Fire</td>\n",
       "    </tr>\n",
       "  </tbody>\n",
       "</table>\n",
       "<p>721 rows × 2 columns</p>\n",
       "</div>"
      ],
      "text/plain": [
       "        Pokemon     Type\n",
       "0     Bulbasaur    Grass\n",
       "1       Ivysaur    Grass\n",
       "2      Venusaur    Grass\n",
       "3    Charmander     Fire\n",
       "4    Charmeleon     Fire\n",
       "..          ...      ...\n",
       "716     Yveltal     Dark\n",
       "717     Zygarde   Dragon\n",
       "718     Diancie     Rock\n",
       "719       Hoopa  Psychic\n",
       "720   Volcanion     Fire\n",
       "\n",
       "[721 rows x 2 columns]"
      ]
     },
     "execution_count": 149,
     "metadata": {},
     "output_type": "execute_result"
    }
   ],
   "source": [
    "pd.read_csv(\"data\\pokemon.csv\")"
   ]
  },
  {
   "cell_type": "code",
   "execution_count": 151,
   "id": "339018f6",
   "metadata": {},
   "outputs": [
    {
     "data": {
      "text/html": [
       "<div>\n",
       "<style scoped>\n",
       "    .dataframe tbody tr th:only-of-type {\n",
       "        vertical-align: middle;\n",
       "    }\n",
       "\n",
       "    .dataframe tbody tr th {\n",
       "        vertical-align: top;\n",
       "    }\n",
       "\n",
       "    .dataframe thead th {\n",
       "        text-align: right;\n",
       "    }\n",
       "</style>\n",
       "<table border=\"1\" class=\"dataframe\">\n",
       "  <thead>\n",
       "    <tr style=\"text-align: right;\">\n",
       "      <th></th>\n",
       "      <th>Pokemon</th>\n",
       "    </tr>\n",
       "  </thead>\n",
       "  <tbody>\n",
       "    <tr>\n",
       "      <th>0</th>\n",
       "      <td>Bulbasaur</td>\n",
       "    </tr>\n",
       "    <tr>\n",
       "      <th>1</th>\n",
       "      <td>Ivysaur</td>\n",
       "    </tr>\n",
       "    <tr>\n",
       "      <th>2</th>\n",
       "      <td>Venusaur</td>\n",
       "    </tr>\n",
       "    <tr>\n",
       "      <th>3</th>\n",
       "      <td>Charmander</td>\n",
       "    </tr>\n",
       "    <tr>\n",
       "      <th>4</th>\n",
       "      <td>Charmeleon</td>\n",
       "    </tr>\n",
       "    <tr>\n",
       "      <th>...</th>\n",
       "      <td>...</td>\n",
       "    </tr>\n",
       "    <tr>\n",
       "      <th>716</th>\n",
       "      <td>Yveltal</td>\n",
       "    </tr>\n",
       "    <tr>\n",
       "      <th>717</th>\n",
       "      <td>Zygarde</td>\n",
       "    </tr>\n",
       "    <tr>\n",
       "      <th>718</th>\n",
       "      <td>Diancie</td>\n",
       "    </tr>\n",
       "    <tr>\n",
       "      <th>719</th>\n",
       "      <td>Hoopa</td>\n",
       "    </tr>\n",
       "    <tr>\n",
       "      <th>720</th>\n",
       "      <td>Volcanion</td>\n",
       "    </tr>\n",
       "  </tbody>\n",
       "</table>\n",
       "<p>721 rows × 1 columns</p>\n",
       "</div>"
      ],
      "text/plain": [
       "        Pokemon\n",
       "0     Bulbasaur\n",
       "1       Ivysaur\n",
       "2      Venusaur\n",
       "3    Charmander\n",
       "4    Charmeleon\n",
       "..          ...\n",
       "716     Yveltal\n",
       "717     Zygarde\n",
       "718     Diancie\n",
       "719       Hoopa\n",
       "720   Volcanion\n",
       "\n",
       "[721 rows x 1 columns]"
      ]
     },
     "execution_count": 151,
     "metadata": {},
     "output_type": "execute_result"
    }
   ],
   "source": [
    "pd.read_csv(\"data\\pokemon.csv\", usecols= [\"Pokemon\"])"
   ]
  },
  {
   "cell_type": "code",
   "execution_count": 152,
   "id": "d863001d",
   "metadata": {},
   "outputs": [
    {
     "data": {
      "text/plain": [
       "0       Bulbasaur\n",
       "1         Ivysaur\n",
       "2        Venusaur\n",
       "3      Charmander\n",
       "4      Charmeleon\n",
       "          ...    \n",
       "716       Yveltal\n",
       "717       Zygarde\n",
       "718       Diancie\n",
       "719         Hoopa\n",
       "720     Volcanion\n",
       "Name: Pokemon, Length: 721, dtype: object"
      ]
     },
     "execution_count": 152,
     "metadata": {},
     "output_type": "execute_result"
    }
   ],
   "source": [
    "pd.read_csv(\"data\\pokemon.csv\", usecols= [\"Pokemon\"]).squeeze(\"columns\")"
   ]
  },
  {
   "cell_type": "code",
   "execution_count": 153,
   "id": "ad55762b",
   "metadata": {},
   "outputs": [],
   "source": [
    "pokemon_df = pd.read_csv(\"data\\pokemon.csv\", usecols= [\"Pokemon\"])\n",
    "pokemon_series = pokemon_df.squeeze(\"columns\")"
   ]
  },
  {
   "cell_type": "code",
   "execution_count": 154,
   "id": "fa7d6866",
   "metadata": {},
   "outputs": [
    {
     "data": {
      "text/plain": [
       "0       Bulbasaur\n",
       "1         Ivysaur\n",
       "2        Venusaur\n",
       "3      Charmander\n",
       "4      Charmeleon\n",
       "          ...    \n",
       "716       Yveltal\n",
       "717       Zygarde\n",
       "718       Diancie\n",
       "719         Hoopa\n",
       "720     Volcanion\n",
       "Name: Pokemon, Length: 721, dtype: object"
      ]
     },
     "execution_count": 154,
     "metadata": {},
     "output_type": "execute_result"
    }
   ],
   "source": [
    "pokemon_series"
   ]
  },
  {
   "cell_type": "code",
   "execution_count": 155,
   "id": "a9aa7a20",
   "metadata": {},
   "outputs": [],
   "source": [
    "pokemon_series[0] = \"Whatever\""
   ]
  },
  {
   "cell_type": "code",
   "execution_count": 156,
   "id": "ed78c8fd",
   "metadata": {},
   "outputs": [
    {
     "data": {
      "text/plain": [
       "0      Whatever\n",
       "1       Ivysaur\n",
       "2      Venusaur\n",
       "3    Charmander\n",
       "4    Charmeleon\n",
       "Name: Pokemon, dtype: object"
      ]
     },
     "execution_count": 156,
     "metadata": {},
     "output_type": "execute_result"
    }
   ],
   "source": [
    "pokemon_series.head()"
   ]
  },
  {
   "cell_type": "code",
   "execution_count": 157,
   "id": "330679d6",
   "metadata": {},
   "outputs": [
    {
     "data": {
      "text/html": [
       "<div>\n",
       "<style scoped>\n",
       "    .dataframe tbody tr th:only-of-type {\n",
       "        vertical-align: middle;\n",
       "    }\n",
       "\n",
       "    .dataframe tbody tr th {\n",
       "        vertical-align: top;\n",
       "    }\n",
       "\n",
       "    .dataframe thead th {\n",
       "        text-align: right;\n",
       "    }\n",
       "</style>\n",
       "<table border=\"1\" class=\"dataframe\">\n",
       "  <thead>\n",
       "    <tr style=\"text-align: right;\">\n",
       "      <th></th>\n",
       "      <th>Pokemon</th>\n",
       "    </tr>\n",
       "  </thead>\n",
       "  <tbody>\n",
       "    <tr>\n",
       "      <th>0</th>\n",
       "      <td>Whatever</td>\n",
       "    </tr>\n",
       "    <tr>\n",
       "      <th>1</th>\n",
       "      <td>Ivysaur</td>\n",
       "    </tr>\n",
       "    <tr>\n",
       "      <th>2</th>\n",
       "      <td>Venusaur</td>\n",
       "    </tr>\n",
       "    <tr>\n",
       "      <th>3</th>\n",
       "      <td>Charmander</td>\n",
       "    </tr>\n",
       "    <tr>\n",
       "      <th>4</th>\n",
       "      <td>Charmeleon</td>\n",
       "    </tr>\n",
       "    <tr>\n",
       "      <th>...</th>\n",
       "      <td>...</td>\n",
       "    </tr>\n",
       "    <tr>\n",
       "      <th>716</th>\n",
       "      <td>Yveltal</td>\n",
       "    </tr>\n",
       "    <tr>\n",
       "      <th>717</th>\n",
       "      <td>Zygarde</td>\n",
       "    </tr>\n",
       "    <tr>\n",
       "      <th>718</th>\n",
       "      <td>Diancie</td>\n",
       "    </tr>\n",
       "    <tr>\n",
       "      <th>719</th>\n",
       "      <td>Hoopa</td>\n",
       "    </tr>\n",
       "    <tr>\n",
       "      <th>720</th>\n",
       "      <td>Volcanion</td>\n",
       "    </tr>\n",
       "  </tbody>\n",
       "</table>\n",
       "<p>721 rows × 1 columns</p>\n",
       "</div>"
      ],
      "text/plain": [
       "        Pokemon\n",
       "0      Whatever\n",
       "1       Ivysaur\n",
       "2      Venusaur\n",
       "3    Charmander\n",
       "4    Charmeleon\n",
       "..          ...\n",
       "716     Yveltal\n",
       "717     Zygarde\n",
       "718     Diancie\n",
       "719       Hoopa\n",
       "720   Volcanion\n",
       "\n",
       "[721 rows x 1 columns]"
      ]
     },
     "execution_count": 157,
     "metadata": {},
     "output_type": "execute_result"
    }
   ],
   "source": [
    "pokemon_df"
   ]
  },
  {
   "cell_type": "markdown",
   "id": "c2e94f31",
   "metadata": {},
   "source": [
    "Veja que o objeto \"pokemon_df\" foi modificado também.  \n",
    "Isso porque o objeto \"pokemon_series\" na verdade não é um objeto diferente do \"pokemon_df\".  \n",
    "Ele é apenas uma view (ou perspeciva) de \"pokemon_df\".  \n",
    "O objeto \"pokemon_series\" é uma parte de \"pokemon_df\".  \n",
    "Agora criaremos um objeto diferente."
   ]
  },
  {
   "cell_type": "code",
   "execution_count": 158,
   "id": "3f5afe79",
   "metadata": {},
   "outputs": [],
   "source": [
    "pokemon_df = pd.read_csv(\"data\\pokemon.csv\", usecols= [\"Pokemon\"])\n",
    "pokemon_series = pokemon_df.squeeze(\"columns\").copy()"
   ]
  },
  {
   "cell_type": "code",
   "execution_count": 159,
   "id": "3708bef5",
   "metadata": {},
   "outputs": [],
   "source": [
    "pokemon_series[0] = \"Whatever\""
   ]
  },
  {
   "cell_type": "code",
   "execution_count": 160,
   "id": "e268fb64",
   "metadata": {},
   "outputs": [
    {
     "data": {
      "text/plain": [
       "0      Whatever\n",
       "1       Ivysaur\n",
       "2      Venusaur\n",
       "3    Charmander\n",
       "4    Charmeleon\n",
       "Name: Pokemon, dtype: object"
      ]
     },
     "execution_count": 160,
     "metadata": {},
     "output_type": "execute_result"
    }
   ],
   "source": [
    "pokemon_series.head()"
   ]
  },
  {
   "cell_type": "code",
   "execution_count": 161,
   "id": "71d73ac4",
   "metadata": {
    "scrolled": true
   },
   "outputs": [
    {
     "data": {
      "text/html": [
       "<div>\n",
       "<style scoped>\n",
       "    .dataframe tbody tr th:only-of-type {\n",
       "        vertical-align: middle;\n",
       "    }\n",
       "\n",
       "    .dataframe tbody tr th {\n",
       "        vertical-align: top;\n",
       "    }\n",
       "\n",
       "    .dataframe thead th {\n",
       "        text-align: right;\n",
       "    }\n",
       "</style>\n",
       "<table border=\"1\" class=\"dataframe\">\n",
       "  <thead>\n",
       "    <tr style=\"text-align: right;\">\n",
       "      <th></th>\n",
       "      <th>Pokemon</th>\n",
       "    </tr>\n",
       "  </thead>\n",
       "  <tbody>\n",
       "    <tr>\n",
       "      <th>0</th>\n",
       "      <td>Bulbasaur</td>\n",
       "    </tr>\n",
       "    <tr>\n",
       "      <th>1</th>\n",
       "      <td>Ivysaur</td>\n",
       "    </tr>\n",
       "    <tr>\n",
       "      <th>2</th>\n",
       "      <td>Venusaur</td>\n",
       "    </tr>\n",
       "    <tr>\n",
       "      <th>3</th>\n",
       "      <td>Charmander</td>\n",
       "    </tr>\n",
       "    <tr>\n",
       "      <th>4</th>\n",
       "      <td>Charmeleon</td>\n",
       "    </tr>\n",
       "    <tr>\n",
       "      <th>...</th>\n",
       "      <td>...</td>\n",
       "    </tr>\n",
       "    <tr>\n",
       "      <th>716</th>\n",
       "      <td>Yveltal</td>\n",
       "    </tr>\n",
       "    <tr>\n",
       "      <th>717</th>\n",
       "      <td>Zygarde</td>\n",
       "    </tr>\n",
       "    <tr>\n",
       "      <th>718</th>\n",
       "      <td>Diancie</td>\n",
       "    </tr>\n",
       "    <tr>\n",
       "      <th>719</th>\n",
       "      <td>Hoopa</td>\n",
       "    </tr>\n",
       "    <tr>\n",
       "      <th>720</th>\n",
       "      <td>Volcanion</td>\n",
       "    </tr>\n",
       "  </tbody>\n",
       "</table>\n",
       "<p>721 rows × 1 columns</p>\n",
       "</div>"
      ],
      "text/plain": [
       "        Pokemon\n",
       "0     Bulbasaur\n",
       "1       Ivysaur\n",
       "2      Venusaur\n",
       "3    Charmander\n",
       "4    Charmeleon\n",
       "..          ...\n",
       "716     Yveltal\n",
       "717     Zygarde\n",
       "718     Diancie\n",
       "719       Hoopa\n",
       "720   Volcanion\n",
       "\n",
       "[721 rows x 1 columns]"
      ]
     },
     "execution_count": 161,
     "metadata": {},
     "output_type": "execute_result"
    }
   ],
   "source": [
    "pokemon_df"
   ]
  },
  {
   "cell_type": "markdown",
   "id": "9d510e12",
   "metadata": {},
   "source": [
    "O objeto \"Copy\" é um clone do objeto  \n",
    "É importante em cada método chamado em um objeto saber se você está criando um novo objeto ou está modificando o objeto atual e criando uma view.  \n"
   ]
  },
  {
   "cell_type": "markdown",
   "id": "d5f572d0",
   "metadata": {},
   "source": [
    "### The inplace Parameter"
   ]
  },
  {
   "cell_type": "code",
   "execution_count": 162,
   "id": "74e8d77a",
   "metadata": {},
   "outputs": [
    {
     "data": {
      "text/plain": [
       "0        50.12\n",
       "1        54.10\n",
       "2        54.65\n",
       "3        52.38\n",
       "4        52.95\n",
       "         ...  \n",
       "3007    772.88\n",
       "3008    771.07\n",
       "3009    773.18\n",
       "3010    771.61\n",
       "3011    782.22\n",
       "Name: Stock Price, Length: 3012, dtype: float64"
      ]
     },
     "execution_count": 162,
     "metadata": {},
     "output_type": "execute_result"
    }
   ],
   "source": [
    "google = (\n",
    "    pd.read_csv(\"data\\google_stock_price.csv\", usecols=[\"Stock Price\"])\n",
    "    .squeeze(\"columns\")\n",
    "    .copy()\n",
    ")\n",
    "google"
   ]
  },
  {
   "cell_type": "code",
   "execution_count": 163,
   "id": "7c8a33a7",
   "metadata": {},
   "outputs": [],
   "source": [
    "google = google.sort_values()"
   ]
  },
  {
   "cell_type": "code",
   "execution_count": 164,
   "id": "fdd14cc8",
   "metadata": {},
   "outputs": [
    {
     "data": {
      "text/plain": [
       "11       49.95\n",
       "9        50.07\n",
       "0        50.12\n",
       "10       50.70\n",
       "12       50.74\n",
       "         ...  \n",
       "3010    771.61\n",
       "3007    772.88\n",
       "3009    773.18\n",
       "2859    776.60\n",
       "3011    782.22\n",
       "Name: Stock Price, Length: 3012, dtype: float64"
      ]
     },
     "execution_count": 164,
     "metadata": {},
     "output_type": "execute_result"
    }
   ],
   "source": [
    "google"
   ]
  },
  {
   "cell_type": "code",
   "execution_count": 165,
   "id": "1877025a",
   "metadata": {},
   "outputs": [],
   "source": [
    "google.sort_values(inplace=True)"
   ]
  },
  {
   "cell_type": "code",
   "execution_count": 166,
   "id": "d4ff240d",
   "metadata": {},
   "outputs": [
    {
     "data": {
      "text/plain": [
       "11       49.95\n",
       "9        50.07\n",
       "0        50.12\n",
       "10       50.70\n",
       "12       50.74\n",
       "         ...  \n",
       "3010    771.61\n",
       "3007    772.88\n",
       "3009    773.18\n",
       "2859    776.60\n",
       "3011    782.22\n",
       "Name: Stock Price, Length: 3012, dtype: float64"
      ]
     },
     "execution_count": 166,
     "metadata": {},
     "output_type": "execute_result"
    }
   ],
   "source": [
    "google"
   ]
  },
  {
   "cell_type": "code",
   "execution_count": 167,
   "id": "d51164dd",
   "metadata": {},
   "outputs": [
    {
     "data": {
      "text/plain": [
       "0        50.12\n",
       "1        54.10\n",
       "2        54.65\n",
       "3        52.38\n",
       "4        52.95\n",
       "         ...  \n",
       "3007    772.88\n",
       "3008    771.07\n",
       "3009    773.18\n",
       "3010    771.61\n",
       "3011    782.22\n",
       "Name: Stock Price, Length: 3012, dtype: float64"
      ]
     },
     "execution_count": 167,
     "metadata": {},
     "output_type": "execute_result"
    }
   ],
   "source": [
    "google.sort_index()"
   ]
  },
  {
   "cell_type": "code",
   "execution_count": 168,
   "id": "3da7c3c2",
   "metadata": {},
   "outputs": [
    {
     "data": {
      "text/plain": [
       "11       49.95\n",
       "9        50.07\n",
       "0        50.12\n",
       "10       50.70\n",
       "12       50.74\n",
       "         ...  \n",
       "3010    771.61\n",
       "3007    772.88\n",
       "3009    773.18\n",
       "2859    776.60\n",
       "3011    782.22\n",
       "Name: Stock Price, Length: 3012, dtype: float64"
      ]
     },
     "execution_count": 168,
     "metadata": {},
     "output_type": "execute_result"
    }
   ],
   "source": [
    "google"
   ]
  },
  {
   "cell_type": "code",
   "execution_count": 169,
   "id": "9e420b0a",
   "metadata": {},
   "outputs": [],
   "source": [
    "google.sort_index(inplace=True)"
   ]
  },
  {
   "cell_type": "code",
   "execution_count": 170,
   "id": "3eba3780",
   "metadata": {},
   "outputs": [
    {
     "data": {
      "text/plain": [
       "0        50.12\n",
       "1        54.10\n",
       "2        54.65\n",
       "3        52.38\n",
       "4        52.95\n",
       "         ...  \n",
       "3007    772.88\n",
       "3008    771.07\n",
       "3009    773.18\n",
       "3010    771.61\n",
       "3011    782.22\n",
       "Name: Stock Price, Length: 3012, dtype: float64"
      ]
     },
     "execution_count": 170,
     "metadata": {},
     "output_type": "execute_result"
    }
   ],
   "source": [
    "google"
   ]
  },
  {
   "cell_type": "code",
   "execution_count": 171,
   "id": "0f2c44b8",
   "metadata": {},
   "outputs": [
    {
     "data": {
      "text/plain": [
       "0        50.12\n",
       "1        54.10\n",
       "2        54.65\n",
       "3        52.38\n",
       "4        52.95\n",
       "         ...  \n",
       "3007    772.88\n",
       "3008    771.07\n",
       "3009    773.18\n",
       "3010    771.61\n",
       "3011    782.22\n",
       "Name: Stock Price, Length: 3012, dtype: float64"
      ]
     },
     "execution_count": 171,
     "metadata": {},
     "output_type": "execute_result"
    }
   ],
   "source": [
    "google = (\n",
    "    pd.read_csv(\"data\\google_stock_price.csv\", usecols=[\"Stock Price\"])\n",
    "    .squeeze(\"columns\")\n",
    ")\n",
    "google"
   ]
  },
  {
   "cell_type": "code",
   "execution_count": 172,
   "id": "1f6a42f2",
   "metadata": {},
   "outputs": [
    {
     "data": {
      "text/plain": [
       "11       49.95\n",
       "9        50.07\n",
       "0        50.12\n",
       "10       50.70\n",
       "12       50.74\n",
       "         ...  \n",
       "3010    771.61\n",
       "3007    772.88\n",
       "3009    773.18\n",
       "2859    776.60\n",
       "3011    782.22\n",
       "Name: Stock Price, Length: 3012, dtype: float64"
      ]
     },
     "execution_count": 172,
     "metadata": {},
     "output_type": "execute_result"
    }
   ],
   "source": [
    "google.sort_values()"
   ]
  },
  {
   "cell_type": "code",
   "execution_count": 173,
   "id": "30fb4c3f",
   "metadata": {},
   "outputs": [],
   "source": [
    "#google.sort_values(inplace=True)"
   ]
  },
  {
   "cell_type": "code",
   "execution_count": 174,
   "id": "a463623c",
   "metadata": {},
   "outputs": [],
   "source": [
    "google2 = google.copy()\n",
    "google2.sort_values(inplace = True)"
   ]
  },
  {
   "cell_type": "markdown",
   "id": "f4eb55d4",
   "metadata": {},
   "source": [
    "### Math methods on Series objects"
   ]
  },
  {
   "cell_type": "code",
   "execution_count": 175,
   "id": "c55596c2",
   "metadata": {},
   "outputs": [
    {
     "data": {
      "text/plain": [
       "0        50.12\n",
       "1        54.10\n",
       "2        54.65\n",
       "3        52.38\n",
       "4        52.95\n",
       "         ...  \n",
       "3007    772.88\n",
       "3008    771.07\n",
       "3009    773.18\n",
       "3010    771.61\n",
       "3011    782.22\n",
       "Name: Stock Price, Length: 3012, dtype: float64"
      ]
     },
     "execution_count": 175,
     "metadata": {},
     "output_type": "execute_result"
    }
   ],
   "source": [
    "google = (\n",
    "    pd.read_csv(\"data\\google_stock_price.csv\", usecols=[\"Stock Price\"])\n",
    "    .squeeze(\"columns\")\n",
    ")\n",
    "google"
   ]
  },
  {
   "cell_type": "code",
   "execution_count": 176,
   "id": "8cde7dd6",
   "metadata": {},
   "outputs": [
    {
     "data": {
      "text/plain": [
       "3012"
      ]
     },
     "execution_count": 176,
     "metadata": {},
     "output_type": "execute_result"
    }
   ],
   "source": [
    "google.count()"
   ]
  },
  {
   "cell_type": "code",
   "execution_count": 177,
   "id": "68ce7129",
   "metadata": {},
   "outputs": [
    {
     "data": {
      "text/plain": [
       "1006942.0"
      ]
     },
     "execution_count": 177,
     "metadata": {},
     "output_type": "execute_result"
    }
   ],
   "source": [
    "google.sum()"
   ]
  },
  {
   "cell_type": "code",
   "execution_count": 178,
   "id": "2f19d4c0",
   "metadata": {},
   "outputs": [
    {
     "data": {
      "text/plain": [
       "334.3100929614874"
      ]
     },
     "execution_count": 178,
     "metadata": {},
     "output_type": "execute_result"
    }
   ],
   "source": [
    "google.mean()"
   ]
  },
  {
   "cell_type": "code",
   "execution_count": 179,
   "id": "4330c55a",
   "metadata": {},
   "outputs": [
    {
     "data": {
      "text/plain": [
       "inf"
      ]
     },
     "execution_count": 179,
     "metadata": {},
     "output_type": "execute_result"
    }
   ],
   "source": [
    "google.product()"
   ]
  },
  {
   "cell_type": "code",
   "execution_count": 180,
   "id": "a0bed393",
   "metadata": {},
   "outputs": [
    {
     "data": {
      "text/plain": [
       "173.18720477113115"
      ]
     },
     "execution_count": 180,
     "metadata": {},
     "output_type": "execute_result"
    }
   ],
   "source": [
    "google.std()"
   ]
  },
  {
   "cell_type": "code",
   "execution_count": 181,
   "id": "04918637",
   "metadata": {},
   "outputs": [
    {
     "data": {
      "text/plain": [
       "49.95"
      ]
     },
     "execution_count": 181,
     "metadata": {},
     "output_type": "execute_result"
    }
   ],
   "source": [
    "google.min()"
   ]
  },
  {
   "cell_type": "code",
   "execution_count": 182,
   "id": "7b6917d9",
   "metadata": {},
   "outputs": [
    {
     "data": {
      "text/plain": [
       "782.22"
      ]
     },
     "execution_count": 182,
     "metadata": {},
     "output_type": "execute_result"
    }
   ],
   "source": [
    "google.max()"
   ]
  },
  {
   "cell_type": "code",
   "execution_count": 183,
   "id": "d4f0bf82",
   "metadata": {},
   "outputs": [
    {
     "data": {
      "text/plain": [
       "283.315"
      ]
     },
     "execution_count": 183,
     "metadata": {},
     "output_type": "execute_result"
    }
   ],
   "source": [
    "google.median()"
   ]
  },
  {
   "cell_type": "code",
   "execution_count": 184,
   "id": "2035a12e",
   "metadata": {},
   "outputs": [
    {
     "data": {
      "text/plain": [
       "0    291.21\n",
       "Name: Stock Price, dtype: float64"
      ]
     },
     "execution_count": 184,
     "metadata": {},
     "output_type": "execute_result"
    }
   ],
   "source": [
    "google.mode()"
   ]
  },
  {
   "cell_type": "code",
   "execution_count": 185,
   "id": "9d82ee69",
   "metadata": {},
   "outputs": [
    {
     "data": {
      "text/plain": [
       "count    3012.000000\n",
       "mean      334.310093\n",
       "std       173.187205\n",
       "min        49.950000\n",
       "25%       218.045000\n",
       "50%       283.315000\n",
       "75%       443.000000\n",
       "max       782.220000\n",
       "Name: Stock Price, dtype: float64"
      ]
     },
     "execution_count": 185,
     "metadata": {},
     "output_type": "execute_result"
    }
   ],
   "source": [
    "google.describe()"
   ]
  },
  {
   "cell_type": "markdown",
   "id": "6e917592",
   "metadata": {},
   "source": [
    "### Broadcating"
   ]
  },
  {
   "cell_type": "code",
   "execution_count": 186,
   "id": "948e99f3",
   "metadata": {},
   "outputs": [
    {
     "data": {
      "text/plain": [
       "0        50.12\n",
       "1        54.10\n",
       "2        54.65\n",
       "3        52.38\n",
       "4        52.95\n",
       "         ...  \n",
       "3007    772.88\n",
       "3008    771.07\n",
       "3009    773.18\n",
       "3010    771.61\n",
       "3011    782.22\n",
       "Name: Stock Price, Length: 3012, dtype: float64"
      ]
     },
     "execution_count": 186,
     "metadata": {},
     "output_type": "execute_result"
    }
   ],
   "source": [
    "google = (\n",
    "    pd.read_csv(\"data\\google_stock_price.csv\", usecols=[\"Stock Price\"])\n",
    "    .squeeze(\"columns\")\n",
    ")\n",
    "google"
   ]
  },
  {
   "cell_type": "code",
   "execution_count": 187,
   "id": "a3418926",
   "metadata": {},
   "outputs": [
    {
     "data": {
      "text/plain": [
       "0        60.12\n",
       "1        64.10\n",
       "2        64.65\n",
       "3        62.38\n",
       "4        62.95\n",
       "         ...  \n",
       "3007    782.88\n",
       "3008    781.07\n",
       "3009    783.18\n",
       "3010    781.61\n",
       "3011    792.22\n",
       "Name: Stock Price, Length: 3012, dtype: float64"
      ]
     },
     "execution_count": 187,
     "metadata": {},
     "output_type": "execute_result"
    }
   ],
   "source": [
    "google + 10"
   ]
  },
  {
   "cell_type": "code",
   "execution_count": 188,
   "id": "4ac118d8",
   "metadata": {},
   "outputs": [
    {
     "data": {
      "text/plain": [
       "0        20.12\n",
       "1        24.10\n",
       "2        24.65\n",
       "3        22.38\n",
       "4        22.95\n",
       "         ...  \n",
       "3007    742.88\n",
       "3008    741.07\n",
       "3009    743.18\n",
       "3010    741.61\n",
       "3011    752.22\n",
       "Name: Stock Price, Length: 3012, dtype: float64"
      ]
     },
     "execution_count": 188,
     "metadata": {},
     "output_type": "execute_result"
    }
   ],
   "source": [
    "google - 30"
   ]
  },
  {
   "cell_type": "code",
   "execution_count": 189,
   "id": "d657e578",
   "metadata": {},
   "outputs": [
    {
     "data": {
      "text/plain": [
       "0        100.24\n",
       "1        108.20\n",
       "2        109.30\n",
       "3        104.76\n",
       "4        105.90\n",
       "         ...   \n",
       "3007    1545.76\n",
       "3008    1542.14\n",
       "3009    1546.36\n",
       "3010    1543.22\n",
       "3011    1564.44\n",
       "Name: Stock Price, Length: 3012, dtype: float64"
      ]
     },
     "execution_count": 189,
     "metadata": {},
     "output_type": "execute_result"
    }
   ],
   "source": [
    "google * 2"
   ]
  },
  {
   "cell_type": "code",
   "execution_count": 190,
   "id": "2080127b",
   "metadata": {},
   "outputs": [
    {
     "data": {
      "text/plain": [
       "0        60.12\n",
       "1        64.10\n",
       "2        64.65\n",
       "3        62.38\n",
       "4        62.95\n",
       "         ...  \n",
       "3007    782.88\n",
       "3008    781.07\n",
       "3009    783.18\n",
       "3010    781.61\n",
       "3011    792.22\n",
       "Name: Stock Price, Length: 3012, dtype: float64"
      ]
     },
     "execution_count": 190,
     "metadata": {},
     "output_type": "execute_result"
    }
   ],
   "source": [
    "google.add(10)"
   ]
  },
  {
   "cell_type": "markdown",
   "id": "1ae414be",
   "metadata": {},
   "source": [
    "### The value_counts Method"
   ]
  },
  {
   "cell_type": "code",
   "execution_count": 191,
   "id": "376768d3",
   "metadata": {},
   "outputs": [
    {
     "data": {
      "text/plain": [
       "Pokemon\n",
       "Bulbasaur     Grass\n",
       "Ivysaur       Grass\n",
       "Venusaur      Grass\n",
       "Charmander     Fire\n",
       "Charmeleon     Fire\n",
       "Name: Type, dtype: object"
      ]
     },
     "execution_count": 191,
     "metadata": {},
     "output_type": "execute_result"
    }
   ],
   "source": [
    "pokemon = pd.read_csv(\"data\\pokemon.csv\", index_col = \"Pokemon\").squeeze(\"columns\")\n",
    "pokemon.head()"
   ]
  },
  {
   "cell_type": "code",
   "execution_count": 192,
   "id": "d03dfc74",
   "metadata": {},
   "outputs": [
    {
     "data": {
      "text/plain": [
       "Type\n",
       "Water       105\n",
       "Normal       93\n",
       "Grass        66\n",
       "Bug          63\n",
       "Fire         47\n",
       "Psychic      47\n",
       "Rock         41\n",
       "Electric     36\n",
       "Ground       30\n",
       "Poison       28\n",
       "Dark         28\n",
       "Fighting     25\n",
       "Dragon       24\n",
       "Ghost        23\n",
       "Ice          23\n",
       "Steel        22\n",
       "Fairy        17\n",
       "Flying        3\n",
       "Name: count, dtype: int64"
      ]
     },
     "execution_count": 192,
     "metadata": {},
     "output_type": "execute_result"
    }
   ],
   "source": [
    "pokemon.value_counts()"
   ]
  },
  {
   "cell_type": "code",
   "execution_count": 193,
   "id": "284685e2",
   "metadata": {},
   "outputs": [
    {
     "data": {
      "text/plain": [
       "Type\n",
       "Flying        3\n",
       "Fairy        17\n",
       "Steel        22\n",
       "Ghost        23\n",
       "Ice          23\n",
       "Dragon       24\n",
       "Fighting     25\n",
       "Poison       28\n",
       "Dark         28\n",
       "Ground       30\n",
       "Electric     36\n",
       "Rock         41\n",
       "Psychic      47\n",
       "Fire         47\n",
       "Bug          63\n",
       "Grass        66\n",
       "Normal       93\n",
       "Water       105\n",
       "Name: count, dtype: int64"
      ]
     },
     "execution_count": 193,
     "metadata": {},
     "output_type": "execute_result"
    }
   ],
   "source": [
    "pokemon.value_counts(ascending=True)"
   ]
  },
  {
   "cell_type": "code",
   "execution_count": 194,
   "id": "d96d56fa",
   "metadata": {},
   "outputs": [
    {
     "data": {
      "text/plain": [
       "Type\n",
       "Flying     3\n",
       "Fairy     17\n",
       "Steel     22\n",
       "Ghost     23\n",
       "Ice       23\n",
       "Name: count, dtype: int64"
      ]
     },
     "execution_count": 194,
     "metadata": {},
     "output_type": "execute_result"
    }
   ],
   "source": [
    "pokemon.value_counts(ascending=True).head()"
   ]
  },
  {
   "cell_type": "code",
   "execution_count": 195,
   "id": "89fa8e5e",
   "metadata": {},
   "outputs": [
    {
     "data": {
      "text/plain": [
       "Type\n",
       "Grass        66\n",
       "Fire         47\n",
       "Water       105\n",
       "Bug          63\n",
       "Normal       93\n",
       "Poison       28\n",
       "Electric     36\n",
       "Ground       30\n",
       "Fairy        17\n",
       "Fighting     25\n",
       "Psychic      47\n",
       "Rock         41\n",
       "Ghost        23\n",
       "Ice          23\n",
       "Dragon       24\n",
       "Dark         28\n",
       "Steel        22\n",
       "Flying        3\n",
       "Name: count, dtype: int64"
      ]
     },
     "execution_count": 195,
     "metadata": {},
     "output_type": "execute_result"
    }
   ],
   "source": [
    "pokemon.value_counts(sort=False)"
   ]
  },
  {
   "cell_type": "code",
   "execution_count": 196,
   "id": "80c875c1",
   "metadata": {},
   "outputs": [
    {
     "data": {
      "text/plain": [
       "Type\n",
       "Water       0.145631\n",
       "Normal      0.128988\n",
       "Grass       0.091540\n",
       "Bug         0.087379\n",
       "Fire        0.065187\n",
       "Psychic     0.065187\n",
       "Rock        0.056865\n",
       "Electric    0.049931\n",
       "Ground      0.041609\n",
       "Poison      0.038835\n",
       "Dark        0.038835\n",
       "Fighting    0.034674\n",
       "Dragon      0.033287\n",
       "Ghost       0.031900\n",
       "Ice         0.031900\n",
       "Steel       0.030513\n",
       "Fairy       0.023578\n",
       "Flying      0.004161\n",
       "Name: proportion, dtype: float64"
      ]
     },
     "execution_count": 196,
     "metadata": {},
     "output_type": "execute_result"
    }
   ],
   "source": [
    "pokemon.value_counts(normalize=True)"
   ]
  },
  {
   "cell_type": "code",
   "execution_count": 197,
   "id": "c10aea1e",
   "metadata": {},
   "outputs": [
    {
     "data": {
      "text/plain": [
       "Type\n",
       "Water       14.563107\n",
       "Normal      12.898752\n",
       "Grass        9.153953\n",
       "Bug          8.737864\n",
       "Fire         6.518724\n",
       "Psychic      6.518724\n",
       "Rock         5.686546\n",
       "Electric     4.993065\n",
       "Ground       4.160888\n",
       "Poison       3.883495\n",
       "Dark         3.883495\n",
       "Fighting     3.467406\n",
       "Dragon       3.328710\n",
       "Ghost        3.190014\n",
       "Ice          3.190014\n",
       "Steel        3.051318\n",
       "Fairy        2.357836\n",
       "Flying       0.416089\n",
       "Name: proportion, dtype: float64"
      ]
     },
     "execution_count": 197,
     "metadata": {},
     "output_type": "execute_result"
    }
   ],
   "source": [
    "pokemon.value_counts(normalize=True) * 100"
   ]
  },
  {
   "cell_type": "markdown",
   "id": "ff4a9eab",
   "metadata": {},
   "source": [
    "### Exercise: The value_counts Method"
   ]
  },
  {
   "cell_type": "code",
   "execution_count": 198,
   "id": "2aba9e99",
   "metadata": {},
   "outputs": [],
   "source": [
    "# If you see a test failure when checking your solution,\n",
    "# note that [left] refers to YOUR code while [right]\n",
    "# refers to the correct code that the computer is comparing\n",
    "# to your work\n",
    "\n",
    "import pandas as pd\n",
    "\n",
    "# We have a hot_dogs.csv CSV file with 2 columns: Year and Winner.\n",
    "# The dataset stores the winner of the world-famous Nathan's Hot Dog Eating\n",
    "# contest for each year since 1967. You can explore the data by clicking into \n",
    "# the CSV file on the left.\n",
    "#\n",
    "# Import the CSV file into a pandas Series object\n",
    "# The Series should have the standard pandas numeric index\n",
    "# The Series values should be the string values from the \"Winner\" column\n",
    "# Assign the Series object to a \"hot_dogs\" variable\n",
    "#hot_dogs = pd.read_csv(\"hot_dogs.csv\", usecols=[\"Winner\"]).squeeze(\"columns\")\n",
    "\n",
    "\n",
    "# I'm curious how many times each winner has won the hot dog-eating contest.\n",
    "# Create a new Series that shows each person's name (index labels) \n",
    "# and the number of times they've won (the values). What method can\n",
    "# help you generate this Series?\n",
    "# Asssign the Series to a \"names_and_wins\" variable.\n",
    "#names_and_wins = hot_dogs.value_counts()"
   ]
  },
  {
   "cell_type": "markdown",
   "id": "dd9cb10a",
   "metadata": {},
   "source": [
    "### The apply method"
   ]
  },
  {
   "cell_type": "code",
   "execution_count": 199,
   "id": "8e39fbcb",
   "metadata": {},
   "outputs": [
    {
     "data": {
      "text/plain": [
       "Pokemon\n",
       "Bulbasaur     Grass\n",
       "Ivysaur       Grass\n",
       "Venusaur      Grass\n",
       "Charmander     Fire\n",
       "Charmeleon     Fire\n",
       "Name: Type, dtype: object"
      ]
     },
     "execution_count": 199,
     "metadata": {},
     "output_type": "execute_result"
    }
   ],
   "source": [
    "pokemon = pd.read_csv(\"data\\pokemon.csv\", index_col = \"Pokemon\").squeeze(\"columns\")\n",
    "pokemon.head()"
   ]
  },
  {
   "cell_type": "code",
   "execution_count": 200,
   "id": "2932be33",
   "metadata": {},
   "outputs": [
    {
     "data": {
      "text/plain": [
       "Pokemon\n",
       "Bulbasaur     5\n",
       "Ivysaur       5\n",
       "Venusaur      5\n",
       "Charmander    4\n",
       "Charmeleon    4\n",
       "             ..\n",
       "Yveltal       4\n",
       "Zygarde       6\n",
       "Diancie       4\n",
       "Hoopa         7\n",
       "Volcanion     4\n",
       "Name: Type, Length: 721, dtype: int64"
      ]
     },
     "execution_count": 200,
     "metadata": {},
     "output_type": "execute_result"
    }
   ],
   "source": [
    "pokemon.apply(len)"
   ]
  },
  {
   "cell_type": "code",
   "execution_count": 201,
   "id": "ab9258e3",
   "metadata": {},
   "outputs": [],
   "source": [
    "def rank_pokemon(pokemon_type):\n",
    "    if pokemon_type in [\"Grass\", \"Fire\", \"Water\"]:\n",
    "        return \"Classic\"\n",
    "    elif pokemon_type == \"Normal\":\n",
    "        return \"Boring\"\n",
    "    else:\n",
    "        return \"TBD\""
   ]
  },
  {
   "cell_type": "code",
   "execution_count": 202,
   "id": "e68e23ff",
   "metadata": {
    "scrolled": true
   },
   "outputs": [
    {
     "data": {
      "text/plain": [
       "Pokemon\n",
       "Bulbasaur     Classic\n",
       "Ivysaur       Classic\n",
       "Venusaur      Classic\n",
       "Charmander    Classic\n",
       "Charmeleon    Classic\n",
       "               ...   \n",
       "Yveltal           TBD\n",
       "Zygarde           TBD\n",
       "Diancie           TBD\n",
       "Hoopa             TBD\n",
       "Volcanion     Classic\n",
       "Name: Type, Length: 721, dtype: object"
      ]
     },
     "execution_count": 202,
     "metadata": {},
     "output_type": "execute_result"
    }
   ],
   "source": [
    "pokemon.apply(rank_pokemon)"
   ]
  },
  {
   "cell_type": "markdown",
   "id": "9bb0b765",
   "metadata": {},
   "source": [
    "### The map method"
   ]
  },
  {
   "cell_type": "code",
   "execution_count": 203,
   "id": "6a16b438",
   "metadata": {},
   "outputs": [
    {
     "data": {
      "text/plain": [
       "Pokemon\n",
       "Bulbasaur     Grass\n",
       "Ivysaur       Grass\n",
       "Venusaur      Grass\n",
       "Charmander     Fire\n",
       "Charmeleon     Fire\n",
       "Name: Type, dtype: object"
      ]
     },
     "execution_count": 203,
     "metadata": {},
     "output_type": "execute_result"
    }
   ],
   "source": [
    "pokemon = pd.read_csv(\"data\\pokemon.csv\", index_col = \"Pokemon\").squeeze(\"columns\")\n",
    "pokemon.head()"
   ]
  },
  {
   "cell_type": "code",
   "execution_count": 204,
   "id": "c294bbc3",
   "metadata": {},
   "outputs": [],
   "source": [
    "mappings = {\n",
    "    \"Grass\" : \"Classic\",\n",
    "    \"Fire\" : \"Classic\",\n",
    "    \"Water\" : \"Classic\",\n",
    "    \"Normal\" : \"Boring\"\n",
    "}"
   ]
  },
  {
   "cell_type": "code",
   "execution_count": 205,
   "id": "82269264",
   "metadata": {},
   "outputs": [
    {
     "data": {
      "text/plain": [
       "Pokemon\n",
       "Bulbasaur     Classic\n",
       "Ivysaur       Classic\n",
       "Venusaur      Classic\n",
       "Charmander    Classic\n",
       "Charmeleon    Classic\n",
       "               ...   \n",
       "Yveltal           NaN\n",
       "Zygarde           NaN\n",
       "Diancie           NaN\n",
       "Hoopa             NaN\n",
       "Volcanion     Classic\n",
       "Name: Type, Length: 721, dtype: object"
      ]
     },
     "execution_count": 205,
     "metadata": {},
     "output_type": "execute_result"
    }
   ],
   "source": [
    "pokemon.map(mappings)"
   ]
  },
  {
   "cell_type": "code",
   "execution_count": 206,
   "id": "f0b93b65",
   "metadata": {
    "scrolled": true
   },
   "outputs": [
    {
     "data": {
      "text/plain": [
       "Pokemon\n",
       "Yveltal         Dark\n",
       "Zygarde       Dragon\n",
       "Diancie         Rock\n",
       "Hoopa        Psychic\n",
       "Volcanion       Fire\n",
       "Name: Type, dtype: object"
      ]
     },
     "execution_count": 206,
     "metadata": {},
     "output_type": "execute_result"
    }
   ],
   "source": [
    "pokemon.tail()"
   ]
  },
  {
   "cell_type": "code",
   "execution_count": 207,
   "id": "918dc8a3",
   "metadata": {},
   "outputs": [
    {
     "data": {
      "text/plain": [
       "Grass     Classic\n",
       "Fire      Classic\n",
       "Water     Classic\n",
       "Normal     Boring\n",
       "dtype: object"
      ]
     },
     "execution_count": 207,
     "metadata": {},
     "output_type": "execute_result"
    }
   ],
   "source": [
    "mappings = {\n",
    "    \"Grass\" : \"Classic\",\n",
    "    \"Fire\" : \"Classic\",\n",
    "    \"Water\" : \"Classic\",\n",
    "    \"Normal\" : \"Boring\"\n",
    "}\n",
    "mapping_series = pd.Series(mappings)\n",
    "mapping_series"
   ]
  },
  {
   "cell_type": "code",
   "execution_count": 208,
   "id": "5e0bbac9",
   "metadata": {},
   "outputs": [
    {
     "data": {
      "text/plain": [
       "Pokemon\n",
       "Bulbasaur     Classic\n",
       "Ivysaur       Classic\n",
       "Venusaur      Classic\n",
       "Charmander    Classic\n",
       "Charmeleon    Classic\n",
       "               ...   \n",
       "Yveltal           NaN\n",
       "Zygarde           NaN\n",
       "Diancie           NaN\n",
       "Hoopa             NaN\n",
       "Volcanion     Classic\n",
       "Name: Type, Length: 721, dtype: object"
      ]
     },
     "execution_count": 208,
     "metadata": {},
     "output_type": "execute_result"
    }
   ],
   "source": [
    "pokemon.map(mapping_series)"
   ]
  },
  {
   "cell_type": "code",
   "execution_count": null,
   "id": "7ae1566e",
   "metadata": {},
   "outputs": [],
   "source": []
  }
 ],
 "metadata": {
  "kernelspec": {
   "display_name": "Python 3 (ipykernel)",
   "language": "python",
   "name": "python3"
  },
  "language_info": {
   "codemirror_mode": {
    "name": "ipython",
    "version": 3
   },
   "file_extension": ".py",
   "mimetype": "text/x-python",
   "name": "python",
   "nbconvert_exporter": "python",
   "pygments_lexer": "ipython3",
   "version": "3.8.16"
  }
 },
 "nbformat": 4,
 "nbformat_minor": 5
}
